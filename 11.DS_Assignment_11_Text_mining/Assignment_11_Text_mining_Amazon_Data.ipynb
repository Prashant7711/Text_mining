{
  "cells": [
    {
      "cell_type": "code",
      "execution_count": 3,
      "metadata": {
        "colab": {
          "base_uri": "https://localhost:8080/"
        },
        "id": "76c1gjos7anu",
        "outputId": "1d885d1b-b581-455e-f7c4-883506fdb723"
      },
      "outputs": [
        {
          "output_type": "stream",
          "name": "stdout",
          "text": [
            "Looking in indexes: https://pypi.org/simple, https://us-python.pkg.dev/colab-wheels/public/simple/\n",
            "Requirement already satisfied: spacy in /usr/local/lib/python3.8/dist-packages (3.4.4)\n",
            "Requirement already satisfied: pydantic!=1.8,!=1.8.1,<1.11.0,>=1.7.4 in /usr/local/lib/python3.8/dist-packages (from spacy) (1.10.4)\n",
            "Requirement already satisfied: typer<0.8.0,>=0.3.0 in /usr/local/lib/python3.8/dist-packages (from spacy) (0.7.0)\n",
            "Requirement already satisfied: preshed<3.1.0,>=3.0.2 in /usr/local/lib/python3.8/dist-packages (from spacy) (3.0.8)\n",
            "Requirement already satisfied: pathy>=0.3.5 in /usr/local/lib/python3.8/dist-packages (from spacy) (0.10.1)\n",
            "Requirement already satisfied: spacy-legacy<3.1.0,>=3.0.10 in /usr/local/lib/python3.8/dist-packages (from spacy) (3.0.11)\n",
            "Requirement already satisfied: cymem<2.1.0,>=2.0.2 in /usr/local/lib/python3.8/dist-packages (from spacy) (2.0.7)\n",
            "Requirement already satisfied: numpy>=1.15.0 in /usr/local/lib/python3.8/dist-packages (from spacy) (1.21.6)\n",
            "Requirement already satisfied: srsly<3.0.0,>=2.4.3 in /usr/local/lib/python3.8/dist-packages (from spacy) (2.4.5)\n",
            "Requirement already satisfied: setuptools in /usr/local/lib/python3.8/dist-packages (from spacy) (57.4.0)\n",
            "Requirement already satisfied: catalogue<2.1.0,>=2.0.6 in /usr/local/lib/python3.8/dist-packages (from spacy) (2.0.8)\n",
            "Requirement already satisfied: spacy-loggers<2.0.0,>=1.0.0 in /usr/local/lib/python3.8/dist-packages (from spacy) (1.0.4)\n",
            "Requirement already satisfied: jinja2 in /usr/local/lib/python3.8/dist-packages (from spacy) (2.11.3)\n",
            "Requirement already satisfied: smart-open<7.0.0,>=5.2.1 in /usr/local/lib/python3.8/dist-packages (from spacy) (6.3.0)\n",
            "Requirement already satisfied: tqdm<5.0.0,>=4.38.0 in /usr/local/lib/python3.8/dist-packages (from spacy) (4.64.1)\n",
            "Requirement already satisfied: thinc<8.2.0,>=8.1.0 in /usr/local/lib/python3.8/dist-packages (from spacy) (8.1.6)\n",
            "Requirement already satisfied: requests<3.0.0,>=2.13.0 in /usr/local/lib/python3.8/dist-packages (from spacy) (2.25.1)\n",
            "Requirement already satisfied: wasabi<1.1.0,>=0.9.1 in /usr/local/lib/python3.8/dist-packages (from spacy) (0.10.1)\n",
            "Requirement already satisfied: packaging>=20.0 in /usr/local/lib/python3.8/dist-packages (from spacy) (21.3)\n",
            "Requirement already satisfied: langcodes<4.0.0,>=3.2.0 in /usr/local/lib/python3.8/dist-packages (from spacy) (3.3.0)\n",
            "Requirement already satisfied: murmurhash<1.1.0,>=0.28.0 in /usr/local/lib/python3.8/dist-packages (from spacy) (1.0.9)\n",
            "Requirement already satisfied: pyparsing!=3.0.5,>=2.0.2 in /usr/local/lib/python3.8/dist-packages (from packaging>=20.0->spacy) (3.0.9)\n",
            "Requirement already satisfied: typing-extensions>=4.2.0 in /usr/local/lib/python3.8/dist-packages (from pydantic!=1.8,!=1.8.1,<1.11.0,>=1.7.4->spacy) (4.4.0)\n",
            "Requirement already satisfied: urllib3<1.27,>=1.21.1 in /usr/local/lib/python3.8/dist-packages (from requests<3.0.0,>=2.13.0->spacy) (1.24.3)\n",
            "Requirement already satisfied: chardet<5,>=3.0.2 in /usr/local/lib/python3.8/dist-packages (from requests<3.0.0,>=2.13.0->spacy) (4.0.0)\n",
            "Requirement already satisfied: idna<3,>=2.5 in /usr/local/lib/python3.8/dist-packages (from requests<3.0.0,>=2.13.0->spacy) (2.10)\n",
            "Requirement already satisfied: certifi>=2017.4.17 in /usr/local/lib/python3.8/dist-packages (from requests<3.0.0,>=2.13.0->spacy) (2022.12.7)\n",
            "Requirement already satisfied: confection<1.0.0,>=0.0.1 in /usr/local/lib/python3.8/dist-packages (from thinc<8.2.0,>=8.1.0->spacy) (0.0.3)\n",
            "Requirement already satisfied: blis<0.8.0,>=0.7.8 in /usr/local/lib/python3.8/dist-packages (from thinc<8.2.0,>=8.1.0->spacy) (0.7.9)\n",
            "Requirement already satisfied: click<9.0.0,>=7.1.1 in /usr/local/lib/python3.8/dist-packages (from typer<0.8.0,>=0.3.0->spacy) (7.1.2)\n",
            "Requirement already satisfied: MarkupSafe>=0.23 in /usr/local/lib/python3.8/dist-packages (from jinja2->spacy) (2.0.1)\n"
          ]
        }
      ],
      "source": [
        "pip install spacy"
      ]
    },
    {
      "cell_type": "code",
      "execution_count": 4,
      "metadata": {
        "colab": {
          "base_uri": "https://localhost:8080/"
        },
        "id": "5IgZuTpw7e3W",
        "outputId": "6479e12f-4f85-4c81-81e2-28d7ce61ba54"
      },
      "outputs": [
        {
          "output_type": "stream",
          "name": "stderr",
          "text": [
            "/usr/local/lib/python3.8/dist-packages/torch/cuda/__init__.py:497: UserWarning: Can't initialize NVML\n",
            "  warnings.warn(\"Can't initialize NVML\")\n"
          ]
        }
      ],
      "source": [
        "import spacy"
      ]
    },
    {
      "cell_type": "code",
      "execution_count": 5,
      "metadata": {
        "id": "PVVYlPuZ7m-t"
      },
      "outputs": [],
      "source": [
        "import requests\n",
        "from bs4 import BeautifulSoup"
      ]
    },
    {
      "cell_type": "markdown",
      "metadata": {
        "id": "G6W8Kw1hUxhl"
      },
      "source": [
        "# **IMDB Movie** **reviews**"
      ]
    },
    {
      "cell_type": "code",
      "execution_count": 6,
      "metadata": {
        "colab": {
          "base_uri": "https://localhost:8080/"
        },
        "id": "OFe9KpbvU9UA",
        "outputId": "c659a874-7d08-4195-c232-5c8c5154ed27"
      },
      "outputs": [
        {
          "output_type": "stream",
          "name": "stdout",
          "text": [
            "200\n"
          ]
        }
      ],
      "source": [
        "# Extracting the movie reviews from IMDB website\n",
        "\n",
        "url = \"http://www.imdb.com/title/tt3521164/reviews?ref_=tt_urv\"\n",
        "resp = requests.get(url)\n",
        "print(resp.status_code)\n",
        "#print(resp.content)\n",
        "soup = BeautifulSoup(resp.text,\"html.parser\")\n",
        "#soup.prettify()"
      ]
    },
    {
      "cell_type": "code",
      "execution_count": 7,
      "metadata": {
        "colab": {
          "base_uri": "https://localhost:8080/"
        },
        "id": "OMjBSZMLVCEz",
        "outputId": "4103b6c8-bf58-4725-d117-0cd85c119210"
      },
      "outputs": [
        {
          "output_type": "stream",
          "name": "stdout",
          "text": [
            "<class 'bs4.element.ResultSet'>\n"
          ]
        }
      ],
      "source": [
        "reviews = soup.findAll(\"div\", attrs={\"class\",\"text\"})\n",
        "print(type(reviews))\n",
        "for i in range(len(reviews)):\n",
        "    reviews[i] = reviews[i].text"
      ]
    },
    {
      "cell_type": "code",
      "execution_count": 8,
      "metadata": {
        "colab": {
          "base_uri": "https://localhost:8080/",
          "height": 833
        },
        "id": "HxtPgz-uVEup",
        "outputId": "a8a32cae-bb64-45d0-971d-480177db02f1"
      },
      "outputs": [
        {
          "output_type": "execute_result",
          "data": {
            "text/plain": [
              "                                              reviews\n",
              "0   Instant classic.Easily ranks among the best fr...\n",
              "1   Wow, what a great great movie! The visuals in ...\n",
              "2   Despite being a lifelong Disney fan, that is n...\n",
              "3   2016 has been a particularly strong year for a...\n",
              "4   Moana is a return to the classic Disney formul...\n",
              "5   From the opening lyrics to the final shot, Moa...\n",
              "6   As an individual double majoring in Computer S...\n",
              "7   Like most adults, I came to view this film as ...\n",
              "8   I love everything about this movie. The colors...\n",
              "9   It is indeed very rare that I toss a top ratin...\n",
              "10  Moana is elite and poops on Frozen from a grea...\n",
              "11  Funny funny funny. I like the bit where the ch...\n",
              "12  Why this movie has 7.6? Y'all crazy, this is a...\n",
              "13  Henny's Movie Review: Moana (aka Vaiana)In thr...\n",
              "14  Moana is one of the best Disney films of the p...\n",
              "15  Moana is my favorite Disney movie & Disney Pri...\n",
              "16  Maui was one of the best modern Disney movies,...\n",
              "17  This film is an epic in the truest sense and e...\n",
              "18  From the opening lyrics to the final shot, Moa...\n",
              "19  I saw \"Moana\" tonight in the local movie theat...\n",
              "20  I was expecting a standard, manufactured Disne...\n",
              "21  Set on the Polynesian islands of the South Pac...\n",
              "22  This is yet the best disney movie ever made, t...\n",
              "23  I grew up on Disney movies, and now I get to e...\n",
              "24  Hi there,I'm not gonna say much other than tha..."
            ],
            "text/html": [
              "\n",
              "  <div id=\"df-7ffe8c80-c6c9-4af9-82d8-3599166d14a1\">\n",
              "    <div class=\"colab-df-container\">\n",
              "      <div>\n",
              "<style scoped>\n",
              "    .dataframe tbody tr th:only-of-type {\n",
              "        vertical-align: middle;\n",
              "    }\n",
              "\n",
              "    .dataframe tbody tr th {\n",
              "        vertical-align: top;\n",
              "    }\n",
              "\n",
              "    .dataframe thead th {\n",
              "        text-align: right;\n",
              "    }\n",
              "</style>\n",
              "<table border=\"1\" class=\"dataframe\">\n",
              "  <thead>\n",
              "    <tr style=\"text-align: right;\">\n",
              "      <th></th>\n",
              "      <th>reviews</th>\n",
              "    </tr>\n",
              "  </thead>\n",
              "  <tbody>\n",
              "    <tr>\n",
              "      <th>0</th>\n",
              "      <td>Instant classic.Easily ranks among the best fr...</td>\n",
              "    </tr>\n",
              "    <tr>\n",
              "      <th>1</th>\n",
              "      <td>Wow, what a great great movie! The visuals in ...</td>\n",
              "    </tr>\n",
              "    <tr>\n",
              "      <th>2</th>\n",
              "      <td>Despite being a lifelong Disney fan, that is n...</td>\n",
              "    </tr>\n",
              "    <tr>\n",
              "      <th>3</th>\n",
              "      <td>2016 has been a particularly strong year for a...</td>\n",
              "    </tr>\n",
              "    <tr>\n",
              "      <th>4</th>\n",
              "      <td>Moana is a return to the classic Disney formul...</td>\n",
              "    </tr>\n",
              "    <tr>\n",
              "      <th>5</th>\n",
              "      <td>From the opening lyrics to the final shot, Moa...</td>\n",
              "    </tr>\n",
              "    <tr>\n",
              "      <th>6</th>\n",
              "      <td>As an individual double majoring in Computer S...</td>\n",
              "    </tr>\n",
              "    <tr>\n",
              "      <th>7</th>\n",
              "      <td>Like most adults, I came to view this film as ...</td>\n",
              "    </tr>\n",
              "    <tr>\n",
              "      <th>8</th>\n",
              "      <td>I love everything about this movie. The colors...</td>\n",
              "    </tr>\n",
              "    <tr>\n",
              "      <th>9</th>\n",
              "      <td>It is indeed very rare that I toss a top ratin...</td>\n",
              "    </tr>\n",
              "    <tr>\n",
              "      <th>10</th>\n",
              "      <td>Moana is elite and poops on Frozen from a grea...</td>\n",
              "    </tr>\n",
              "    <tr>\n",
              "      <th>11</th>\n",
              "      <td>Funny funny funny. I like the bit where the ch...</td>\n",
              "    </tr>\n",
              "    <tr>\n",
              "      <th>12</th>\n",
              "      <td>Why this movie has 7.6? Y'all crazy, this is a...</td>\n",
              "    </tr>\n",
              "    <tr>\n",
              "      <th>13</th>\n",
              "      <td>Henny's Movie Review: Moana (aka Vaiana)In thr...</td>\n",
              "    </tr>\n",
              "    <tr>\n",
              "      <th>14</th>\n",
              "      <td>Moana is one of the best Disney films of the p...</td>\n",
              "    </tr>\n",
              "    <tr>\n",
              "      <th>15</th>\n",
              "      <td>Moana is my favorite Disney movie &amp; Disney Pri...</td>\n",
              "    </tr>\n",
              "    <tr>\n",
              "      <th>16</th>\n",
              "      <td>Maui was one of the best modern Disney movies,...</td>\n",
              "    </tr>\n",
              "    <tr>\n",
              "      <th>17</th>\n",
              "      <td>This film is an epic in the truest sense and e...</td>\n",
              "    </tr>\n",
              "    <tr>\n",
              "      <th>18</th>\n",
              "      <td>From the opening lyrics to the final shot, Moa...</td>\n",
              "    </tr>\n",
              "    <tr>\n",
              "      <th>19</th>\n",
              "      <td>I saw \"Moana\" tonight in the local movie theat...</td>\n",
              "    </tr>\n",
              "    <tr>\n",
              "      <th>20</th>\n",
              "      <td>I was expecting a standard, manufactured Disne...</td>\n",
              "    </tr>\n",
              "    <tr>\n",
              "      <th>21</th>\n",
              "      <td>Set on the Polynesian islands of the South Pac...</td>\n",
              "    </tr>\n",
              "    <tr>\n",
              "      <th>22</th>\n",
              "      <td>This is yet the best disney movie ever made, t...</td>\n",
              "    </tr>\n",
              "    <tr>\n",
              "      <th>23</th>\n",
              "      <td>I grew up on Disney movies, and now I get to e...</td>\n",
              "    </tr>\n",
              "    <tr>\n",
              "      <th>24</th>\n",
              "      <td>Hi there,I'm not gonna say much other than tha...</td>\n",
              "    </tr>\n",
              "  </tbody>\n",
              "</table>\n",
              "</div>\n",
              "      <button class=\"colab-df-convert\" onclick=\"convertToInteractive('df-7ffe8c80-c6c9-4af9-82d8-3599166d14a1')\"\n",
              "              title=\"Convert this dataframe to an interactive table.\"\n",
              "              style=\"display:none;\">\n",
              "        \n",
              "  <svg xmlns=\"http://www.w3.org/2000/svg\" height=\"24px\"viewBox=\"0 0 24 24\"\n",
              "       width=\"24px\">\n",
              "    <path d=\"M0 0h24v24H0V0z\" fill=\"none\"/>\n",
              "    <path d=\"M18.56 5.44l.94 2.06.94-2.06 2.06-.94-2.06-.94-.94-2.06-.94 2.06-2.06.94zm-11 1L8.5 8.5l.94-2.06 2.06-.94-2.06-.94L8.5 2.5l-.94 2.06-2.06.94zm10 10l.94 2.06.94-2.06 2.06-.94-2.06-.94-.94-2.06-.94 2.06-2.06.94z\"/><path d=\"M17.41 7.96l-1.37-1.37c-.4-.4-.92-.59-1.43-.59-.52 0-1.04.2-1.43.59L10.3 9.45l-7.72 7.72c-.78.78-.78 2.05 0 2.83L4 21.41c.39.39.9.59 1.41.59.51 0 1.02-.2 1.41-.59l7.78-7.78 2.81-2.81c.8-.78.8-2.07 0-2.86zM5.41 20L4 18.59l7.72-7.72 1.47 1.35L5.41 20z\"/>\n",
              "  </svg>\n",
              "      </button>\n",
              "      \n",
              "  <style>\n",
              "    .colab-df-container {\n",
              "      display:flex;\n",
              "      flex-wrap:wrap;\n",
              "      gap: 12px;\n",
              "    }\n",
              "\n",
              "    .colab-df-convert {\n",
              "      background-color: #E8F0FE;\n",
              "      border: none;\n",
              "      border-radius: 50%;\n",
              "      cursor: pointer;\n",
              "      display: none;\n",
              "      fill: #1967D2;\n",
              "      height: 32px;\n",
              "      padding: 0 0 0 0;\n",
              "      width: 32px;\n",
              "    }\n",
              "\n",
              "    .colab-df-convert:hover {\n",
              "      background-color: #E2EBFA;\n",
              "      box-shadow: 0px 1px 2px rgba(60, 64, 67, 0.3), 0px 1px 3px 1px rgba(60, 64, 67, 0.15);\n",
              "      fill: #174EA6;\n",
              "    }\n",
              "\n",
              "    [theme=dark] .colab-df-convert {\n",
              "      background-color: #3B4455;\n",
              "      fill: #D2E3FC;\n",
              "    }\n",
              "\n",
              "    [theme=dark] .colab-df-convert:hover {\n",
              "      background-color: #434B5C;\n",
              "      box-shadow: 0px 1px 3px 1px rgba(0, 0, 0, 0.15);\n",
              "      filter: drop-shadow(0px 1px 2px rgba(0, 0, 0, 0.3));\n",
              "      fill: #FFFFFF;\n",
              "    }\n",
              "  </style>\n",
              "\n",
              "      <script>\n",
              "        const buttonEl =\n",
              "          document.querySelector('#df-7ffe8c80-c6c9-4af9-82d8-3599166d14a1 button.colab-df-convert');\n",
              "        buttonEl.style.display =\n",
              "          google.colab.kernel.accessAllowed ? 'block' : 'none';\n",
              "\n",
              "        async function convertToInteractive(key) {\n",
              "          const element = document.querySelector('#df-7ffe8c80-c6c9-4af9-82d8-3599166d14a1');\n",
              "          const dataTable =\n",
              "            await google.colab.kernel.invokeFunction('convertToInteractive',\n",
              "                                                     [key], {});\n",
              "          if (!dataTable) return;\n",
              "\n",
              "          const docLinkHtml = 'Like what you see? Visit the ' +\n",
              "            '<a target=\"_blank\" href=https://colab.research.google.com/notebooks/data_table.ipynb>data table notebook</a>'\n",
              "            + ' to learn more about interactive tables.';\n",
              "          element.innerHTML = '';\n",
              "          dataTable['output_type'] = 'display_data';\n",
              "          await google.colab.output.renderOutput(dataTable, element);\n",
              "          const docLink = document.createElement('div');\n",
              "          docLink.innerHTML = docLinkHtml;\n",
              "          element.appendChild(docLink);\n",
              "        }\n",
              "      </script>\n",
              "    </div>\n",
              "  </div>\n",
              "  "
            ]
          },
          "metadata": {},
          "execution_count": 8
        }
      ],
      "source": [
        "# Creating a data frame \n",
        "import pandas as pd\n",
        "movie_reviews = pd.DataFrame(reviews, columns = [\"reviews\"])\n",
        "movie_reviews"
      ]
    },
    {
      "cell_type": "code",
      "execution_count": 9,
      "metadata": {
        "colab": {
          "base_uri": "https://localhost:8080/"
        },
        "id": "JjZuAEd9VHa2",
        "outputId": "8b6981c2-6215-4e94-97cb-298adea932fe"
      },
      "outputs": [
        {
          "output_type": "execute_result",
          "data": {
            "text/plain": [
              "(25, 1)"
            ]
          },
          "metadata": {},
          "execution_count": 9
        }
      ],
      "source": [
        "movie_reviews.shape"
      ]
    },
    {
      "cell_type": "code",
      "execution_count": 10,
      "metadata": {
        "id": "HpE9FjTNVL82"
      },
      "outputs": [],
      "source": [
        "import string \n",
        "import spacy\n",
        "from matplotlib.pyplot import imread\n",
        "import matplotlib.pyplot as plt\n",
        "import seaborn as sns"
      ]
    },
    {
      "cell_type": "code",
      "execution_count": 11,
      "metadata": {
        "id": "8CWGCOEoVNoS"
      },
      "outputs": [],
      "source": [
        "movie_reviews = [reviews.strip() for reviews in movie_reviews.reviews]"
      ]
    },
    {
      "cell_type": "markdown",
      "metadata": {
        "id": "hDnbO67aVRif"
      },
      "source": [
        "# **Preprocessing the text**"
      ]
    },
    {
      "cell_type": "code",
      "execution_count": 12,
      "metadata": {
        "colab": {
          "base_uri": "https://localhost:8080/"
        },
        "id": "ad2BrvpnVVRj",
        "outputId": "50ed69f8-2a2b-4a4f-cf4d-f1c53bbb6cc4"
      },
      "outputs": [
        {
          "output_type": "execute_result",
          "data": {
            "text/plain": [
              "['Instant classic.Easily ranks among the best from the Disney Studio, and a very worthy successor to Mulan 1998, a similar story equally well done.Oddly also seems to be best work ever from Dwayne Johnson, perhaps not the first name I would have associated with \"voice acting,\" but a star turn nonetheless.If you want to be picky -- which is the reviewer\\'s job, after all -- the momentum slows a little at the top of the third act, but the ultimate themes of redemption, forgiveness and self-discovery at the finale are an absolute joy.As they used to say, \"for children of all ages.\"((Designated \"IMDb Top Reviewer.\" Please check out my list \"167+ Nearly-Perfect Movies (with the occasional Anime or TV miniseries) you can/should see again and again (1932 to the present))',\n",
              " \"Wow, what a great great movie! The visuals in this movie are breathtaking!! They are so gorgeous! But, besides the visuals there is such a heart and imagination and creativity to this movie. Moana is such a likable, smart, and relatable person. the voice work for Moana is so sweet and so good. The chemistry between Moana and Maui is so great and so natural. The songs in this movie are so charming, catchy and fun! But, How Far I'll Go is such an emotional song and it has such heart...I dare say I like it a little more than Let It Go! The way Moana sings it and you can feel it!! Wow, I just looved this movie and it is great for kids and adults. I will always love it and I wanna see it again!\",\n",
              " 'Despite being a lifelong Disney fan, that is not to say that everything they\\'ve done is great. They\\'ve done many classics, their best revolutionary, though they had hit and miss periods in the 80s and the 2000s.\\'Enchanted\\' and \\'The Princess and the Frog\\' saw a return to form, while the likes of \\'Tangled\\', \\'Wreck It Ralph\\', \\'Zootropolis\\' (aka \\'Zootopia\\') and \\'Frozen\\' were even better and there was a lot to like too about \\'Big Hero 6\\'. Of the \"2nd Renaissance\"/\"Disney Revival\" period, \\'Moana\\' is up there with the best of them and as one of Disney\\'s best in about twenty years.Maybe the momentum dips ever so slightly going into the final act, Maui\\'s change of heart is a touch rushed and for me there was no real point to the pig character that induced more unintentional awkwardness than amusement. It was however difficult to fault \\'Moana\\', because of how many things it did right and how brilliantly the things it did right were executed. There have been criticisms regarding a formulaic story, HeiHei the chicken being irritating and the portrayal of Maui being stereotypical, but these were criticisms that didn\\'t bother me at all.Firstly, the animation is phenomenal. Disney\\'s best-looking film in a long time and one of their best-ever looking films, not just this but perhaps the most visually exquisite animated film this year in a year that also saw \\'Your Name\\', \\'Kubo\\' and \\'Zootropolis\\' and even one of the year\\'s best-looking films. The attention to detail is impossible to fault, whether it\\'s the water, the trees or even Maui\\'s tattoos, while the colours just pop out at you and everything is immaculately detailed with not an ounce of artificiality in the backgrounds, further boasting visually stunning sequences such as the climax, \"We Know the Way\", \"Shiny\" and with the coconut pirates.The soundtrack has garnered a huge amount of praise, and for good reason. Love the evocative orchestration and instrumentation, with its seamless blend of South Pacific Culture, pop and Broadway. Likewise with the songs, which are along with \\'Frozen\\' the best and most consistent set of songs from a Disney film since \\'The Hunchback of Notre Dame\\'. \"How Far I\\'ll Go\" is an \"I want\" sort of song that\\'s infectious, heartfelt and inspiring. \"You\\'re Welcome\" sees Dwayne Johnson showing a quite wide range of emotions through a surprisingly good singing voice. \"Shiny\" is deliciously kooky and like something that David Bowie would be proud of, Jemaine Clement sings the heck out of it. \"We Know the Way\" sends chills up the spine.Scripting-wise, \\'Moana\\' encompassed a wide emotional range within me. There is something for everybody, never too complicated for children and never too childish for adults, tonally it\\'s focused throughout, and it\\'s very witty and thought-provoking. Throughout there are many opportunities to laugh, cry and be inspired. The story is, while not exactly original, beautifully paced and enthralling.The whole Polynesian culture, faith and seafaring traditions included and explored generously but in a way that feels part of the story rather than just thrown in, and while there are elements that reminds one of Disney past and present this feels more affectionate than Disney just running out of ideas. The coconut pirates scene may seem like filler, but instead of being incidental and dull filler it was entertaining and visually dazzling, while the musical numbers bring the storytelling forward and say much about the characters\\' motivations and the climax is hair-raising.Moana is has now joined the list as one of my favourite female Disney characters, while Maui is a fun, compelling character and the chemistry between the two being a large part of the film\\'s humour and heart. Personally found myself entertained by HeiHei and that his existence and role in the story were justified. If anybody does find him dumb or annoying, this is a rare of those not being bad things for a character clearly intended to be that way from reading up about the film. The voice acting is top notch, with Auli\\'i Cravalho making a startling debut (voice and singing, goodness she has pipes). Dwayne Johnson, on paper an unlikely and eyebrow-inducing choice, is also splendid, as an actor he\\'s grown a lot, while Alan Tudyk is amusingly zesty and Jemaine Clement bringing gleefully kooky menace.In summary, knocks it out of the park in visual beauty and sheer entertainment value, Disney does it again with their latest classic \\'Moana\\'. 9/10 Bethany Cox',\n",
              " '2016 has been a particularly strong year for animated films. With the likes of Zootopia, Finding Dory and Kubo & The Two Strings all vying for best animated picture of the year, it seems Moana deserves to be mentioned in the same breath as well. It\\'s no fluke that out of the four movies I just mentioned, 3 of them belong under the house of the mouse.Legend has it that demigod Maui stole a sacred stone, the heart of the goddess Te Fiti. The lava demon confronted him and both the heart and Maui were lost forever. Now, the world is slowly dying and someone must find the heart and force Maui to put it back. But who is this chosen one? It might be Moana, a Polynesian girl who is suppose to be taking over as chief of her tribe, but longs to sail beyond the reef. Featuring new comer Auli\\'i Carvalho as Moana and the most electrifying man in sports entertainment, Dwayne \\'The Rock\" Johnson, as the demigod Maui. It\\'s not surprising that I found myself tapping my feet to the songs in this film because Lin-Manuel Miranda, creator of Hamilton, shares his talent with this film. I can easily see any one of the songs in this piece going up for and winning Best Original Song, giving the man the O in the prestigious PEGOT award circle. He currently has a Pulitzer, Emmy, Tony and Grammy, among more. The songs here remind me of the old-school Disney songs, easy to listen to, fun to play on repeat and important to the story. At first, I felt it was a little too on the nose with some of the lyrics, but eventually he won me over and I\\'ve been listening to the soundtrack ever since. The film itself might lack some of the intricacies of plot heavy films like Zootopia, but this journey story is entertaining and heartfelt. The vibrant colours of the green islands and the blue sea help propel the film above and beyond what some others films have to offer. The animation takes a nice little turn for the creative when the characters find themselves under the sea in a side villains lair. We are treated with some bioluminescent sequences with another catchy tune not far behind. Johnson is stellar as Maui, he seems completely comfortable in a voice acting role and surprisingly has the chops to sing a tune. Newcomer Auli\\'i Carvalho holds her own against a star like Johnson and she really gives a strong voice to a driven female character. I applaud that Disney didn\\'t feel the need to shoehorn in a love story either. This is a tale about self discovery, not some young woman needing to find a man. Disney nods and respects their past while looking to the future with Moana. Princesses no longer need to be the \\'love\\' goal of a man. Moana is a visually beautiful film with great songs and a strong female lead character. There are some visually gags for the kids and a great time for adults. Moana is a great film.',\n",
              " \"Moana is a return to the classic Disney formula, the clichés and characters ripped from a number of other animated films. However, the pure beauty and skill of the production rises the old story into new heights.Following from the success of Zootropolis, Moana follows a more traditional narrative we know and love; the princess who wishes for something more and is whisked on a supernatural adventure. We know this story so well yet Moana seems fresh and thrilling as if the plot was innovative. Perhaps this is due to the Polynesian setting or the morally ambiguous Maui, played perfectly by Dwayne Johnson, but most likely it is it the simple magic of Disney – the wonder for both children and adults has reached its peak with the perfection of the classic formula. For once, the clichés make the film more enjoyable. The quality of the animation helps too: it's clear they have reached the pinnacle of blending realistic textures with stylised designs, creating an aesthetic beauty that few other companies can match – Disney have mastered water to the point it looks better animated than in real life! Even the music has been perfected here, the annoying catchiness of Frozen's tunes replaced by memorable but effective songs that fit the culture and setting of our adventure. A childlike warmth was awakened in me and many other adult members of the audience as the film brought the emotional highs of the Disney renaissance without the modern subversion of the classic tropes. While Moana sometimes threatens this with pop culture references, the film thankfully keeps to mostly traditional values and morals; a step above many children's animated films released today.Moana is good, old fashioned Disney magic; the traditional narrative and morals updated with stellar animation and an awareness that's effective but never overpowering enough to threaten the integrity of the Disney formula.SWEETVisit https://sweetorsaltedmoviereviews.com/ for more.\",\n",
              " \"From the opening lyrics to the final shot, Moana was a fun glimpse into Polynesian life. Reminds me of Spirit: Stallion of the Cimarron with its depiction of tribal peoples, people who depend on the land and environment to live. As one of the several catchy songs say, the island gives them everything they need. No need to go beyond the reef.I'm glad that Moana and Zootopia, Disney's two most recent feature films, humorously refer to the archetypal Disney traits that appear in film after film -- i.e. an animal sidekick, the heroine bursting into song, following your dreams. Even if they do year after year, it never gets old. (... Well, maybe a little bit. I'm actually jaded by the happy ending trope in practically every work of film, literature, etc. out there. But that's beside the point.) Even if you can predict the ending of Moana, it's not quite what you expected. Disney has recently been changing things up a bit and having creative endings. Frozen, for example. Even if they weren't slightly creative, the story still enacts the Disney magic -- the ability to inspire, motivate, uplift, and ultimately enlighten further on mankind's communal desire to go beyond the norm. You don't have to do something amazing to make a name for yourself. It's not the hook that defines you, it's what you do that defines you and makes you who you are. Just don't follow hard tradition all the time. If someone says you can't achieve your dreams, he/she is most likely right. HOWEVER. That's only true if you don't give it your all. Those right now who are living their dreams gave it their all. If it's something you really want, after all, then naturally you'll give it the necessary effort and force of will. It won't be easy; life wasn't meant to be easy.It's not as amazing as Zootopia, but Moana is still a genuinely good Disney movie. It has a superb single, a nice accompanying soundtrack, great characters, sublime animation with crystal- clear attention to detail, and wonderful themes and messages. I admit, I was expecting too much from Moana after seeing Zootopia, which is probably why I give Moana a 9. Zootopia hits the 10. If you haven't seen either one, I recommend seeing Moana first.\",\n",
              " 'As an individual double majoring in Computer Science and Creative Writing (with a focus on screenplays) I have to say that Moana was one of the best Disney Movies that I have ever watched! In fact, I was astonished by its storyline along with its animations that it became one of my favorite movies and ended up buying my own Moana doll for Christmas!SPOILERS: In particular, I truly enjoyed the scenes where Moana gained the confidence to go out there and voyage into the sea even though her dad Tui wanted her to focus on being the chief for her people. The first time she went out didn\\'t end so well (I was laughing so hard when Moana\\'s Grandma said that whatever she did that she blamed in on the pig, Pua, which in fact, is one of the most adorable characters that Disney has ever created!), but I admire the confidence that she showed. This confidence showed me that we as individuals are truly individuals. I also loved the scene where Maui was trying to turn into the Hawk when he and Moana were trying to get the hook from Tamatoa\\'s shell. It was hilarious to see him turn from a fish, to a shark, then a chameleon etc, then finally back to his human form. It made it even funnier when Tamatoa was saying that Maui was having trouble with his look as he was singing \"Shiny.\"All and all, I can\\'t think of anything wrong with this movie. This is one of the Disney Movies that I can watch over and over again!',\n",
              " \"Like most adults, I came to view this film as a result of having two small children. However, I was very pleasantly surprised by the film, and my kids loved it.Let me start by saying that the original music for the film was outstanding. When watching Disney, you expect it to be good, but the soundtrack is amazing. The animation in the film was also what you'd expect from Disney...superb.Now as far as the plot goes. You have a heroine, and what I feel is the first real heroine in all of the animated films that I've watched. Most films make a forced effort to show girls that they can also excel and be whoever they choose. Moana takes a girl, who's also a princess by the way but an ordinary one, and allows her to truly explore, achieve, and save the world not through magic, extraordinary power or luck, but through hard work and perseverance. She is real. Maui is also the perfect comic relief and the Rock does an excellent job in this roll.My kids want to watch it again and so do I.\",\n",
              " 'I love everything about this movie. The colors, the setting and the characters, all good to my eyes!',\n",
              " 'It is indeed very rare that I toss a top rating at an animated movie, but \"Moana\" definitely deserves that.The storyline in \"Moana\" was quite good and rather thrilling. It is a storyline that appeals to both a younger and older audience, because the story is timeless and has classic elements of good versus evil and the uprising of an unlikely underdog heroine. But it is also the story of friendship, forgiveness and acceptance.Shortly summarized, \"Moana\" is about young Moana whom is the daughter of the chieftain of a dying island. She goes against the edicts of the tribe and sail out beyond the reef to search for a demigod who has the power to set things right.The animation and the art style in \"Moana\" was just spectacular. There was just something very alluring and beautiful to the particular style that was used for this animated movie. And the levels of detail was just bedazzling. There were so many impressive details in every scene, and it looked so very real. I was especially impressed with the hair and the way that they had drawn the characters. Moana was very charismatic, while Maui was lovable.\"Moana\" also has some good dialogue that keeps the movie up in a constant beat, well assisted by a good amount of action and storytelling.And while were are on the topic of dialogue, then \"Moana\" had some really good voice acting talents on the cast ensemble. Auli\\'i Cravalho really did a wonderful job, and she is quite talented. It was also a treat to have Dwayne Johnson do the voice for the demigod Maui. I didn\\'t know that Alan Tudyk also voices a character in this movie.There is a fair amount of singing in this animated movie too, and it actually worked quite well in favor of the movie, for different reasons. The first being that the songs were quite appropriate for the story and fit naturally into the movie. The songs are also quite nicely orchestrated and performed. Usually, I am not overly keen on songs in animated movies, but \"Moana\" did it quite as well as \"The Little Mermaid\" did back in 1989.I was instantly blown away by the comedic element of the chicken that came along on the oceanic journey. That chicken was just downright hilarious and really spiced up the movie quite a lot, pardon the pun.As I mentioned in the start of my review, then it is very rare that I give a top rating for an animated movie, and only have done so once before to \"Epic\". But \"Moana\" ranks up alongside with it, because this is a fantastic animated movie in every sense of the word. I watched it with my family, and we all loved the movie and were very entertained by it.This is definitely an animated movie that is well-worth watching and this is a movie that rightfully belongs in the collection of anyone who enjoys animated movies. And this is an animated movie that you can watch more than just once.',\n",
              " 'Moana is elite and poops on Frozen from a great heightFight me.',\n",
              " 'Funny funny funny. I like the bit where the chicken caught on fire.',\n",
              " \"Why this movie has 7.6? Y'all crazy, this is a great movie, with amazing music. Yes is not perfect portrayal of polynesian culture and that's usually never the point with Disney movies.\",\n",
              " 'Henny\\'s Movie Review: Moana (aka Vaiana)In three words: A Fun Movie.With Pixar dropping the ball lately it is good to see that Disney is picking it up with great movies like, Tangled, Zootopia and now Moana. Yes, they made a mediocre over-hyped movie named Frozen, read my previous review for my thoughts about that movie. Moana really doesn\\'t disappoint it has a good pacing, a great cast, and it is BEAUTIFUL. I could just leave my review at this and tell you to go and watch this movie, but let\\'s see \"How Far I\\'ll Go\".Moana is a story that takes place in Ancient Polynesia, when a curse reaches the island Mata Nui a chieftain\\'s daughter is determined to go on a journey, to find a demigod named Maui in order to stop the curse.Like most Disney movies this is a coming of age story. Moana is a chieftain\\'s daughter who is struggling with her love for her people and her love for the ocean. She is determined and a strong character. It is wonderful to see her grow and find herself throughout the movie. She is voiced by Auli\\'I Cravaljo and it fits like a glove, perfect love her accent. Moana is joined by a demigod named Maui. He starts out as an egotistical/funny character but we quickly learn why and see him change for the better. He is voiced by Dwayne \"The Rock\" Johnson and if you know The Rock YOU know what to expect. You can never go wrong with The Rock.Other supporting characters were there to setup the plot and exposition.The music, as expected, was typically Disney which is a good thing because I love Disney songs. After the movie you just can\\'t get it out of your head. All the scores were very good. It did the basics like underscoring a scene but it also carried the movie for a huge part.The three-act-structure. Moana has a great beginning, good middle, and a great ending. Furthermore, the pacing of this movie is fast in a good way. It doesn\\'t hold on to a scene for too long and the movie knows when to cut.The cinematography was beautiful it really shows that the creators have done their research. I love the bright colors and gorgeous sceneries. It would appear that Disney\\'s new approach to movie making is starting to pay-off, by remaking their old animated movies into real-life and mocking their old movies with their new 3d-animated movies, they are breathing new life into their movies. As aforementioned in the introduction Moana is a must see movie that won\\'t disappoint.I give this movie a 8.5.',\n",
              " \"Moana is one of the best Disney films of the past decade, it is sure to soften many hearts with its gorgeous storytelling and fantastic songs, it's also absolutely hilarious.\",\n",
              " 'Moana is my favorite Disney movie & Disney Princess! I love the animation & the beauty of every movement. The story is empowering & inspiring! Moana is the bravest Disney Princess!',\n",
              " \"Maui was one of the best modern Disney movies, and he was the undisputed best character in the movie The rock performance was excellent and was befitting the character and Moana's character was good, the comedy in the film was excellent The story of the film was very good The graphics and the design of the characters in the movie was great The songs of the film were beautiful.\",\n",
              " 'This film is an epic in the truest sense and easily one of Disney\\'s best \"Big Films\".It follows the classic \"quest\" type story of a girl growing up feeling she\\'s destined for more than her quiet life and eventually finding she\\'s the chosen one to go on a mission to save the world, but how it gets there is awe inspiring.The animation is second to none, at one point I had to do a double take that they didn\\'t mix in a live action character. Thinking back to the original Toy Story, things have certainly come far.Unlike other Disney movies (and most movies in fact), Moana is perfectly capable of pursuing her goals completely by herself and doesn\\'t have a love interest, which I think may be a first for a Disney film (it\\'s actually a lot closer to a Miyazaki film in the way the hero is portrayed).The soundtrack is also exceptional, so much so that my 5 year old girl made me order the album after the film. The entire score evokes a sense of adventure and riding over the waves and is simply sublime.To sum up how good this film is, it was the second movie in which I\\'ve ever witnessed the theatre audience erupting into a round of applause when the credits rolled (the first was Interstellar).The movie no doubt has some flaws, but I\\'m giving it a 10 to balance out some unreasonably negative reviews on here, some of which read like they were written by people who have no seen the movie.',\n",
              " \"From the opening lyrics to the final shot, Moana was a fun glimpse into Polynesian life. Reminds me of Spirit: Stallion of the Cimarron with its depiction of tribal peoples, people who depend on the land and environment to live. As one of the several catchy songs say, the island gives them everything they need. No need to go beyond the reef.I'm glad that Moana and Zootopia, Disney's two most recent feature films, humorously refer to the archetypal Disney traits that appear in film after film -- i.e. an animal sidekick, the heroine bursting into song, following your dreams. Even if they do year after year, it never gets old. (... Well, maybe a little bit. I'm actually jaded by the happy ending trope in practically every work of film, literature, etc. out there. But that's beside the point.) Even if you can predict the ending of Moana, it's not quite what you expected. Disney has recently been changing things up a bit and having creative endings. Frozen, for example. Even if they weren't slightly creative, the story still enacts the Disney magic -- the ability to inspire, motivate, uplift, and ultimately enlighten further on mankind's communal desire to go beyond the norm. You don't have to do something amazing to make a name for yourself. It's not the hook that defines you, it's what you do that defines you and makes you who you are. Just don't follow hard tradition all the time. If someone says you can't achieve your dreams, he/she is most likely right. HOWEVER. That's only true if you don't give it your all. Those right now who are living their dreams gave it their all. If it's something you really want, after all, then naturally you'll give it the necessary effort and force of will. It won't be easy; life wasn't meant to be easy.It's not as amazing as Zootopia, but Moana is still a genuinely good Disney movie. It has a superb single, a nice accompanying soundtrack, great characters, sublime animation with crystal- clear attention to detail, and wonderful themes and messages. I admit, I was expecting too much from Moana after seeing Zootopia, which is probably why I give Moana a 9. Zootopia hits the 10. If you haven't seen either one, I recommend seeing Moana first.\",\n",
              " 'I saw \"Moana\" tonight in the local movie theater. I have been wanting to see it since Thanksgiving and expected the audience to be few. To my amazement the cinema was almost full, and I can see why. \"Moana\" is a fabulous movie--it will certainly leave you crying and smiling. I would imagine most of the folks in the audience now have seen it 3 or 4 times. I served a number of years in the Army in Hawaii, so I was attracted to the movie for that reason, and it was certainly a great movie going experience. The animated graphics capture the magic and beauty of Polynesia, the land and the ocean. And the story is a lot of fun. Highly recommended for all ages.',\n",
              " \"I was expecting a standard, manufactured Disney Princess item. What I encountered was a powerful embodiment of myth in a young woman, with the notable exceptions of the coconut pirate and glittery crab sequences. These were conceived and directed by others. I suppose many commenters will speak to the different appealing techniques used here. I'll just speak to the visual narrative nesting because I've been tracking this from Lassiter's early work.The simplest example of this nesting is when two-d hand drawn animation is embedded in the three-d world. I believe that over time, a law of proportional abstraction has developed. When this works, we may see a film that has an inner film of some kind that is more abstract. The cinematic effect is to set the 'distance' between us and the main film. That is, we have a sort of quantum imagination where the simplifications we negotiate with a filmmaker are recorded in what he/she shows us as simplifications the movie's characters make with inner 'films. Showing us those inner films is a part of the filmmaker-viewer agreement. We do have that here with the depiction of Te Fiti and especially Te Ka, with the visions Moana has, rendered in decades old conventions. But something new is here: the story starts with literal story panels in animated tapa cloths that tell the outer story about the gods, demigod and the natural laws we will live in. That inner story is rendered in lovely, textured three-d using the now standard conventions of super-reality to register as real. But inside THAT story is the same two-d conventions in the demigod's living tattoos. While the 3-d flow moves through the future, the two-d panels not only remind us of the past and the world's dynamics but directly interact with the characters.The refreshing novelty here is that the tattoo/tapas cloth effect is used for the reverse purpose. The common distance is maintained, but in this case there are not three layers (our world, the movie, the movie within) but two: our world as the same as Moana's and the 'movie' world as the myth, the tattoo and mystical/god world. I think this is why the movie, the main movie with her life played out in it, seemed so close to me emotionally. Masters of cinematic engineering. See this: 3 of three.\",\n",
              " 'Set on the Polynesian islands of the South Pacific. 2016\\'s \\'Moana\\', explore the expedition of a young woman, Moana (Voiced by Auli\\'i Cravalho), who is chosen by the ocean itself to reunite a mystical life-breathing relic with an island goddess, Te Fiti, when it was stolen by the Demigod Maui (Voiced by Dwayne \\'The Rock\\' Johnson). Without spoiling this fictional movie written and directed by John Musker and Ron Clements, too much; though the film heavily influenced by Polynesian\\'s history, myths, & culture, it is not directly based on any specific native tribe like the 1926\\'s documentary film of the same name. Instead, the film takes specific cultural elements from a variety of native Pacific groups and incorporates them into one generalized portrayal of Polynesian culture, in order to make the audience member to identity the story better. Because of that, certain critics has accuse Disney of cultural misappropriation & exploitation, suitable to spur a profitable capitalist enterprise of music, celebrities and merchandise. While, this is somewhat true. I don\\'t think, Disney had much of a choice. They had to avoid setting off cultural taboos. It was lose-lose catch 22 situation. Somebody was bound to get offended, regardless. However, I don\\'t think, this musical is as degrading as certain people make it out to be. It\\'s pretty harmless, compare to other tropical musicals like 1958\\'s \\'South Pacific\\' whom portray its island people as ugly snake oil-sellers, hags who gives give away their really young daughters to military servicemen to screw. If anything, \\'Moana\\' gives a more positive light. Still, some of the characters of the film were drawn, very insensitive. Maui did look like an obese \"half pig half hippo\" man. He did look kinda offensive. Still, much of that blame, come from the Walt Disney Animation Studios animators trying to lighten their load, by replicate the same awkward-looking art style that their 2002\\'s animation film \\'Lilo & Stich\\' was doing, over 14 years ago. Even back then, not a lot of people were fans of the big nose, the huge tights, oddly body structure, and alien-like eyes, type of a drawing for islanders. So, I really don\\'t know, why they try to copy it. I guess, they wanted to focus more on other drawings like the supernatural elements designs. Even with that, those drawings also felt a little too familiar. If anything, the spirits looks like Disney recycling artwork that was previous, used in films like 2000\\'s \\'Fantasia 2000\\' & 2014\\'s \\'Lava\\'. As for animal sidekicks. As much as I love Hei Hei (Voiced by Alan Tudyk) & Pua. They really weren\\'t needed. It did felt, unneeded animation. Despite that, at least, the island CGI background visuals for \\'Moana\\' were breath-taking beautiful. There is no better example of that, then the \\'Where you are\\' & \\'We Know the Way\\', musical sequences. The other visuals like the action sequences, were equally done well. I just wish this Polynesian Prometheus/Odyssey-like fantasy story was told a little better to match the visuals. The action scenes in this film seem a bit force. Plus, it doesn\\'t make much sense. After all, I get that, Moana was chosen by the water spirit; because how much, she cares about aquatic-life, but it doesn\\'t explain, why the supernatural entity couldn\\'t just do the task, itself. Nor does it explain why, the ocean tries to kill Moana with storms, sea-monsters, and lead them into conflicts with sea raiders, in the course of the film. Did the demigod actions make the ocean, bio-polar, as well? Also, what was the point of even having Maui around? He really doesn\\'t do much; besides put Moana in danger. Let\\'s not overlook that Maui also tried to kill Moana by locking her in a cave to die & trying to drown her in the middle of the ocean. Hero!? He\\'s more like the villain. Another thing about the story, is that much of the flashbacks, book-reading and dream cave sequences could had been cut down in editing. All of them, felt a little too much like filler. The movie tends to repeat itself, multiply times; explaining, how Moana\\'s people were, once- island voyagers, before Maui, cause the ocean to become too dangerous; despite the fact, the ocean, somewhat helps them. All the exposition dump come across, tiresome and very jarring. Another thing, that hurts the movie is the fact that the story of a young native princess tries to break free from the strict confines of her society by seeking out, a mysterious stranger in order to save her land, sounds a little too familiar. After all, we seen heroine\\'s adventures like this, before, in half a dozen, Walt Disney Animation Studios films like 1995\\'s \\'Pocahontas\\'. Even acclaim Pixar films like 2012\\'s \\'Brave\\' had these well-worn elements. Don\\'t get me wrong, it\\'s doesn\\'t make \\'Moana\\' into a bad movie, but its presenting nothing, groundbreaking. In the end, this movie in a couple years, might not stand out, as much, as other films from this generation. Despite that, the movie does offer positive messages for younger viewers, about self-discovery and empowerment. And Moana herself is a great role model, demonstrating perseverance, curiosity, and courage, even when face with danger. Cravalho perform her, very well. She is a great singer and has a passable voice. As for Johnson, not so much. His performance was more mediocre, because how dial down, his personality was. However, Johnson does sings one of the catchiest songs in the movie, \"You\\'re Welcome\"; which is a plus. Besides that song, the funniest song is \"Shiny,\" sung by Jemaine Clement; which also really fun to listen to; along with the power ballad, \\'How far I\\'ll go\\'. All great songs, courtesy of creator Lin-Manuel Miranda. All this music, makes \\'Moana\\' soundtrack, worth listening to. Overall: Although. \\'Moana\\' has many big flaws. It still was entertaining. \\'Moana\\' is truly an adventure worth sailing for. So check it out.',\n",
              " 'This is yet the best disney movie ever made, the animation, screenplay,sound and strory line is outsanding,kids love the movie, and even adults\\noverall-10/10',\n",
              " \"I grew up on Disney movies, and now I get to enjoy them with my three little girls. This movie is hands down one of Disney's best. The story is absolutely beautiful and honoring of the culture that inspired it. The animation is entrancing and flawless. The characters are complex and we'll developed. The music is insanely catchy and fun. I have seen it at least twenty times, and I still cry like a baby multiple points throughout the movie. The morals are inspiring - strength, courage, self confidence. I cannot say enough good things about this movie!\",\n",
              " \"Hi there,I'm not gonna say much other than that I've watched this movie several times now with my young daughter, as she enjoys it so much. Consequently, what follows is just a short opinion from a dad and movie enthusiast.So what's great about this movie? Pretty much everything; the animation here is one of Pixar's finest works to date; the music is beautifully written and very catchy, the characters and their development feels real and the story's message is inspiringly positive and also educational for not just the little ones. Moana is not your typical princess fairy tale - it's an adventure set in one of the most beautiful settings on Earth.Ultimately, I believe this movie did not get the attention it deserved and if you haven't seen it yet, I highly recommend it - whether you have kids or not.\"]"
            ]
          },
          "metadata": {},
          "execution_count": 12
        }
      ],
      "source": [
        "movie_reviews = [reviews for reviews in movie_reviews if reviews]           # removing the empty strings from the data\n",
        "movie_reviews[0:25]"
      ]
    },
    {
      "cell_type": "code",
      "execution_count": 13,
      "metadata": {
        "id": "evwanE6zVZ0q"
      },
      "outputs": [],
      "source": [
        "# joining the list of comments into a single text/string\n",
        "\n",
        "text = ' '.join(movie_reviews)"
      ]
    },
    {
      "cell_type": "code",
      "execution_count": 14,
      "metadata": {
        "colab": {
          "base_uri": "https://localhost:8080/"
        },
        "id": "Jf_SvHWtVdcq",
        "outputId": "8db05ffc-7c81-4a69-ac7a-e8dce3900283"
      },
      "outputs": [
        {
          "output_type": "execute_result",
          "data": {
            "text/plain": [
              "35721"
            ]
          },
          "metadata": {},
          "execution_count": 14
        }
      ],
      "source": [
        "len(text)"
      ]
    },
    {
      "cell_type": "markdown",
      "metadata": {
        "id": "1XhwG2IRVjc0"
      },
      "source": [
        "**Removing punctuations**"
      ]
    },
    {
      "cell_type": "code",
      "execution_count": 15,
      "metadata": {
        "colab": {
          "base_uri": "https://localhost:8080/",
          "height": 105
        },
        "id": "O7cIAOYeVn9Q",
        "outputId": "7e25a2b8-c7b0-4f12-d4a9-5fead87757b3"
      },
      "outputs": [
        {
          "output_type": "execute_result",
          "data": {
            "text/plain": [
              "'Instant classicEasily ranks among the best from the Disney Studio and a very worthy successor to Mulan 1998 a similar story equally well doneOddly also seems to be best work ever from Dwayne Johnson perhaps not the first name I would have associated with voice acting but a star turn nonethelessIf you want to be picky  which is the reviewers job after all  the momentum slows a little at the top of the third act but the ultimate themes of redemption forgiveness and selfdiscovery at the finale are an absolute joyAs they used to say for children of all agesDesignated IMDb Top Reviewer Please check out my list 167 NearlyPerfect Movies with the occasional Anime or TV miniseries you canshould see again and again 1932 to the present Wow what a great great movie The visuals in this movie are breathtaking They are so gorgeous But besides the visuals there is such a heart and imagination and creativity to this movie Moana is such a likable smart and relatable person the voice work for Moana is so sweet and so good The chemistry between Moana and Maui is so great and so natural The songs in this movie are so charming catchy and fun But How Far Ill Go is such an emotional song and it has such heartI dare say I like it a little more than Let It Go The way Moana sings it and you can feel it Wow I just looved this movie and it is great for kids and adults I will always love it and I wanna see it again Despite being a lifelong Disney fan that is not to say that everything theyve done is great Theyve done many classics their best revolutionary though they had hit and miss periods in the 80s and the 2000sEnchanted and The Princess and the Frog saw a return to form while the likes of Tangled Wreck It Ralph Zootropolis aka Zootopia and Frozen were even better and there was a lot to like too about Big Hero 6 Of the 2nd RenaissanceDisney Revival period Moana is up there with the best of them and as one of Disneys best in about twenty yearsMaybe the momentum dips ever so slightly going into the final act Mauis change of heart is a touch rushed and for me there was no real point to the pig character that induced more unintentional awkwardness than amusement It was however difficult to fault Moana because of how many things it did right and how brilliantly the things it did right were executed There have been criticisms regarding a formulaic story HeiHei the chicken being irritating and the portrayal of Maui being stereotypical but these were criticisms that didnt bother me at allFirstly the animation is phenomenal Disneys bestlooking film in a long time and one of their bestever looking films not just this but perhaps the most visually exquisite animated film this year in a year that also saw Your Name Kubo and Zootropolis and even one of the years bestlooking films The attention to detail is impossible to fault whether its the water the trees or even Mauis tattoos while the colours just pop out at you and everything is immaculately detailed with not an ounce of artificiality in the backgrounds further boasting visually stunning sequences such as the climax We Know the Way Shiny and with the coconut piratesThe soundtrack has garnered a huge amount of praise and for good reason Love the evocative orchestration and instrumentation with its seamless blend of South Pacific Culture pop and Broadway Likewise with the songs which are along with Frozen the best and most consistent set of songs from a Disney film since The Hunchback of Notre Dame How Far Ill Go is an I want sort of song thats infectious heartfelt and inspiring Youre Welcome sees Dwayne Johnson showing a quite wide range of emotions through a surprisingly good singing voice Shiny is deliciously kooky and like something that David Bowie would be proud of Jemaine Clement sings the heck out of it We Know the Way sends chills up the spineScriptingwise Moana encompassed a wide emotional range within me There is something for everybody never too complicated for children and never too childish for adults tonally its focused throughout and its very witty and thoughtprovoking Throughout there are many opportunities to laugh cry and be inspired The story is while not exactly original beautifully paced and enthrallingThe whole Polynesian culture faith and seafaring traditions included and explored generously but in a way that feels part of the story rather than just thrown in and while there are elements that reminds one of Disney past and present this feels more affectionate than Disney just running out of ideas The coconut pirates scene may seem like filler but instead of being incidental and dull filler it was entertaining and visually dazzling while the musical numbers bring the storytelling forward and say much about the characters motivations and the climax is hairraisingMoana is has now joined the list as one of my favourite female Disney characters while Maui is a fun compelling character and the chemistry between the two being a large part of the films humour and heart Personally found myself entertained by HeiHei and that his existence and role in the story were justified If anybody does find him dumb or annoying this is a rare of those not being bad things for a character clearly intended to be that way from reading up about the film The voice acting is top notch with Aulii Cravalho making a startling debut voice and singing goodness she has pipes Dwayne Johnson on paper an unlikely and eyebrowinducing choice is also splendid as an actor hes grown a lot while Alan Tudyk is amusingly zesty and Jemaine Clement bringing gleefully kooky menaceIn summary knocks it out of the park in visual beauty and sheer entertainment value Disney does it again with their latest classic Moana 910 Bethany Cox 2016 has been a particularly strong year for animated films With the likes of Zootopia Finding Dory and Kubo  The Two Strings all vying for best animated picture of the year it seems Moana deserves to be mentioned in the same breath as well Its no fluke that out of the four movies I just mentioned 3 of them belong under the house of the mouseLegend has it that demigod Maui stole a sacred stone the heart of the goddess Te Fiti The lava demon confronted him and both the heart and Maui were lost forever Now the world is slowly dying and someone must find the heart and force Maui to put it back But who is this chosen one It might be Moana a Polynesian girl who is suppose to be taking over as chief of her tribe but longs to sail beyond the reef Featuring new comer Aulii Carvalho as Moana and the most electrifying man in sports entertainment Dwayne The Rock Johnson as the demigod Maui Its not surprising that I found myself tapping my feet to the songs in this film because LinManuel Miranda creator of Hamilton shares his talent with this film I can easily see any one of the songs in this piece going up for and winning Best Original Song giving the man the O in the prestigious PEGOT award circle He currently has a Pulitzer Emmy Tony and Grammy among more The songs here remind me of the oldschool Disney songs easy to listen to fun to play on repeat and important to the story At first I felt it was a little too on the nose with some of the lyrics but eventually he won me over and Ive been listening to the soundtrack ever since The film itself might lack some of the intricacies of plot heavy films like Zootopia but this journey story is entertaining and heartfelt The vibrant colours of the green islands and the blue sea help propel the film above and beyond what some others films have to offer The animation takes a nice little turn for the creative when the characters find themselves under the sea in a side villains lair We are treated with some bioluminescent sequences with another catchy tune not far behind Johnson is stellar as Maui he seems completely comfortable in a voice acting role and surprisingly has the chops to sing a tune Newcomer Aulii Carvalho holds her own against a star like Johnson and she really gives a strong voice to a driven female character I applaud that Disney didnt feel the need to shoehorn in a love story either This is a tale about self discovery not some young woman needing to find a man Disney nods and respects their past while looking to the future with Moana Princesses no longer need to be the love goal of a man Moana is a visually beautiful film with great songs and a strong female lead character There are some visually gags for the kids and a great time for adults Moana is a great film Moana is a return to the classic Disney formula the clichés and characters ripped from a number of other animated films However the pure beauty and skill of the production rises the old story into new heightsFollowing from the success of Zootropolis Moana follows a more traditional narrative we know and love the princess who wishes for something more and is whisked on a supernatural adventure We know this story so well yet Moana seems fresh and thrilling as if the plot was innovative Perhaps this is due to the Polynesian setting or the morally ambiguous Maui played perfectly by Dwayne Johnson but most likely it is it the simple magic of Disney – the wonder for both children and adults has reached its peak with the perfection of the classic formula For once the clichés make the film more enjoyable The quality of the animation helps too its clear they have reached the pinnacle of blending realistic textures with stylised designs creating an aesthetic beauty that few other companies can match – Disney have mastered water to the point it looks better animated than in real life Even the music has been perfected here the annoying catchiness of Frozens tunes replaced by memorable but effective songs that fit the culture and setting of our adventure A childlike warmth was awakened in me and many other adult members of the audience as the film brought the emotional highs of the Disney renaissance without the modern subversion of the classic tropes While Moana sometimes threatens this with pop culture references the film thankfully keeps to mostly traditional values and morals a step above many childrens animated films released todayMoana is good old fashioned Disney magic the traditional narrative and morals updated with stellar animation and an awareness thats effective but never overpowering enough to threaten the integrity of the Disney formulaSWEETVisit httpssweetorsaltedmoviereviewscom for more From the opening lyrics to the final shot Moana was a fun glimpse into Polynesian life Reminds me of Spirit Stallion of the Cimarron with its depiction of tribal peoples people who depend on the land and environment to live As one of the several catchy songs say the island gives them everything they need No need to go beyond the reefIm glad that Moana and Zootopia Disneys two most recent feature films humorously refer to the archetypal Disney traits that appear in film after film  ie an animal sidekick the heroine bursting into song following your dreams Even if they do year after year it never gets old  Well maybe a little bit Im actually jaded by the happy ending trope in practically every work of film literature etc out there But thats beside the point Even if you can predict the ending of Moana its not quite what you expected Disney has recently been changing things up a bit and having creative endings Frozen for example Even if they werent slightly creative the story still enacts the Disney magic  the ability to inspire motivate uplift and ultimately enlighten further on mankinds communal desire to go beyond the norm You dont have to do something amazing to make a name for yourself Its not the hook that defines you its what you do that defines you and makes you who you are Just dont follow hard tradition all the time If someone says you cant achieve your dreams heshe is most likely right HOWEVER Thats only true if you dont give it your all Those right now who are living their dreams gave it their all If its something you really want after all then naturally youll give it the necessary effort and force of will It wont be easy life wasnt meant to be easyIts not as amazing as Zootopia but Moana is still a genuinely good Disney movie It has a superb single a nice accompanying soundtrack great characters sublime animation with crystal clear attention to detail and wonderful themes and messages I admit I was expecting too much from Moana after seeing Zootopia which is probably why I give Moana a 9 Zootopia hits the 10 If you havent seen either one I recommend seeing Moana first As an individual double majoring in Computer Science and Creative Writing with a focus on screenplays I have to say that Moana was one of the best Disney Movies that I have ever watched In fact I was astonished by its storyline along with its animations that it became one of my favorite movies and ended up buying my own Moana doll for ChristmasSPOILERS In particular I truly enjoyed the scenes where Moana gained the confidence to go out there and voyage into the sea even though her dad Tui wanted her to focus on being the chief for her people The first time she went out didnt end so well I was laughing so hard when Moanas Grandma said that whatever she did that she blamed in on the pig Pua which in fact is one of the most adorable characters that Disney has ever created but I admire the confidence that she showed This confidence showed me that we as individuals are truly individuals I also loved the scene where Maui was trying to turn into the Hawk when he and Moana were trying to get the hook from Tamatoas shell It was hilarious to see him turn from a fish to a shark then a chameleon etc then finally back to his human form It made it even funnier when Tamatoa was saying that Maui was having trouble with his look as he was singing ShinyAll and all I cant think of anything wrong with this movie This is one of the Disney Movies that I can watch over and over again Like most adults I came to view this film as a result of having two small children However I was very pleasantly surprised by the film and my kids loved itLet me start by saying that the original music for the film was outstanding When watching Disney you expect it to be good but the soundtrack is amazing The animation in the film was also what youd expect from DisneysuperbNow as far as the plot goes You have a heroine and what I feel is the first real heroine in all of the animated films that Ive watched Most films make a forced effort to show girls that they can also excel and be whoever they choose Moana takes a girl whos also a princess by the way but an ordinary one and allows her to truly explore achieve and save the world not through magic extraordinary power or luck but through hard work and perseverance She is real Maui is also the perfect comic relief and the Rock does an excellent job in this rollMy kids want to watch it again and so do I I love everything about this movie The colors the setting and the characters all good to my eyes It is indeed very rare that I toss a top rating at an animated movie but Moana definitely deserves thatThe storyline in Moana was quite good and rather thrilling It is a storyline that appeals to both a younger and older audience because the story is timeless and has classic elements of good versus evil and the uprising of an unlikely underdog heroine But it is also the story of friendship forgiveness and acceptanceShortly summarized Moana is about young Moana whom is the daughter of the chieftain of a dying island She goes against the edicts of the tribe and sail out beyond the reef to search for a demigod who has the power to set things rightThe animation and the art style in Moana was just spectacular There was just something very alluring and beautiful to the particular style that was used for this animated movie And the levels of detail was just bedazzling There were so many impressive details in every scene and it looked so very real I was especially impressed with the hair and the way that they had drawn the characters Moana was very charismatic while Maui was lovableMoana also has some good dialogue that keeps the movie up in a constant beat well assisted by a good amount of action and storytellingAnd while were are on the topic of dialogue then Moana had some really good voice acting talents on the cast ensemble Aulii Cravalho really did a wonderful job and she is quite talented It was also a treat to have Dwayne Johnson do the voice for the demigod Maui I didnt know that Alan Tudyk also voices a character in this movieThere is a fair amount of singing in this animated movie too and it actually worked quite well in favor of the movie for different reasons The first being that the songs were quite appropriate for the story and fit naturally into the movie The songs are also quite nicely orchestrated and performed Usually I am not overly keen on songs in animated movies but Moana did it quite as well as The Little Mermaid did back in 1989I was instantly blown away by the comedic element of the chicken that came along on the oceanic journey That chicken was just downright hilarious and really spiced up the movie quite a lot pardon the punAs I mentioned in the start of my review then it is very rare that I give a top rating for an animated movie and only have done so once before to Epic But Moana ranks up alongside with it because this is a fantastic animated movie in every sense of the word I watched it with my family and we all loved the movie and were very entertained by itThis is definitely an animated movie that is wellworth watching and this is a movie that rightfully belongs in the collection of anyone who enjoys animated movies And this is an animated movie that you can watch more than just once Moana is elite and poops on Frozen from a great heightFight me Funny funny funny I like the bit where the chicken caught on fire Why this movie has 76 Yall crazy this is a great movie with amazing music Yes is not perfect portrayal of polynesian culture and thats usually never the point with Disney movies Hennys Movie Review Moana aka VaianaIn three words A Fun MovieWith Pixar dropping the ball lately it is good to see that Disney is picking it up with great movies like Tangled Zootopia and now Moana Yes they made a mediocre overhyped movie named Frozen read my previous review for my thoughts about that movie Moana really doesnt disappoint it has a good pacing a great cast and it is BEAUTIFUL I could just leave my review at this and tell you to go and watch this movie but lets see How Far Ill GoMoana is a story that takes place in Ancient Polynesia when a curse reaches the island Mata Nui a chieftains daughter is determined to go on a journey to find a demigod named Maui in order to stop the curseLike most Disney movies this is a coming of age story Moana is a chieftains daughter who is struggling with her love for her people and her love for the ocean She is determined and a strong character It is wonderful to see her grow and find herself throughout the movie She is voiced by AuliI Cravaljo and it fits like a glove perfect love her accent Moana is joined by a demigod named Maui He starts out as an egotisticalfunny character but we quickly learn why and see him change for the better He is voiced by Dwayne The Rock Johnson and if you know The Rock YOU know what to expect You can never go wrong with The RockOther supporting characters were there to setup the plot and expositionThe music as expected was typically Disney which is a good thing because I love Disney songs After the movie you just cant get it out of your head All the scores were very good It did the basics like underscoring a scene but it also carried the movie for a huge partThe threeactstructure Moana has a great beginning good middle and a great ending Furthermore the pacing of this movie is fast in a good way It doesnt hold on to a scene for too long and the movie knows when to cutThe cinematography was beautiful it really shows that the creators have done their research I love the bright colors and gorgeous sceneries It would appear that Disneys new approach to movie making is starting to payoff by remaking their old animated movies into reallife and mocking their old movies with their new 3danimated movies they are breathing new life into their movies As aforementioned in the introduction Moana is a must see movie that wont disappointI give this movie a 85 Moana is one of the best Disney films of the past decade it is sure to soften many hearts with its gorgeous storytelling and fantastic songs its also absolutely hilarious Moana is my favorite Disney movie  Disney Princess I love the animation  the beauty of every movement The story is empowering  inspiring Moana is the bravest Disney Princess Maui was one of the best modern Disney movies and he was the undisputed best character in the movie The rock performance was excellent and was befitting the character and Moanas character was good the comedy in the film was excellent The story of the film was very good The graphics and the design of the characters in the movie was great The songs of the film were beautiful This film is an epic in the truest sense and easily one of Disneys best Big FilmsIt follows the classic quest type story of a girl growing up feeling shes destined for more than her quiet life and eventually finding shes the chosen one to go on a mission to save the world but how it gets there is awe inspiringThe animation is second to none at one point I had to do a double take that they didnt mix in a live action character Thinking back to the original Toy Story things have certainly come farUnlike other Disney movies and most movies in fact Moana is perfectly capable of pursuing her goals completely by herself and doesnt have a love interest which I think may be a first for a Disney film its actually a lot closer to a Miyazaki film in the way the hero is portrayedThe soundtrack is also exceptional so much so that my 5 year old girl made me order the album after the film The entire score evokes a sense of adventure and riding over the waves and is simply sublimeTo sum up how good this film is it was the second movie in which Ive ever witnessed the theatre audience erupting into a round of applause when the credits rolled the first was InterstellarThe movie no doubt has some flaws but Im giving it a 10 to balance out some unreasonably negative reviews on here some of which read like they were written by people who have no seen the movie From the opening lyrics to the final shot Moana was a fun glimpse into Polynesian life Reminds me of Spirit Stallion of the Cimarron with its depiction of tribal peoples people who depend on the land and environment to live As one of the several catchy songs say the island gives them everything they need No need to go beyond the reefIm glad that Moana and Zootopia Disneys two most recent feature films humorously refer to the archetypal Disney traits that appear in film after film  ie an animal sidekick the heroine bursting into song following your dreams Even if they do year after year it never gets old  Well maybe a little bit Im actually jaded by the happy ending trope in practically every work of film literature etc out there But thats beside the point Even if you can predict the ending of Moana its not quite what you expected Disney has recently been changing things up a bit and having creative endings Frozen for example Even if they werent slightly creative the story still enacts the Disney magic  the ability to inspire motivate uplift and ultimately enlighten further on mankinds communal desire to go beyond the norm You dont have to do something amazing to make a name for yourself Its not the hook that defines you its what you do that defines you and makes you who you are Just dont follow hard tradition all the time If someone says you cant achieve your dreams heshe is most likely right HOWEVER Thats only true if you dont give it your all Those right now who are living their dreams gave it their all If its something you really want after all then naturally youll give it the necessary effort and force of will It wont be easy life wasnt meant to be easyIts not as amazing as Zootopia but Moana is still a genuinely good Disney movie It has a superb single a nice accompanying soundtrack great characters sublime animation with crystal clear attention to detail and wonderful themes and messages I admit I was expecting too much from Moana after seeing Zootopia which is probably why I give Moana a 9 Zootopia hits the 10 If you havent seen either one I recommend seeing Moana first I saw Moana tonight in the local movie theater I have been wanting to see it since Thanksgiving and expected the audience to be few To my amazement the cinema was almost full and I can see why Moana is a fabulous movieit will certainly leave you crying and smiling I would imagine most of the folks in the audience now have seen it 3 or 4 times I served a number of years in the Army in Hawaii so I was attracted to the movie for that reason and it was certainly a great movie going experience The animated graphics capture the magic and beauty of Polynesia the land and the ocean And the story is a lot of fun Highly recommended for all ages I was expecting a standard manufactured Disney Princess item What I encountered was a powerful embodiment of myth in a young woman with the notable exceptions of the coconut pirate and glittery crab sequences These were conceived and directed by others I suppose many commenters will speak to the different appealing techniques used here Ill just speak to the visual narrative nesting because Ive been tracking this from Lassiters early workThe simplest example of this nesting is when twod hand drawn animation is embedded in the threed world I believe that over time a law of proportional abstraction has developed When this works we may see a film that has an inner film of some kind that is more abstract The cinematic effect is to set the distance between us and the main film That is we have a sort of quantum imagination where the simplifications we negotiate with a filmmaker are recorded in what heshe shows us as simplifications the movies characters make with inner films Showing us those inner films is a part of the filmmakerviewer agreement We do have that here with the depiction of Te Fiti and especially Te Ka with the visions Moana has rendered in decades old conventions But something new is here the story starts with literal story panels in animated tapa cloths that tell the outer story about the gods demigod and the natural laws we will live in That inner story is rendered in lovely textured threed using the now standard conventions of superreality to register as real But inside THAT story is the same twod conventions in the demigods living tattoos While the 3d flow moves through the future the twod panels not only remind us of the past and the worlds dynamics but directly interact with the charactersThe refreshing novelty here is that the tattootapas cloth effect is used for the reverse purpose The common distance is maintained but in this case there are not three layers our world the movie the movie within but two our world as the same as Moanas and the movie world as the myth the tattoo and mysticalgod world I think this is why the movie the main movie with her life played out in it seemed so close to me emotionally Masters of cinematic engineering See this 3 of three Set on the Polynesian islands of the South Pacific 2016s Moana explore the expedition of a young woman Moana Voiced by Aulii Cravalho who is chosen by the ocean itself to reunite a mystical lifebreathing relic with an island goddess Te Fiti when it was stolen by the Demigod Maui Voiced by Dwayne The Rock Johnson Without spoiling this fictional movie written and directed by John Musker and Ron Clements too much though the film heavily influenced by Polynesians history myths  culture it is not directly based on any specific native tribe like the 1926s documentary film of the same name Instead the film takes specific cultural elements from a variety of native Pacific groups and incorporates them into one generalized portrayal of Polynesian culture in order to make the audience member to identity the story better Because of that certain critics has accuse Disney of cultural misappropriation  exploitation suitable to spur a profitable capitalist enterprise of music celebrities and merchandise While this is somewhat true I dont think Disney had much of a choice They had to avoid setting off cultural taboos It was loselose catch 22 situation Somebody was bound to get offended regardless However I dont think this musical is as degrading as certain people make it out to be Its pretty harmless compare to other tropical musicals like 1958s South Pacific whom portray its island people as ugly snake oilsellers hags who gives give away their really young daughters to military servicemen to screw If anything Moana gives a more positive light Still some of the characters of the film were drawn very insensitive Maui did look like an obese half pig half hippo man He did look kinda offensive Still much of that blame come from the Walt Disney Animation Studios animators trying to lighten their load by replicate the same awkwardlooking art style that their 2002s animation film Lilo  Stich was doing over 14 years ago Even back then not a lot of people were fans of the big nose the huge tights oddly body structure and alienlike eyes type of a drawing for islanders So I really dont know why they try to copy it I guess they wanted to focus more on other drawings like the supernatural elements designs Even with that those drawings also felt a little too familiar If anything the spirits looks like Disney recycling artwork that was previous used in films like 2000s Fantasia 2000  2014s Lava As for animal sidekicks As much as I love Hei Hei Voiced by Alan Tudyk  Pua They really werent needed It did felt unneeded animation Despite that at least the island CGI background visuals for Moana were breathtaking beautiful There is no better example of that then the Where you are  We Know the Way musical sequences The other visuals like the action sequences were equally done well I just wish this Polynesian PrometheusOdysseylike fantasy story was told a little better to match the visuals The action scenes in this film seem a bit force Plus it doesnt make much sense After all I get that Moana was chosen by the water spirit because how much she cares about aquaticlife but it doesnt explain why the supernatural entity couldnt just do the task itself Nor does it explain why the ocean tries to kill Moana with storms seamonsters and lead them into conflicts with sea raiders in the course of the film Did the demigod actions make the ocean biopolar as well Also what was the point of even having Maui around He really doesnt do much besides put Moana in danger Lets not overlook that Maui also tried to kill Moana by locking her in a cave to die  trying to drown her in the middle of the ocean Hero Hes more like the villain Another thing about the story is that much of the flashbacks bookreading and dream cave sequences could had been cut down in editing All of them felt a little too much like filler The movie tends to repeat itself multiply times explaining how Moanas people were once island voyagers before Maui cause the ocean to become too dangerous despite the fact the ocean somewhat helps them All the exposition dump come across tiresome and very jarring Another thing that hurts the movie is the fact that the story of a young native princess tries to break free from the strict confines of her society by seeking out a mysterious stranger in order to save her land sounds a little too familiar After all we seen heroines adventures like this before in half a dozen Walt Disney Animation Studios films like 1995s Pocahontas Even acclaim Pixar films like 2012s Brave had these wellworn elements Dont get me wrong its doesnt make Moana into a bad movie but its presenting nothing groundbreaking In the end this movie in a couple years might not stand out as much as other films from this generation Despite that the movie does offer positive messages for younger viewers about selfdiscovery and empowerment And Moana herself is a great role model demonstrating perseverance curiosity and courage even when face with danger Cravalho perform her very well She is a great singer and has a passable voice As for Johnson not so much His performance was more mediocre because how dial down his personality was However Johnson does sings one of the catchiest songs in the movie Youre Welcome which is a plus Besides that song the funniest song is Shiny sung by Jemaine Clement which also really fun to listen to along with the power ballad How far Ill go All great songs courtesy of creator LinManuel Miranda All this music makes Moana soundtrack worth listening to Overall Although Moana has many big flaws It still was entertaining Moana is truly an adventure worth sailing for So check it out This is yet the best disney movie ever made the animation screenplaysound and strory line is outsandingkids love the movie and even adults\\noverall1010 I grew up on Disney movies and now I get to enjoy them with my three little girls This movie is hands down one of Disneys best The story is absolutely beautiful and honoring of the culture that inspired it The animation is entrancing and flawless The characters are complex and well developed The music is insanely catchy and fun I have seen it at least twenty times and I still cry like a baby multiple points throughout the movie The morals are inspiring  strength courage self confidence I cannot say enough good things about this movie Hi thereIm not gonna say much other than that Ive watched this movie several times now with my young daughter as she enjoys it so much Consequently what follows is just a short opinion from a dad and movie enthusiastSo whats great about this movie Pretty much everything the animation here is one of Pixars finest works to date the music is beautifully written and very catchy the characters and their development feels real and the storys message is inspiringly positive and also educational for not just the little ones Moana is not your typical princess fairy tale  its an adventure set in one of the most beautiful settings on EarthUltimately I believe this movie did not get the attention it deserved and if you havent seen it yet I highly recommend it  whether you have kids or not'"
            ],
            "application/vnd.google.colaboratory.intrinsic+json": {
              "type": "string"
            }
          },
          "metadata": {},
          "execution_count": 15
        }
      ],
      "source": [
        "no_punc_text = text.translate(str.maketrans('','',string.punctuation))\n",
        "no_punc_text"
      ]
    },
    {
      "cell_type": "markdown",
      "metadata": {
        "id": "YLeWIGL5VyHd"
      },
      "source": [
        "# **Tokenization**"
      ]
    },
    {
      "cell_type": "code",
      "execution_count": 17,
      "metadata": {
        "colab": {
          "base_uri": "https://localhost:8080/"
        },
        "id": "Lm_6J7EHV2kl",
        "outputId": "6e268591-22ad-494a-d5b7-77b2ef443f6d"
      },
      "outputs": [
        {
          "name": "stdout",
          "output_type": "stream",
          "text": [
            "NLTK Downloader\n",
            "---------------------------------------------------------------------------\n",
            "    d) Download   l) List    u) Update   c) Config   h) Help   q) Quit\n",
            "---------------------------------------------------------------------------\n",
            "Downloader> q\n"
          ]
        }
      ],
      "source": [
        "import nltk\n",
        "nltk.download()\n",
        "from nltk.tokenize import word_tokenize"
      ]
    },
    {
      "cell_type": "code",
      "execution_count": 18,
      "metadata": {
        "colab": {
          "base_uri": "https://localhost:8080/"
        },
        "id": "4O26IoU3akNv",
        "outputId": "d8b40f5a-e739-447c-b109-c89f7813d55e"
      },
      "outputs": [
        {
          "output_type": "stream",
          "name": "stderr",
          "text": [
            "[nltk_data] Downloading package punkt to /root/nltk_data...\n",
            "[nltk_data]   Unzipping tokenizers/punkt.zip.\n"
          ]
        },
        {
          "output_type": "execute_result",
          "data": {
            "text/plain": [
              "True"
            ]
          },
          "metadata": {},
          "execution_count": 18
        }
      ],
      "source": [
        "nltk.download('punkt')"
      ]
    },
    {
      "cell_type": "code",
      "execution_count": 19,
      "metadata": {
        "colab": {
          "base_uri": "https://localhost:8080/"
        },
        "id": "zb7cUK2uV7ZE",
        "outputId": "b9614c16-7d7c-4d89-abff-47c5a2c3048c"
      },
      "outputs": [
        {
          "output_type": "execute_result",
          "data": {
            "text/plain": [
              "['Instant',\n",
              " 'classicEasily',\n",
              " 'ranks',\n",
              " 'among',\n",
              " 'the',\n",
              " 'best',\n",
              " 'from',\n",
              " 'the',\n",
              " 'Disney',\n",
              " 'Studio',\n",
              " 'and',\n",
              " 'a',\n",
              " 'very',\n",
              " 'worthy',\n",
              " 'successor',\n",
              " 'to',\n",
              " 'Mulan',\n",
              " '1998',\n",
              " 'a',\n",
              " 'similar',\n",
              " 'story',\n",
              " 'equally',\n",
              " 'well',\n",
              " 'doneOddly',\n",
              " 'also']"
            ]
          },
          "metadata": {},
          "execution_count": 19
        }
      ],
      "source": [
        "tokens = word_tokenize(no_punc_text)\n",
        "tokens[0:25]"
      ]
    },
    {
      "cell_type": "code",
      "execution_count": 21,
      "metadata": {
        "colab": {
          "base_uri": "https://localhost:8080/"
        },
        "id": "c_89cfeHaiTw",
        "outputId": "8c427929-5562-494c-ecba-d32649562ecf"
      },
      "outputs": [
        {
          "output_type": "execute_result",
          "data": {
            "text/plain": [
              "6202"
            ]
          },
          "metadata": {},
          "execution_count": 21
        }
      ],
      "source": [
        "len(tokens)"
      ]
    },
    {
      "cell_type": "markdown",
      "metadata": {
        "id": "boNzMziba0xK"
      },
      "source": [
        "**Removing Stopwords**"
      ]
    },
    {
      "cell_type": "code",
      "execution_count": 22,
      "metadata": {
        "colab": {
          "base_uri": "https://localhost:8080/"
        },
        "id": "8ODSFXgNa48C",
        "outputId": "2aced8c3-a156-4cd1-94bb-72ba4b8f8e0d"
      },
      "outputs": [
        {
          "output_type": "stream",
          "name": "stderr",
          "text": [
            "[nltk_data] Downloading package punkt to /root/nltk_data...\n",
            "[nltk_data]   Package punkt is already up-to-date!\n",
            "[nltk_data] Downloading package stopwords to /root/nltk_data...\n",
            "[nltk_data]   Unzipping corpora/stopwords.zip.\n"
          ]
        },
        {
          "output_type": "execute_result",
          "data": {
            "text/plain": [
              "True"
            ]
          },
          "metadata": {},
          "execution_count": 22
        }
      ],
      "source": [
        "from nltk.corpus import stopwords\n",
        "nltk.download('punkt')      \n",
        "nltk.download('stopwords')"
      ]
    },
    {
      "cell_type": "code",
      "execution_count": 23,
      "metadata": {
        "colab": {
          "base_uri": "https://localhost:8080/"
        },
        "id": "PMaeznopa9Ql",
        "outputId": "b087c8bb-529b-4aad-aede-20d1f4e5b5ae"
      },
      "outputs": [
        {
          "output_type": "execute_result",
          "data": {
            "text/plain": [
              "['Instant',\n",
              " 'classicEasily',\n",
              " 'ranks',\n",
              " 'among',\n",
              " 'best',\n",
              " 'Disney',\n",
              " 'Studio',\n",
              " 'worthy',\n",
              " 'successor',\n",
              " 'Mulan',\n",
              " '1998',\n",
              " 'similar',\n",
              " 'story',\n",
              " 'equally',\n",
              " 'well',\n",
              " 'doneOddly',\n",
              " 'also',\n",
              " 'seems',\n",
              " 'best',\n",
              " 'work',\n",
              " 'ever',\n",
              " 'Dwayne',\n",
              " 'Johnson',\n",
              " 'perhaps',\n",
              " 'first']"
            ]
          },
          "metadata": {},
          "execution_count": 23
        }
      ],
      "source": [
        "text_stopwords = stopwords.words(\"english\")\n",
        "text_stopwords.append('an')\n",
        "no_stop_words = [word for word in tokens if not word in text_stopwords]\n",
        "no_stop_words[:25]"
      ]
    },
    {
      "cell_type": "markdown",
      "metadata": {
        "id": "Vu2gxCRhbB1d"
      },
      "source": [
        "**Normalizing the text(converting all the text to lower case)**"
      ]
    },
    {
      "cell_type": "code",
      "execution_count": 24,
      "metadata": {
        "colab": {
          "base_uri": "https://localhost:8080/"
        },
        "id": "1d-KBfAIbEq-",
        "outputId": "45e9b212-95de-49b9-aa3b-9466e597aa76"
      },
      "outputs": [
        {
          "output_type": "execute_result",
          "data": {
            "text/plain": [
              "['instant',\n",
              " 'classiceasily',\n",
              " 'ranks',\n",
              " 'among',\n",
              " 'best',\n",
              " 'disney',\n",
              " 'studio',\n",
              " 'worthy',\n",
              " 'successor',\n",
              " 'mulan',\n",
              " '1998',\n",
              " 'similar',\n",
              " 'story',\n",
              " 'equally',\n",
              " 'well',\n",
              " 'doneoddly',\n",
              " 'also',\n",
              " 'seems',\n",
              " 'best',\n",
              " 'work',\n",
              " 'ever',\n",
              " 'dwayne',\n",
              " 'johnson',\n",
              " 'perhaps',\n",
              " 'first']"
            ]
          },
          "metadata": {},
          "execution_count": 24
        }
      ],
      "source": [
        "lower_words = [text.lower() for text in no_stop_words]\n",
        "lower_words[0:25]"
      ]
    },
    {
      "cell_type": "markdown",
      "metadata": {
        "id": "f10M7j6KbJih"
      },
      "source": [
        "**Stemming**"
      ]
    },
    {
      "cell_type": "code",
      "execution_count": 25,
      "metadata": {
        "id": "zCgUsIbPbI7C"
      },
      "outputs": [],
      "source": [
        "from nltk.stem import PorterStemmer"
      ]
    },
    {
      "cell_type": "code",
      "execution_count": 26,
      "metadata": {
        "id": "tODgvSiZbODP"
      },
      "outputs": [],
      "source": [
        "ps = PorterStemmer()"
      ]
    },
    {
      "cell_type": "code",
      "execution_count": 27,
      "metadata": {
        "colab": {
          "base_uri": "https://localhost:8080/"
        },
        "id": "P_9-z9VmbPnI",
        "outputId": "97af17e5-768e-4985-b7ee-a5d947d37ed3"
      },
      "outputs": [
        {
          "output_type": "execute_result",
          "data": {
            "text/plain": [
              "['instant',\n",
              " 'classiceasili',\n",
              " 'rank',\n",
              " 'among',\n",
              " 'best',\n",
              " 'disney',\n",
              " 'studio',\n",
              " 'worthi',\n",
              " 'successor',\n",
              " 'mulan',\n",
              " '1998',\n",
              " 'similar',\n",
              " 'stori',\n",
              " 'equal',\n",
              " 'well',\n",
              " 'doneoddli',\n",
              " 'also',\n",
              " 'seem',\n",
              " 'best',\n",
              " 'work',\n",
              " 'ever',\n",
              " 'dwayn',\n",
              " 'johnson',\n",
              " 'perhap',\n",
              " 'first']"
            ]
          },
          "metadata": {},
          "execution_count": 27
        }
      ],
      "source": [
        "stem_words = [ps.stem(word) for word in lower_words]\n",
        "stem_words[0:25]"
      ]
    },
    {
      "cell_type": "markdown",
      "metadata": {
        "id": "EC_oj1W0bUCQ"
      },
      "source": [
        "**Lemmatization**"
      ]
    },
    {
      "cell_type": "code",
      "execution_count": 49,
      "metadata": {
        "colab": {
          "base_uri": "https://localhost:8080/"
        },
        "id": "KUOHSWFgbXFw",
        "outputId": "a475a407-e7cb-44f6-c074-b0dc06bc2996"
      },
      "outputs": [
        {
          "output_type": "stream",
          "name": "stdout",
          "text": [
            "/usr/local/lib/python3.8/dist-packages/torch/cuda/__init__.py:497: UserWarning: Can't initialize NVML\n",
            "  warnings.warn(\"Can't initialize NVML\")\n",
            "2023-01-14 12:56:33.402847: E tensorflow/stream_executor/cuda/cuda_driver.cc:271] failed call to cuInit: CUDA_ERROR_NO_DEVICE: no CUDA-capable device is detected\n",
            "Looking in indexes: https://pypi.org/simple, https://us-python.pkg.dev/colab-wheels/public/simple/\n",
            "Collecting en-core-web-sm==3.4.1\n",
            "  Downloading https://github.com/explosion/spacy-models/releases/download/en_core_web_sm-3.4.1/en_core_web_sm-3.4.1-py3-none-any.whl (12.8 MB)\n",
            "\u001b[2K     \u001b[90m━━━━━━━━━━━━━━━━━━━━━━━━━━━━━━━━━━━━━━━━\u001b[0m \u001b[32m12.8/12.8 MB\u001b[0m \u001b[31m51.1 MB/s\u001b[0m eta \u001b[36m0:00:00\u001b[0m\n",
            "\u001b[?25hRequirement already satisfied: spacy<3.5.0,>=3.4.0 in /usr/local/lib/python3.8/dist-packages (from en-core-web-sm==3.4.1) (3.4.4)\n",
            "Requirement already satisfied: pydantic!=1.8,!=1.8.1,<1.11.0,>=1.7.4 in /usr/local/lib/python3.8/dist-packages (from spacy<3.5.0,>=3.4.0->en-core-web-sm==3.4.1) (1.10.4)\n",
            "Requirement already satisfied: thinc<8.2.0,>=8.1.0 in /usr/local/lib/python3.8/dist-packages (from spacy<3.5.0,>=3.4.0->en-core-web-sm==3.4.1) (8.1.6)\n",
            "Requirement already satisfied: setuptools in /usr/local/lib/python3.8/dist-packages (from spacy<3.5.0,>=3.4.0->en-core-web-sm==3.4.1) (57.4.0)\n",
            "Requirement already satisfied: cymem<2.1.0,>=2.0.2 in /usr/local/lib/python3.8/dist-packages (from spacy<3.5.0,>=3.4.0->en-core-web-sm==3.4.1) (2.0.7)\n",
            "Requirement already satisfied: catalogue<2.1.0,>=2.0.6 in /usr/local/lib/python3.8/dist-packages (from spacy<3.5.0,>=3.4.0->en-core-web-sm==3.4.1) (2.0.8)\n",
            "Requirement already satisfied: smart-open<7.0.0,>=5.2.1 in /usr/local/lib/python3.8/dist-packages (from spacy<3.5.0,>=3.4.0->en-core-web-sm==3.4.1) (6.3.0)\n",
            "Requirement already satisfied: srsly<3.0.0,>=2.4.3 in /usr/local/lib/python3.8/dist-packages (from spacy<3.5.0,>=3.4.0->en-core-web-sm==3.4.1) (2.4.5)\n",
            "Requirement already satisfied: preshed<3.1.0,>=3.0.2 in /usr/local/lib/python3.8/dist-packages (from spacy<3.5.0,>=3.4.0->en-core-web-sm==3.4.1) (3.0.8)\n",
            "Requirement already satisfied: requests<3.0.0,>=2.13.0 in /usr/local/lib/python3.8/dist-packages (from spacy<3.5.0,>=3.4.0->en-core-web-sm==3.4.1) (2.25.1)\n",
            "Requirement already satisfied: tqdm<5.0.0,>=4.38.0 in /usr/local/lib/python3.8/dist-packages (from spacy<3.5.0,>=3.4.0->en-core-web-sm==3.4.1) (4.64.1)\n",
            "Requirement already satisfied: jinja2 in /usr/local/lib/python3.8/dist-packages (from spacy<3.5.0,>=3.4.0->en-core-web-sm==3.4.1) (2.11.3)\n",
            "Requirement already satisfied: typer<0.8.0,>=0.3.0 in /usr/local/lib/python3.8/dist-packages (from spacy<3.5.0,>=3.4.0->en-core-web-sm==3.4.1) (0.7.0)\n",
            "Requirement already satisfied: packaging>=20.0 in /usr/local/lib/python3.8/dist-packages (from spacy<3.5.0,>=3.4.0->en-core-web-sm==3.4.1) (21.3)\n",
            "Requirement already satisfied: langcodes<4.0.0,>=3.2.0 in /usr/local/lib/python3.8/dist-packages (from spacy<3.5.0,>=3.4.0->en-core-web-sm==3.4.1) (3.3.0)\n",
            "Requirement already satisfied: numpy>=1.15.0 in /usr/local/lib/python3.8/dist-packages (from spacy<3.5.0,>=3.4.0->en-core-web-sm==3.4.1) (1.21.6)\n",
            "Requirement already satisfied: spacy-loggers<2.0.0,>=1.0.0 in /usr/local/lib/python3.8/dist-packages (from spacy<3.5.0,>=3.4.0->en-core-web-sm==3.4.1) (1.0.4)\n",
            "Requirement already satisfied: spacy-legacy<3.1.0,>=3.0.10 in /usr/local/lib/python3.8/dist-packages (from spacy<3.5.0,>=3.4.0->en-core-web-sm==3.4.1) (3.0.11)\n",
            "Requirement already satisfied: murmurhash<1.1.0,>=0.28.0 in /usr/local/lib/python3.8/dist-packages (from spacy<3.5.0,>=3.4.0->en-core-web-sm==3.4.1) (1.0.9)\n",
            "Requirement already satisfied: wasabi<1.1.0,>=0.9.1 in /usr/local/lib/python3.8/dist-packages (from spacy<3.5.0,>=3.4.0->en-core-web-sm==3.4.1) (0.10.1)\n",
            "Requirement already satisfied: pathy>=0.3.5 in /usr/local/lib/python3.8/dist-packages (from spacy<3.5.0,>=3.4.0->en-core-web-sm==3.4.1) (0.10.1)\n",
            "Requirement already satisfied: pyparsing!=3.0.5,>=2.0.2 in /usr/local/lib/python3.8/dist-packages (from packaging>=20.0->spacy<3.5.0,>=3.4.0->en-core-web-sm==3.4.1) (3.0.9)\n",
            "Requirement already satisfied: typing-extensions>=4.2.0 in /usr/local/lib/python3.8/dist-packages (from pydantic!=1.8,!=1.8.1,<1.11.0,>=1.7.4->spacy<3.5.0,>=3.4.0->en-core-web-sm==3.4.1) (4.4.0)\n",
            "Requirement already satisfied: urllib3<1.27,>=1.21.1 in /usr/local/lib/python3.8/dist-packages (from requests<3.0.0,>=2.13.0->spacy<3.5.0,>=3.4.0->en-core-web-sm==3.4.1) (1.24.3)\n",
            "Requirement already satisfied: chardet<5,>=3.0.2 in /usr/local/lib/python3.8/dist-packages (from requests<3.0.0,>=2.13.0->spacy<3.5.0,>=3.4.0->en-core-web-sm==3.4.1) (4.0.0)\n",
            "Requirement already satisfied: certifi>=2017.4.17 in /usr/local/lib/python3.8/dist-packages (from requests<3.0.0,>=2.13.0->spacy<3.5.0,>=3.4.0->en-core-web-sm==3.4.1) (2022.12.7)\n",
            "Requirement already satisfied: idna<3,>=2.5 in /usr/local/lib/python3.8/dist-packages (from requests<3.0.0,>=2.13.0->spacy<3.5.0,>=3.4.0->en-core-web-sm==3.4.1) (2.10)\n",
            "Requirement already satisfied: blis<0.8.0,>=0.7.8 in /usr/local/lib/python3.8/dist-packages (from thinc<8.2.0,>=8.1.0->spacy<3.5.0,>=3.4.0->en-core-web-sm==3.4.1) (0.7.9)\n",
            "Requirement already satisfied: confection<1.0.0,>=0.0.1 in /usr/local/lib/python3.8/dist-packages (from thinc<8.2.0,>=8.1.0->spacy<3.5.0,>=3.4.0->en-core-web-sm==3.4.1) (0.0.3)\n",
            "Requirement already satisfied: click<9.0.0,>=7.1.1 in /usr/local/lib/python3.8/dist-packages (from typer<0.8.0,>=0.3.0->spacy<3.5.0,>=3.4.0->en-core-web-sm==3.4.1) (7.1.2)\n",
            "Requirement already satisfied: MarkupSafe>=0.23 in /usr/local/lib/python3.8/dist-packages (from jinja2->spacy<3.5.0,>=3.4.0->en-core-web-sm==3.4.1) (2.0.1)\n",
            "\u001b[38;5;2m✔ Download and installation successful\u001b[0m\n",
            "You can now load the package via spacy.load('en_core_web_sm')\n"
          ]
        }
      ],
      "source": [
        "!python3 -m spacy download en_core_web_sm"
      ]
    },
    {
      "cell_type": "code",
      "execution_count": 50,
      "metadata": {
        "id": "wnb6vDtqbY3p"
      },
      "outputs": [],
      "source": [
        "nlp = spacy.load(\"en_core_web_sm\")"
      ]
    },
    {
      "cell_type": "code",
      "execution_count": 51,
      "metadata": {
        "colab": {
          "base_uri": "https://localhost:8080/"
        },
        "id": "Ks3vbX8Hbcoe",
        "outputId": "a431ac41-2fa5-418b-90b7-645d4d59a441"
      },
      "outputs": [
        {
          "output_type": "execute_result",
          "data": {
            "text/plain": [
              "Instant classicEasily ranks among best Disney Studio worthy successor Mulan 1998 similar story equally well doneOddly also seems best work ever Dwayne Johnson perhaps first"
            ]
          },
          "metadata": {},
          "execution_count": 51
        }
      ],
      "source": [
        "# joining the stopwords into a paragraph\n",
        "\n",
        "doc = nlp(' '.join(no_stop_words))\n",
        "doc[0:25]"
      ]
    },
    {
      "cell_type": "code",
      "execution_count": 52,
      "metadata": {
        "colab": {
          "base_uri": "https://localhost:8080/"
        },
        "id": "0H9_fWg2bea8",
        "outputId": "b211c4c4-0d6b-4aad-a794-d8a6ff8d9a42"
      },
      "outputs": [
        {
          "output_type": "execute_result",
          "data": {
            "text/plain": [
              "['instant',\n",
              " 'classiceasily',\n",
              " 'rank',\n",
              " 'among',\n",
              " 'good',\n",
              " 'Disney',\n",
              " 'Studio',\n",
              " 'worthy',\n",
              " 'successor',\n",
              " 'Mulan',\n",
              " '1998',\n",
              " 'similar',\n",
              " 'story',\n",
              " 'equally',\n",
              " 'well',\n",
              " 'doneoddly',\n",
              " 'also',\n",
              " 'seem',\n",
              " 'good',\n",
              " 'work',\n",
              " 'ever',\n",
              " 'Dwayne',\n",
              " 'Johnson',\n",
              " 'perhaps',\n",
              " 'first']"
            ]
          },
          "metadata": {},
          "execution_count": 52
        }
      ],
      "source": [
        "lemmas = [token.lemma_ for token in doc]\n",
        "lemmas[:25]"
      ]
    },
    {
      "cell_type": "markdown",
      "metadata": {
        "id": "NZaf66tfbmU7"
      },
      "source": [
        "**POS tagging**"
      ]
    },
    {
      "cell_type": "code",
      "execution_count": 53,
      "metadata": {
        "colab": {
          "base_uri": "https://localhost:8080/",
          "height": 52
        },
        "id": "ooYZQjwFbqBr",
        "outputId": "5a1ee5a2-09a5-4886-d35c-1cd4fa3e41c7"
      },
      "outputs": [
        {
          "output_type": "display_data",
          "data": {
            "text/plain": [
              "<IPython.core.display.HTML object>"
            ],
            "text/html": [
              "<span class=\"tex2jax_ignore\"><div class=\"entities\" style=\"line-height: 2.5; direction: ltr\">\n",
              "<mark class=\"entity\" style=\"background: #7aecec; padding: 0.45em 0.6em; margin: 0 0.25em; line-height: 1; border-radius: 0.35em;\">\n",
              "    Moana\n",
              "    <span style=\"font-size: 0.8em; font-weight: bold; line-height: 1; border-radius: 0.35em; vertical-align: middle; margin-left: 0.5rem\">ORG</span>\n",
              "</mark>\n",
              " is my favorite \n",
              "<mark class=\"entity\" style=\"background: #7aecec; padding: 0.45em 0.6em; margin: 0 0.25em; line-height: 1; border-radius: 0.35em;\">\n",
              "    Disney movie &amp; Disney Princess\n",
              "    <span style=\"font-size: 0.8em; font-weight: bold; line-height: 1; border-radius: 0.35em; vertical-align: middle; margin-left: 0.5rem\">ORG</span>\n",
              "</mark>\n",
              "! I love the animation &amp; the beauty of every movement. The story is empowering &amp; inspiring! \n",
              "<mark class=\"entity\" style=\"background: #7aecec; padding: 0.45em 0.6em; margin: 0 0.25em; line-height: 1; border-radius: 0.35em;\">\n",
              "    Moana\n",
              "    <span style=\"font-size: 0.8em; font-weight: bold; line-height: 1; border-radius: 0.35em; vertical-align: middle; margin-left: 0.5rem\">ORG</span>\n",
              "</mark>\n",
              " is the bravest \n",
              "<mark class=\"entity\" style=\"background: #aa9cfc; padding: 0.45em 0.6em; margin: 0 0.25em; line-height: 1; border-radius: 0.35em;\">\n",
              "    Disney Princess\n",
              "    <span style=\"font-size: 0.8em; font-weight: bold; line-height: 1; border-radius: 0.35em; vertical-align: middle; margin-left: 0.5rem\">PERSON</span>\n",
              "</mark>\n",
              "!</div></span>"
            ]
          },
          "metadata": {}
        }
      ],
      "source": [
        "one_block = movie_reviews[15]\n",
        "doc_block = nlp(one_block)\n",
        "spacy.displacy.render(doc_block, style='ent', jupyter=True)"
      ]
    },
    {
      "cell_type": "code",
      "execution_count": 54,
      "metadata": {
        "colab": {
          "base_uri": "https://localhost:8080/"
        },
        "id": "dHLVnsdMbqlD",
        "outputId": "1bf82a57-ac4a-47d3-dca9-bf8688de2f27"
      },
      "outputs": [
        {
          "output_type": "stream",
          "name": "stdout",
          "text": [
            "Moana PROPN\n",
            "is AUX\n",
            "my PRON\n",
            "favorite ADJ\n",
            "Disney PROPN\n",
            "movie NOUN\n",
            "& CCONJ\n",
            "Disney PROPN\n",
            "Princess PROPN\n",
            "! PUNCT\n",
            "I PRON\n",
            "love VERB\n",
            "the DET\n",
            "animation NOUN\n",
            "& CCONJ\n",
            "the DET\n",
            "beauty NOUN\n",
            "of ADP\n",
            "every DET\n",
            "movement NOUN\n",
            ". PUNCT\n",
            "The DET\n",
            "story NOUN\n",
            "is AUX\n",
            "empowering VERB\n"
          ]
        }
      ],
      "source": [
        "# getting the tokens and pos tags for the tokens\n",
        "\n",
        "for tokens in doc_block[0:25]:\n",
        "    print(tokens,tokens.pos_)"
      ]
    },
    {
      "cell_type": "code",
      "execution_count": 55,
      "metadata": {
        "colab": {
          "base_uri": "https://localhost:8080/"
        },
        "id": "Q8jzCFHjbsyv",
        "outputId": "e3a933a0-0253-4b06-d7fa-bed3cadcad63"
      },
      "outputs": [
        {
          "output_type": "stream",
          "name": "stdout",
          "text": [
            "['movie', 'love', 'animation', 'beauty', 'movement', 'story', 'empowering', 'inspiring']\n"
          ]
        }
      ],
      "source": [
        "# extracting the nouns and verbs\n",
        "noun_verbs = [token.text for token in doc_block if token.pos_ in (\"NOUN\",\"VERB\")]\n",
        "print(noun_verbs[0:25])"
      ]
    },
    {
      "cell_type": "markdown",
      "metadata": {
        "id": "yLAaQKfAbxmC"
      },
      "source": [
        "**# Getting the word count**"
      ]
    },
    {
      "cell_type": "code",
      "execution_count": 56,
      "metadata": {
        "id": "wpIBML-xb1Hr"
      },
      "outputs": [],
      "source": [
        "from sklearn.feature_extraction.text import CountVectorizer"
      ]
    },
    {
      "cell_type": "code",
      "execution_count": 57,
      "metadata": {
        "colab": {
          "base_uri": "https://localhost:8080/",
          "height": 300
        },
        "id": "NunAYm7cb3St",
        "outputId": "6e9321bd-5167-4714-f0fa-b7433bc99b79"
      },
      "outputs": [
        {
          "output_type": "execute_result",
          "data": {
            "text/plain": [
              "        words  count\n",
              "0       movie      1\n",
              "1        love      1\n",
              "2   animation      1\n",
              "3      beauty      1\n",
              "4    movement      1\n",
              "5       story      1\n",
              "6  empowering      1\n",
              "7   inspiring      1"
            ],
            "text/html": [
              "\n",
              "  <div id=\"df-956082b2-dee1-4be0-82e3-fd3e7642ff9c\">\n",
              "    <div class=\"colab-df-container\">\n",
              "      <div>\n",
              "<style scoped>\n",
              "    .dataframe tbody tr th:only-of-type {\n",
              "        vertical-align: middle;\n",
              "    }\n",
              "\n",
              "    .dataframe tbody tr th {\n",
              "        vertical-align: top;\n",
              "    }\n",
              "\n",
              "    .dataframe thead th {\n",
              "        text-align: right;\n",
              "    }\n",
              "</style>\n",
              "<table border=\"1\" class=\"dataframe\">\n",
              "  <thead>\n",
              "    <tr style=\"text-align: right;\">\n",
              "      <th></th>\n",
              "      <th>words</th>\n",
              "      <th>count</th>\n",
              "    </tr>\n",
              "  </thead>\n",
              "  <tbody>\n",
              "    <tr>\n",
              "      <th>0</th>\n",
              "      <td>movie</td>\n",
              "      <td>1</td>\n",
              "    </tr>\n",
              "    <tr>\n",
              "      <th>1</th>\n",
              "      <td>love</td>\n",
              "      <td>1</td>\n",
              "    </tr>\n",
              "    <tr>\n",
              "      <th>2</th>\n",
              "      <td>animation</td>\n",
              "      <td>1</td>\n",
              "    </tr>\n",
              "    <tr>\n",
              "      <th>3</th>\n",
              "      <td>beauty</td>\n",
              "      <td>1</td>\n",
              "    </tr>\n",
              "    <tr>\n",
              "      <th>4</th>\n",
              "      <td>movement</td>\n",
              "      <td>1</td>\n",
              "    </tr>\n",
              "    <tr>\n",
              "      <th>5</th>\n",
              "      <td>story</td>\n",
              "      <td>1</td>\n",
              "    </tr>\n",
              "    <tr>\n",
              "      <th>6</th>\n",
              "      <td>empowering</td>\n",
              "      <td>1</td>\n",
              "    </tr>\n",
              "    <tr>\n",
              "      <th>7</th>\n",
              "      <td>inspiring</td>\n",
              "      <td>1</td>\n",
              "    </tr>\n",
              "  </tbody>\n",
              "</table>\n",
              "</div>\n",
              "      <button class=\"colab-df-convert\" onclick=\"convertToInteractive('df-956082b2-dee1-4be0-82e3-fd3e7642ff9c')\"\n",
              "              title=\"Convert this dataframe to an interactive table.\"\n",
              "              style=\"display:none;\">\n",
              "        \n",
              "  <svg xmlns=\"http://www.w3.org/2000/svg\" height=\"24px\"viewBox=\"0 0 24 24\"\n",
              "       width=\"24px\">\n",
              "    <path d=\"M0 0h24v24H0V0z\" fill=\"none\"/>\n",
              "    <path d=\"M18.56 5.44l.94 2.06.94-2.06 2.06-.94-2.06-.94-.94-2.06-.94 2.06-2.06.94zm-11 1L8.5 8.5l.94-2.06 2.06-.94-2.06-.94L8.5 2.5l-.94 2.06-2.06.94zm10 10l.94 2.06.94-2.06 2.06-.94-2.06-.94-.94-2.06-.94 2.06-2.06.94z\"/><path d=\"M17.41 7.96l-1.37-1.37c-.4-.4-.92-.59-1.43-.59-.52 0-1.04.2-1.43.59L10.3 9.45l-7.72 7.72c-.78.78-.78 2.05 0 2.83L4 21.41c.39.39.9.59 1.41.59.51 0 1.02-.2 1.41-.59l7.78-7.78 2.81-2.81c.8-.78.8-2.07 0-2.86zM5.41 20L4 18.59l7.72-7.72 1.47 1.35L5.41 20z\"/>\n",
              "  </svg>\n",
              "      </button>\n",
              "      \n",
              "  <style>\n",
              "    .colab-df-container {\n",
              "      display:flex;\n",
              "      flex-wrap:wrap;\n",
              "      gap: 12px;\n",
              "    }\n",
              "\n",
              "    .colab-df-convert {\n",
              "      background-color: #E8F0FE;\n",
              "      border: none;\n",
              "      border-radius: 50%;\n",
              "      cursor: pointer;\n",
              "      display: none;\n",
              "      fill: #1967D2;\n",
              "      height: 32px;\n",
              "      padding: 0 0 0 0;\n",
              "      width: 32px;\n",
              "    }\n",
              "\n",
              "    .colab-df-convert:hover {\n",
              "      background-color: #E2EBFA;\n",
              "      box-shadow: 0px 1px 2px rgba(60, 64, 67, 0.3), 0px 1px 3px 1px rgba(60, 64, 67, 0.15);\n",
              "      fill: #174EA6;\n",
              "    }\n",
              "\n",
              "    [theme=dark] .colab-df-convert {\n",
              "      background-color: #3B4455;\n",
              "      fill: #D2E3FC;\n",
              "    }\n",
              "\n",
              "    [theme=dark] .colab-df-convert:hover {\n",
              "      background-color: #434B5C;\n",
              "      box-shadow: 0px 1px 3px 1px rgba(0, 0, 0, 0.15);\n",
              "      filter: drop-shadow(0px 1px 2px rgba(0, 0, 0, 0.3));\n",
              "      fill: #FFFFFF;\n",
              "    }\n",
              "  </style>\n",
              "\n",
              "      <script>\n",
              "        const buttonEl =\n",
              "          document.querySelector('#df-956082b2-dee1-4be0-82e3-fd3e7642ff9c button.colab-df-convert');\n",
              "        buttonEl.style.display =\n",
              "          google.colab.kernel.accessAllowed ? 'block' : 'none';\n",
              "\n",
              "        async function convertToInteractive(key) {\n",
              "          const element = document.querySelector('#df-956082b2-dee1-4be0-82e3-fd3e7642ff9c');\n",
              "          const dataTable =\n",
              "            await google.colab.kernel.invokeFunction('convertToInteractive',\n",
              "                                                     [key], {});\n",
              "          if (!dataTable) return;\n",
              "\n",
              "          const docLinkHtml = 'Like what you see? Visit the ' +\n",
              "            '<a target=\"_blank\" href=https://colab.research.google.com/notebooks/data_table.ipynb>data table notebook</a>'\n",
              "            + ' to learn more about interactive tables.';\n",
              "          element.innerHTML = '';\n",
              "          dataTable['output_type'] = 'display_data';\n",
              "          await google.colab.output.renderOutput(dataTable, element);\n",
              "          const docLink = document.createElement('div');\n",
              "          docLink.innerHTML = docLinkHtml;\n",
              "          element.appendChild(docLink);\n",
              "        }\n",
              "      </script>\n",
              "    </div>\n",
              "  </div>\n",
              "  "
            ]
          },
          "metadata": {},
          "execution_count": 57
        }
      ],
      "source": [
        "vectorizer = CountVectorizer()\n",
        "X = vectorizer.fit_transform(noun_verbs)\n",
        "sum_words = X.sum(axis = 0)\n",
        "word_freq = [(word, sum_words[0,idx]) for word, idx in vectorizer.vocabulary_.items()]\n",
        "word_freq = sorted(word_freq, key = lambda x: x[1], reverse = True)\n",
        "wf_df= pd.DataFrame(word_freq)\n",
        "wf_df.columns = ['words', 'count']\n",
        "wf_df[0:15]"
      ]
    },
    {
      "cell_type": "code",
      "execution_count": 60,
      "metadata": {
        "colab": {
          "base_uri": "https://localhost:8080/",
          "height": 565
        },
        "id": "kvtAZUlib41c",
        "outputId": "5ce5c137-985b-48c5-d8af-049edf6bf359"
      },
      "outputs": [
        {
          "output_type": "display_data",
          "data": {
            "text/plain": [
              "<Figure size 720x576 with 1 Axes>"
            ],
            "image/png": "[encoded data removed]"
          },
          "metadata": {
            "needs_background": "light"
          }
        }
      ],
      "source": [
        "wf_df[0:10].plot.bar(x = 'words', title = 'Nouns and Verbs', figsize = (10,8),color = 'brown');"
      ]
    },
    {
      "cell_type": "code",
      "source": [
        "from google.colab import files"
      ],
      "metadata": {
        "id": "HASw2mEQYXUC"
      },
      "execution_count": 90,
      "outputs": []
    },
    {
      "cell_type": "code",
      "source": [
        "uploaded = files.upload()"
      ],
      "metadata": {
        "colab": {
          "base_uri": "https://localhost:8080/",
          "height": 73
        },
        "id": "MDluAoLnYZHY",
        "outputId": "d70422c9-e37a-44f7-a931-98ac88bdcff7"
      },
      "execution_count": 92,
      "outputs": [
        {
          "output_type": "display_data",
          "data": {
            "text/plain": [
              "<IPython.core.display.HTML object>"
            ],
            "text/html": [
              "\n",
              "     <input type=\"file\" id=\"files-45ab7a32-2aab-4c66-b801-449031ab0607\" name=\"files[]\" multiple disabled\n",
              "        style=\"border:none\" />\n",
              "     <output id=\"result-45ab7a32-2aab-4c66-b801-449031ab0607\">\n",
              "      Upload widget is only available when the cell has been executed in the\n",
              "      current browser session. Please rerun this cell to enable.\n",
              "      </output>\n",
              "      <script>// Copyright 2017 Google LLC\n",
              "//\n",
              "// Licensed under the Apache License, Version 2.0 (the \"License\");\n",
              "// you may not use this file except in compliance with the License.\n",
              "// You may obtain a copy of the License at\n",
              "//\n",
              "//      http://www.apache.org/licenses/LICENSE-2.0\n",
              "//\n",
              "// Unless required by applicable law or agreed to in writing, software\n",
              "// distributed under the License is distributed on an \"AS IS\" BASIS,\n",
              "// WITHOUT WARRANTIES OR CONDITIONS OF ANY KIND, either express or implied.\n",
              "// See the License for the specific language governing permissions and\n",
              "// limitations under the License.\n",
              "\n",
              "/**\n",
              " * @fileoverview Helpers for google.colab Python module.\n",
              " */\n",
              "(function(scope) {\n",
              "function span(text, styleAttributes = {}) {\n",
              "  const element = document.createElement('span');\n",
              "  element.textContent = text;\n",
              "  for (const key of Object.keys(styleAttributes)) {\n",
              "    element.style[key] = styleAttributes[key];\n",
              "  }\n",
              "  return element;\n",
              "}\n",
              "\n",
              "// Max number of bytes which will be uploaded at a time.\n",
              "const MAX_PAYLOAD_SIZE = 100 * 1024;\n",
              "\n",
              "function _uploadFiles(inputId, outputId) {\n",
              "  const steps = uploadFilesStep(inputId, outputId);\n",
              "  const outputElement = document.getElementById(outputId);\n",
              "  // Cache steps on the outputElement to make it available for the next call\n",
              "  // to uploadFilesContinue from Python.\n",
              "  outputElement.steps = steps;\n",
              "\n",
              "  return _uploadFilesContinue(outputId);\n",
              "}\n",
              "\n",
              "// This is roughly an async generator (not supported in the browser yet),\n",
              "// where there are multiple asynchronous steps and the Python side is going\n",
              "// to poll for completion of each step.\n",
              "// This uses a Promise to block the python side on completion of each step,\n",
              "// then passes the result of the previous step as the input to the next step.\n",
              "function _uploadFilesContinue(outputId) {\n",
              "  const outputElement = document.getElementById(outputId);\n",
              "  const steps = outputElement.steps;\n",
              "\n",
              "  const next = steps.next(outputElement.lastPromiseValue);\n",
              "  return Promise.resolve(next.value.promise).then((value) => {\n",
              "    // Cache the last promise value to make it available to the next\n",
              "    // step of the generator.\n",
              "    outputElement.lastPromiseValue = value;\n",
              "    return next.value.response;\n",
              "  });\n",
              "}\n",
              "\n",
              "/**\n",
              " * Generator function which is called between each async step of the upload\n",
              " * process.\n",
              " * @param {string} inputId Element ID of the input file picker element.\n",
              " * @param {string} outputId Element ID of the output display.\n",
              " * @return {!Iterable<!Object>} Iterable of next steps.\n",
              " */\n",
              "function* uploadFilesStep(inputId, outputId) {\n",
              "  const inputElement = document.getElementById(inputId);\n",
              "  inputElement.disabled = false;\n",
              "\n",
              "  const outputElement = document.getElementById(outputId);\n",
              "  outputElement.innerHTML = '';\n",
              "\n",
              "  const pickedPromise = new Promise((resolve) => {\n",
              "    inputElement.addEventListener('change', (e) => {\n",
              "      resolve(e.target.files);\n",
              "    });\n",
              "  });\n",
              "\n",
              "  const cancel = document.createElement('button');\n",
              "  inputElement.parentElement.appendChild(cancel);\n",
              "  cancel.textContent = 'Cancel upload';\n",
              "  const cancelPromise = new Promise((resolve) => {\n",
              "    cancel.onclick = () => {\n",
              "      resolve(null);\n",
              "    };\n",
              "  });\n",
              "\n",
              "  // Wait for the user to pick the files.\n",
              "  const files = yield {\n",
              "    promise: Promise.race([pickedPromise, cancelPromise]),\n",
              "    response: {\n",
              "      action: 'starting',\n",
              "    }\n",
              "  };\n",
              "\n",
              "  cancel.remove();\n",
              "\n",
              "  // Disable the input element since further picks are not allowed.\n",
              "  inputElement.disabled = true;\n",
              "\n",
              "  if (!files) {\n",
              "    return {\n",
              "      response: {\n",
              "        action: 'complete',\n",
              "      }\n",
              "    };\n",
              "  }\n",
              "\n",
              "  for (const file of files) {\n",
              "    const li = document.createElement('li');\n",
              "    li.append(span(file.name, {fontWeight: 'bold'}));\n",
              "    li.append(span(\n",
              "        `(${file.type || 'n/a'}) - ${file.size} bytes, ` +\n",
              "        `last modified: ${\n",
              "            file.lastModifiedDate ? file.lastModifiedDate.toLocaleDateString() :\n",
              "                                    'n/a'} - `));\n",
              "    const percent = span('0% done');\n",
              "    li.appendChild(percent);\n",
              "\n",
              "    outputElement.appendChild(li);\n",
              "\n",
              "    const fileDataPromise = new Promise((resolve) => {\n",
              "      const reader = new FileReader();\n",
              "      reader.onload = (e) => {\n",
              "        resolve(e.target.result);\n",
              "      };\n",
              "      reader.readAsArrayBuffer(file);\n",
              "    });\n",
              "    // Wait for the data to be ready.\n",
              "    let fileData = yield {\n",
              "      promise: fileDataPromise,\n",
              "      response: {\n",
              "        action: 'continue',\n",
              "      }\n",
              "    };\n",
              "\n",
              "    // Use a chunked sending to avoid message size limits. See b/62115660.\n",
              "    let position = 0;\n",
              "    do {\n",
              "      const length = Math.min(fileData.byteLength - position, MAX_PAYLOAD_SIZE);\n",
              "      const chunk = new Uint8Array(fileData, position, length);\n",
              "      position += length;\n",
              "\n",
              "      const base64 = btoa(String.fromCharCode.apply(null, chunk));\n",
              "      yield {\n",
              "        response: {\n",
              "          action: 'append',\n",
              "          file: file.name,\n",
              "          data: base64,\n",
              "        },\n",
              "      };\n",
              "\n",
              "      let percentDone = fileData.byteLength === 0 ?\n",
              "          100 :\n",
              "          Math.round((position / fileData.byteLength) * 100);\n",
              "      percent.textContent = `${percentDone}% done`;\n",
              "\n",
              "    } while (position < fileData.byteLength);\n",
              "  }\n",
              "\n",
              "  // All done.\n",
              "  yield {\n",
              "    response: {\n",
              "      action: 'complete',\n",
              "    }\n",
              "  };\n",
              "}\n",
              "\n",
              "scope.google = scope.google || {};\n",
              "scope.google.colab = scope.google.colab || {};\n",
              "scope.google.colab._files = {\n",
              "  _uploadFiles,\n",
              "  _uploadFilesContinue,\n",
              "};\n",
              "})(self);\n",
              "</script> "
            ]
          },
          "metadata": {}
        },
        {
          "output_type": "stream",
          "name": "stdout",
          "text": [
            "Saving Afinn.csv to Afinn (2).csv\n"
          ]
        }
      ]
    },
    {
      "cell_type": "code",
      "source": [
        "for fn in uploaded.keys():\n",
        "  print('User uploaded file \"{name}\" with length {length} bytes'.format(\n",
        "      name=fn, length=len(uploaded[fn])))"
      ],
      "metadata": {
        "colab": {
          "base_uri": "https://localhost:8080/"
        },
        "id": "EGxVGzaBVkOJ",
        "outputId": "39a2b111-8a3c-48d0-c2f5-f174e36b7f3f"
      },
      "execution_count": 93,
      "outputs": [
        {
          "output_type": "stream",
          "name": "stdout",
          "text": [
            "User uploaded file \"Afinn.csv\" with length 30582 bytes\n"
          ]
        }
      ]
    },
    {
      "cell_type": "code",
      "source": [
        "uploaded"
      ],
      "metadata": {
        "colab": {
          "base_uri": "https://localhost:8080/"
        },
        "id": "JguqyHtlYk_f",
        "outputId": "556e4b94-8cee-4867-ca59-6deb3ee228ad"
      },
      "execution_count": 94,
      "outputs": [
        {
          "output_type": "execute_result",
          "data": {
            "text/plain": [
              "{'Afinn.csv': b\"word,value\\r\\nabandon,-2\\r\\nabandoned,-2\\r\\nabandons,-2\\r\\nabducted,-2\\r\\nabduction,-2\\r\\nabductions,-2\\r\\nabhor,-3\\r\\nabhorred,-3\\r\\nabhorrent,-3\\r\\nabhors,-3\\r\\nabilities,2\\r\\nability,2\\r\\naboard,1\\r\\nabsentee,-1\\r\\nabsentees,-1\\r\\nabsolve,2\\r\\nabsolved,2\\r\\nabsolves,2\\r\\nabsolving,2\\r\\nabsorbed,1\\r\\nabuse,-3\\r\\nabused,-3\\r\\nabuses,-3\\r\\nabusive,-3\\r\\naccept,1\\r\\naccepted,1\\r\\naccepting,1\\r\\naccepts,1\\r\\naccident,-2\\r\\naccidental,-2\\r\\naccidentally,-2\\r\\naccidents,-2\\r\\naccomplish,2\\r\\naccomplished,2\\r\\naccomplishes,2\\r\\naccusation,-2\\r\\naccusations,-2\\r\\naccuse,-2\\r\\naccused,-2\\r\\naccuses,-2\\r\\naccusing,-2\\r\\nache,-2\\r\\nachievable,1\\r\\naching,-2\\r\\nacquit,2\\r\\nacquits,2\\r\\nacquitted,2\\r\\nacquitting,2\\r\\nacrimonious,-3\\r\\nactive,1\\r\\nadequate,1\\r\\nadmire,3\\r\\nadmired,3\\r\\nadmires,3\\r\\nadmiring,3\\r\\nadmit,-1\\r\\nadmits,-1\\r\\nadmitted,-1\\r\\nadmonish,-2\\r\\nadmonished,-2\\r\\nadopt,1\\r\\nadopts,1\\r\\nadorable,3\\r\\nadore,3\\r\\nadored,3\\r\\nadores,3\\r\\nadvanced,1\\r\\nadvantage,2\\r\\nadvantages,2\\r\\nadventure,2\\r\\nadventures,2\\r\\nadventurous,2\\r\\naffected,-1\\r\\naffection,3\\r\\naffectionate,3\\r\\nafflicted,-1\\r\\naffronted,-1\\r\\nafraid,-2\\r\\naggravate,-2\\r\\naggravated,-2\\r\\naggravates,-2\\r\\naggravating,-2\\r\\naggression,-2\\r\\naggressions,-2\\r\\naggressive,-2\\r\\naghast,-2\\r\\nagog,2\\r\\nagonise,-3\\r\\nagonised,-3\\r\\nagonises,-3\\r\\nagonising,-3\\r\\nagonize,-3\\r\\nagonized,-3\\r\\nagonizes,-3\\r\\nagonizing,-3\\r\\nagree,1\\r\\nagreeable,2\\r\\nagreed,1\\r\\nagreement,1\\r\\nagrees,1\\r\\nalarm,-2\\r\\nalarmed,-2\\r\\nalarmist,-2\\r\\nalarmists,-2\\r\\nalas,-1\\r\\nalert,-1\\r\\nalienation,-2\\r\\nalive,1\\r\\nallergic,-2\\r\\nallow,1\\r\\nalone,-2\\r\\namaze,2\\r\\namazed,2\\r\\namazes,2\\r\\namazing,4\\r\\nambitious,2\\r\\nambivalent,-1\\r\\namuse,3\\r\\namused,3\\r\\namusement,3\\r\\namusements,3\\r\\nanger,-3\\r\\nangers,-3\\r\\nangry,-3\\r\\nanguish,-3\\r\\nanguished,-3\\r\\nanimosity,-2\\r\\nannoy,-2\\r\\nannoyance,-2\\r\\nannoyed,-2\\r\\nannoying,-2\\r\\nannoys,-2\\r\\nantagonistic,-2\\r\\nanti,-1\\r\\nanticipation,1\\r\\nanxiety,-2\\r\\nanxious,-2\\r\\napathetic,-3\\r\\napathy,-3\\r\\napeshit,-3\\r\\napocalyptic,-2\\r\\napologise,-1\\r\\napologised,-1\\r\\napologises,-1\\r\\napologising,-1\\r\\napologize,-1\\r\\napologized,-1\\r\\napologizes,-1\\r\\napologizing,-1\\r\\napology,-1\\r\\nappalled,-2\\r\\nappalling,-2\\r\\nappease,2\\r\\nappeased,2\\r\\nappeases,2\\r\\nappeasing,2\\r\\napplaud,2\\r\\napplauded,2\\r\\napplauding,2\\r\\napplauds,2\\r\\napplause,2\\r\\nappreciate,2\\r\\nappreciated,2\\r\\nappreciates,2\\r\\nappreciating,2\\r\\nappreciation,2\\r\\napprehensive,-2\\r\\napproval,2\\r\\napproved,2\\r\\napproves,2\\r\\nardent,1\\r\\narrest,-2\\r\\narrested,-3\\r\\narrests,-2\\r\\narrogant,-2\\r\\nashame,-2\\r\\nashamed,-2\\r\\nass,-4\\r\\nassassination,-3\\r\\nassassinations,-3\\r\\nasset,2\\r\\nassets,2\\r\\nassfucking,-4\\r\\nasshole,-4\\r\\nastonished,2\\r\\nastound,3\\r\\nastounded,3\\r\\nastounding,3\\r\\nastoundingly,3\\r\\nastounds,3\\r\\nattack,-1\\r\\nattacked,-1\\r\\nattacking,-1\\r\\nattacks,-1\\r\\nattract,1\\r\\nattracted,1\\r\\nattracting,2\\r\\nattraction,2\\r\\nattractions,2\\r\\nattracts,1\\r\\naudacious,3\\r\\nauthority,1\\r\\navert,-1\\r\\naverted,-1\\r\\naverts,-1\\r\\navid,2\\r\\navoid,-1\\r\\navoided,-1\\r\\navoids,-1\\r\\nawait,-1\\r\\nawaited,-1\\r\\nawaits,-1\\r\\naward,3\\r\\nawarded,3\\r\\nawards,3\\r\\nawesome,4\\r\\nawful,-3\\r\\nawkward,-2\\r\\naxe,-1\\r\\naxed,-1\\r\\nbacked,1\\r\\nbacking,2\\r\\nbacks,1\\r\\nbad,-3\\r\\nbadass,-3\\r\\nbadly,-3\\r\\nbailout,-2\\r\\nbamboozle,-2\\r\\nbamboozled,-2\\r\\nbamboozles,-2\\r\\nban,-2\\r\\nbanish,-1\\r\\nbankrupt,-3\\r\\nbankster,-3\\r\\nbanned,-2\\r\\nbargain,2\\r\\nbarrier,-2\\r\\nbastard,-5\\r\\nbastards,-5\\r\\nbattle,-1\\r\\nbattles,-1\\r\\nbeaten,-2\\r\\nbeatific,3\\r\\nbeating,-1\\r\\nbeauties,3\\r\\nbeautiful,3\\r\\nbeautifully,3\\r\\nbeautify,3\\r\\nbelittle,-2\\r\\nbelittled,-2\\r\\nbeloved,3\\r\\nbenefit,2\\r\\nbenefits,2\\r\\nbenefitted,2\\r\\nbenefitting,2\\r\\nbereave,-2\\r\\nbereaved,-2\\r\\nbereaves,-2\\r\\nbereaving,-2\\r\\nbest,3\\r\\nbetray,-3\\r\\nbetrayal,-3\\r\\nbetrayed,-3\\r\\nbetraying,-3\\r\\nbetrays,-3\\r\\nbetter,2\\r\\nbias,-1\\r\\nbiased,-2\\r\\nbig,1\\r\\nbitch,-5\\r\\nbitches,-5\\r\\nbitter,-2\\r\\nbitterly,-2\\r\\nbizarre,-2\\r\\nblah,-2\\r\\nblame,-2\\r\\nblamed,-2\\r\\nblames,-2\\r\\nblaming,-2\\r\\nbless,2\\r\\nblesses,2\\r\\nblessing,3\\r\\nblind,-1\\r\\nbliss,3\\r\\nblissful,3\\r\\nblithe,2\\r\\nblock,-1\\r\\nblockbuster,3\\r\\nblocked,-1\\r\\nblocking,-1\\r\\nblocks,-1\\r\\nbloody,-3\\r\\nblurry,-2\\r\\nboastful,-2\\r\\nbold,2\\r\\nboldly,2\\r\\nbomb,-1\\r\\nboost,1\\r\\nboosted,1\\r\\nboosting,1\\r\\nboosts,1\\r\\nbore,-2\\r\\nbored,-2\\r\\nboring,-3\\r\\nbother,-2\\r\\nbothered,-2\\r\\nbothers,-2\\r\\nbothersome,-2\\r\\nboycott,-2\\r\\nboycotted,-2\\r\\nboycotting,-2\\r\\nboycotts,-2\\r\\nbrainwashing,-3\\r\\nbrave,2\\r\\nbreakthrough,3\\r\\nbreathtaking,5\\r\\nbribe,-3\\r\\nbright,1\\r\\nbrightest,2\\r\\nbrightness,1\\r\\nbrilliant,4\\r\\nbrisk,2\\r\\nbroke,-1\\r\\nbroken,-1\\r\\nbrooding,-2\\r\\nbullied,-2\\r\\nbullshit,-4\\r\\nbully,-2\\r\\nbullying,-2\\r\\nbummer,-2\\r\\nbuoyant,2\\r\\nburden,-2\\r\\nburdened,-2\\r\\nburdening,-2\\r\\nburdens,-2\\r\\ncalm,2\\r\\ncalmed,2\\r\\ncalming,2\\r\\ncalms,2\\r\\ncan't stand,-3\\r\\ncancel,-1\\r\\ncancelled,-1\\r\\ncancelling,-1\\r\\ncancels,-1\\r\\ncancer,-1\\r\\ncapable,1\\r\\ncaptivated,3\\r\\ncare,2\\r\\ncarefree,1\\r\\ncareful,2\\r\\ncarefully,2\\r\\ncareless,-2\\r\\ncares,2\\r\\ncashing in,-2\\r\\ncasualty,-2\\r\\ncatastrophe,-3\\r\\ncatastrophic,-4\\r\\ncautious,-1\\r\\ncelebrate,3\\r\\ncelebrated,3\\r\\ncelebrates,3\\r\\ncelebrating,3\\r\\ncensor,-2\\r\\ncensored,-2\\r\\ncensors,-2\\r\\ncertain,1\\r\\nchagrin,-2\\r\\nchagrined,-2\\r\\nchallenge,-1\\r\\nchance,2\\r\\nchances,2\\r\\nchaos,-2\\r\\nchaotic,-2\\r\\ncharged,-3\\r\\ncharges,-2\\r\\ncharm,3\\r\\ncharming,3\\r\\ncharmless,-3\\r\\nchastise,-3\\r\\nchastised,-3\\r\\nchastises,-3\\r\\nchastising,-3\\r\\ncheat,-3\\r\\ncheated,-3\\r\\ncheater,-3\\r\\ncheaters,-3\\r\\ncheats,-3\\r\\ncheer,2\\r\\ncheered,2\\r\\ncheerful,2\\r\\ncheering,2\\r\\ncheerless,-2\\r\\ncheers,2\\r\\ncheery,3\\r\\ncherish,2\\r\\ncherished,2\\r\\ncherishes,2\\r\\ncherishing,2\\r\\nchic,2\\r\\nchildish,-2\\r\\nchilling,-1\\r\\nchoke,-2\\r\\nchoked,-2\\r\\nchokes,-2\\r\\nchoking,-2\\r\\nclarifies,2\\r\\nclarity,2\\r\\nclash,-2\\r\\nclassy,3\\r\\nclean,2\\r\\ncleaner,2\\r\\nclear,1\\r\\ncleared,1\\r\\nclearly,1\\r\\nclears,1\\r\\nclever,2\\r\\nclouded,-1\\r\\nclueless,-2\\r\\ncock,-5\\r\\ncocksucker,-5\\r\\ncocksuckers,-5\\r\\ncocky,-2\\r\\ncoerced,-2\\r\\ncollapse,-2\\r\\ncollapsed,-2\\r\\ncollapses,-2\\r\\ncollapsing,-2\\r\\ncollide,-1\\r\\ncollides,-1\\r\\ncolliding,-1\\r\\ncollision,-2\\r\\ncollisions,-2\\r\\ncolluding,-3\\r\\ncombat,-1\\r\\ncombats,-1\\r\\ncomedy,1\\r\\ncomfort,2\\r\\ncomfortable,2\\r\\ncomforting,2\\r\\ncomforts,2\\r\\ncommend,2\\r\\ncommended,2\\r\\ncommit,1\\r\\ncommitment,2\\r\\ncommits,1\\r\\ncommitted,1\\r\\ncommitting,1\\r\\ncompassionate,2\\r\\ncompelled,1\\r\\ncompetent,2\\r\\ncompetitive,2\\r\\ncomplacent,-2\\r\\ncomplain,-2\\r\\ncomplained,-2\\r\\ncomplains,-2\\r\\ncomprehensive,2\\r\\nconciliate,2\\r\\nconciliated,2\\r\\nconciliates,2\\r\\nconciliating,2\\r\\ncondemn,-2\\r\\ncondemnation,-2\\r\\ncondemned,-2\\r\\ncondemns,-2\\r\\nconfidence,2\\r\\nconfident,2\\r\\nconflict,-2\\r\\nconflicting,-2\\r\\nconflictive,-2\\r\\nconflicts,-2\\r\\nconfuse,-2\\r\\nconfused,-2\\r\\nconfusing,-2\\r\\ncongrats,2\\r\\ncongratulate,2\\r\\ncongratulation,2\\r\\ncongratulations,2\\r\\nconsent,2\\r\\nconsents,2\\r\\nconsolable,2\\r\\nconspiracy,-3\\r\\nconstrained,-2\\r\\ncontagion,-2\\r\\ncontagions,-2\\r\\ncontagious,-1\\r\\ncontempt,-2\\r\\ncontemptuous,-2\\r\\ncontemptuously,-2\\r\\ncontend,-1\\r\\ncontender,-1\\r\\ncontending,-1\\r\\ncontentious,-2\\r\\ncontestable,-2\\r\\ncontroversial,-2\\r\\ncontroversially,-2\\r\\nconvince,1\\r\\nconvinced,1\\r\\nconvinces,1\\r\\nconvivial,2\\r\\ncool,1\\r\\ncool stuff,3\\r\\ncornered,-2\\r\\ncorpse,-1\\r\\ncostly,-2\\r\\ncourage,2\\r\\ncourageous,2\\r\\ncourteous,2\\r\\ncourtesy,2\\r\\ncover-up,-3\\r\\ncoward,-2\\r\\ncowardly,-2\\r\\ncoziness,2\\r\\ncramp,-1\\r\\ncrap,-3\\r\\ncrash,-2\\r\\ncrazier,-2\\r\\ncraziest,-2\\r\\ncrazy,-2\\r\\ncreative,2\\r\\ncrestfallen,-2\\r\\ncried,-2\\r\\ncries,-2\\r\\ncrime,-3\\r\\ncriminal,-3\\r\\ncriminals,-3\\r\\ncrisis,-3\\r\\ncritic,-2\\r\\ncriticism,-2\\r\\ncriticize,-2\\r\\ncriticized,-2\\r\\ncriticizes,-2\\r\\ncriticizing,-2\\r\\ncritics,-2\\r\\ncruel,-3\\r\\ncruelty,-3\\r\\ncrush,-1\\r\\ncrushed,-2\\r\\ncrushes,-1\\r\\ncrushing,-1\\r\\ncry,-1\\r\\ncrying,-2\\r\\ncunt,-5\\r\\ncurious,1\\r\\ncurse,-1\\r\\ncut,-1\\r\\ncute,2\\r\\ncuts,-1\\r\\ncutting,-1\\r\\ncynic,-2\\r\\ncynical,-2\\r\\ncynicism,-2\\r\\ndamage,-3\\r\\ndamages,-3\\r\\ndamn,-4\\r\\ndamned,-4\\r\\ndamnit,-4\\r\\ndanger,-2\\r\\ndaredevil,2\\r\\ndaring,2\\r\\ndarkest,-2\\r\\ndarkness,-1\\r\\ndauntless,2\\r\\ndead,-3\\r\\ndeadlock,-2\\r\\ndeafening,-1\\r\\ndear,2\\r\\ndearly,3\\r\\ndeath,-2\\r\\ndebonair,2\\r\\ndebt,-2\\r\\ndeceit,-3\\r\\ndeceitful,-3\\r\\ndeceive,-3\\r\\ndeceived,-3\\r\\ndeceives,-3\\r\\ndeceiving,-3\\r\\ndeception,-3\\r\\ndecisive,1\\r\\ndedicated,2\\r\\ndefeated,-2\\r\\ndefect,-3\\r\\ndefects,-3\\r\\ndefender,2\\r\\ndefenders,2\\r\\ndefenseless,-2\\r\\ndefer,-1\\r\\ndeferring,-1\\r\\ndefiant,-1\\r\\ndeficit,-2\\r\\ndegrade,-2\\r\\ndegraded,-2\\r\\ndegrades,-2\\r\\ndehumanize,-2\\r\\ndehumanized,-2\\r\\ndehumanizes,-2\\r\\ndehumanizing,-2\\r\\ndeject,-2\\r\\ndejected,-2\\r\\ndejecting,-2\\r\\ndejects,-2\\r\\ndelay,-1\\r\\ndelayed,-1\\r\\ndelight,3\\r\\ndelighted,3\\r\\ndelighting,3\\r\\ndelights,3\\r\\ndemand,-1\\r\\ndemanded,-1\\r\\ndemanding,-1\\r\\ndemands,-1\\r\\ndemonstration,-1\\r\\ndemoralized,-2\\r\\ndenied,-2\\r\\ndenier,-2\\r\\ndeniers,-2\\r\\ndenies,-2\\r\\ndenounce,-2\\r\\ndenounces,-2\\r\\ndeny,-2\\r\\ndenying,-2\\r\\ndepressed,-2\\r\\ndepressing,-2\\r\\nderail,-2\\r\\nderailed,-2\\r\\nderails,-2\\r\\nderide,-2\\r\\nderided,-2\\r\\nderides,-2\\r\\nderiding,-2\\r\\nderision,-2\\r\\ndesirable,2\\r\\ndesire,1\\r\\ndesired,2\\r\\ndesirous,2\\r\\ndespair,-3\\r\\ndespairing,-3\\r\\ndespairs,-3\\r\\ndesperate,-3\\r\\ndesperately,-3\\r\\ndespondent,-3\\r\\ndestroy,-3\\r\\ndestroyed,-3\\r\\ndestroying,-3\\r\\ndestroys,-3\\r\\ndestruction,-3\\r\\ndestructive,-3\\r\\ndetached,-1\\r\\ndetain,-2\\r\\ndetained,-2\\r\\ndetention,-2\\r\\ndetermined,2\\r\\ndevastate,-2\\r\\ndevastated,-2\\r\\ndevastating,-2\\r\\ndevoted,3\\r\\ndiamond,1\\r\\ndick,-4\\r\\ndickhead,-4\\r\\ndie,-3\\r\\ndied,-3\\r\\ndifficult,-1\\r\\ndiffident,-2\\r\\ndilemma,-1\\r\\ndipshit,-3\\r\\ndire,-3\\r\\ndireful,-3\\r\\ndirt,-2\\r\\ndirtier,-2\\r\\ndirtiest,-2\\r\\ndirty,-2\\r\\ndisabling,-1\\r\\ndisadvantage,-2\\r\\ndisadvantaged,-2\\r\\ndisappear,-1\\r\\ndisappeared,-1\\r\\ndisappears,-1\\r\\ndisappoint,-2\\r\\ndisappointed,-2\\r\\ndisappointing,-2\\r\\ndisappointment,-2\\r\\ndisappointments,-2\\r\\ndisappoints,-2\\r\\ndisaster,-2\\r\\ndisasters,-2\\r\\ndisastrous,-3\\r\\ndisbelieve,-2\\r\\ndiscard,-1\\r\\ndiscarded,-1\\r\\ndiscarding,-1\\r\\ndiscards,-1\\r\\ndisconsolate,-2\\r\\ndisconsolation,-2\\r\\ndiscontented,-2\\r\\ndiscord,-2\\r\\ndiscounted,-1\\r\\ndiscouraged,-2\\r\\ndiscredited,-2\\r\\ndisdain,-2\\r\\ndisgrace,-2\\r\\ndisgraced,-2\\r\\ndisguise,-1\\r\\ndisguised,-1\\r\\ndisguises,-1\\r\\ndisguising,-1\\r\\ndisgust,-3\\r\\ndisgusted,-3\\r\\ndisgusting,-3\\r\\ndisheartened,-2\\r\\ndishonest,-2\\r\\ndisillusioned,-2\\r\\ndisinclined,-2\\r\\ndisjointed,-2\\r\\ndislike,-2\\r\\ndismal,-2\\r\\ndismayed,-2\\r\\ndisorder,-2\\r\\ndisorganized,-2\\r\\ndisoriented,-2\\r\\ndisparage,-2\\r\\ndisparaged,-2\\r\\ndisparages,-2\\r\\ndisparaging,-2\\r\\ndispleased,-2\\r\\ndispute,-2\\r\\ndisputed,-2\\r\\ndisputes,-2\\r\\ndisputing,-2\\r\\ndisqualified,-2\\r\\ndisquiet,-2\\r\\ndisregard,-2\\r\\ndisregarded,-2\\r\\ndisregarding,-2\\r\\ndisregards,-2\\r\\ndisrespect,-2\\r\\ndisrespected,-2\\r\\ndisruption,-2\\r\\ndisruptions,-2\\r\\ndisruptive,-2\\r\\ndissatisfied,-2\\r\\ndistort,-2\\r\\ndistorted,-2\\r\\ndistorting,-2\\r\\ndistorts,-2\\r\\ndistract,-2\\r\\ndistracted,-2\\r\\ndistraction,-2\\r\\ndistracts,-2\\r\\ndistress,-2\\r\\ndistressed,-2\\r\\ndistresses,-2\\r\\ndistressing,-2\\r\\ndistrust,-3\\r\\ndistrustful,-3\\r\\ndisturb,-2\\r\\ndisturbed,-2\\r\\ndisturbing,-2\\r\\ndisturbs,-2\\r\\ndithering,-2\\r\\ndizzy,-1\\r\\ndodging,-2\\r\\ndodgy,-2\\r\\ndoes not work,-3\\r\\ndolorous,-2\\r\\ndont like,-2\\r\\ndoom,-2\\r\\ndoomed,-2\\r\\ndoubt,-1\\r\\ndoubted,-1\\r\\ndoubtful,-1\\r\\ndoubting,-1\\r\\ndoubts,-1\\r\\ndouche,-3\\r\\ndouchebag,-3\\r\\ndowncast,-2\\r\\ndownhearted,-2\\r\\ndownside,-2\\r\\ndrag,-1\\r\\ndragged,-1\\r\\ndrags,-1\\r\\ndrained,-2\\r\\ndread,-2\\r\\ndreaded,-2\\r\\ndreadful,-3\\r\\ndreading,-2\\r\\ndream,1\\r\\ndreams,1\\r\\ndreary,-2\\r\\ndroopy,-2\\r\\ndrop,-1\\r\\ndrown,-2\\r\\ndrowned,-2\\r\\ndrowns,-2\\r\\ndrunk,-2\\r\\ndubious,-2\\r\\ndud,-2\\r\\ndull,-2\\r\\ndumb,-3\\r\\ndumbass,-3\\r\\ndump,-1\\r\\ndumped,-2\\r\\ndumps,-1\\r\\ndupe,-2\\r\\nduped,-2\\r\\ndysfunction,-2\\r\\neager,2\\r\\nearnest,2\\r\\nease,2\\r\\neasy,1\\r\\necstatic,4\\r\\neerie,-2\\r\\neery,-2\\r\\neffective,2\\r\\neffectively,2\\r\\nelated,3\\r\\nelation,3\\r\\nelegant,2\\r\\nelegantly,2\\r\\nembarrass,-2\\r\\nembarrassed,-2\\r\\nembarrasses,-2\\r\\nembarrassing,-2\\r\\nembarrassment,-2\\r\\nembittered,-2\\r\\nembrace,1\\r\\nemergency,-2\\r\\nempathetic,2\\r\\nemptiness,-1\\r\\nempty,-1\\r\\nenchanted,2\\r\\nencourage,2\\r\\nencouraged,2\\r\\nencouragement,2\\r\\nencourages,2\\r\\nendorse,2\\r\\nendorsed,2\\r\\nendorsement,2\\r\\nendorses,2\\r\\nenemies,-2\\r\\nenemy,-2\\r\\nenergetic,2\\r\\nengage,1\\r\\nengages,1\\r\\nengrossed,1\\r\\nenjoy,2\\r\\nenjoying,2\\r\\nenjoys,2\\r\\nenlighten,2\\r\\nenlightened,2\\r\\nenlightening,2\\r\\nenlightens,2\\r\\nennui,-2\\r\\nenrage,-2\\r\\nenraged,-2\\r\\nenrages,-2\\r\\nenraging,-2\\r\\nenrapture,3\\r\\nenslave,-2\\r\\nenslaved,-2\\r\\nenslaves,-2\\r\\nensure,1\\r\\nensuring,1\\r\\nenterprising,1\\r\\nentertaining,2\\r\\nenthral,3\\r\\nenthusiastic,3\\r\\nentitled,1\\r\\nentrusted,2\\r\\nenvies,-1\\r\\nenvious,-2\\r\\nenvy,-1\\r\\nenvying,-1\\r\\nerroneous,-2\\r\\nerror,-2\\r\\nerrors,-2\\r\\nescape,-1\\r\\nescapes,-1\\r\\nescaping,-1\\r\\nesteemed,2\\r\\nethical,2\\r\\neuphoria,3\\r\\neuphoric,4\\r\\neviction,-1\\r\\nevil,-3\\r\\nexaggerate,-2\\r\\nexaggerated,-2\\r\\nexaggerates,-2\\r\\nexaggerating,-2\\r\\nexasperated,2\\r\\nexcellence,3\\r\\nexcellent,3\\r\\nexcite,3\\r\\nexcited,3\\r\\nexcitement,3\\r\\nexciting,3\\r\\nexclude,-1\\r\\nexcluded,-2\\r\\nexclusion,-1\\r\\nexclusive,2\\r\\nexcuse,-1\\r\\nexempt,-1\\r\\nexhausted,-2\\r\\nexhilarated,3\\r\\nexhilarates,3\\r\\nexhilarating,3\\r\\nexonerate,2\\r\\nexonerated,2\\r\\nexonerates,2\\r\\nexonerating,2\\r\\nexpand,1\\r\\nexpands,1\\r\\nexpel,-2\\r\\nexpelled,-2\\r\\nexpelling,-2\\r\\nexpels,-2\\r\\nexploit,-2\\r\\nexploited,-2\\r\\nexploiting,-2\\r\\nexploits,-2\\r\\nexploration,1\\r\\nexplorations,1\\r\\nexpose,-1\\r\\nexposed,-1\\r\\nexposes,-1\\r\\nexposing,-1\\r\\nextend,1\\r\\nextends,1\\r\\nexuberant,4\\r\\nexultant,3\\r\\nexultantly,3\\r\\nfabulous,4\\r\\nfad,-2\\r\\nfag,-3\\r\\nfaggot,-3\\r\\nfaggots,-3\\r\\nfail,-2\\r\\nfailed,-2\\r\\nfailing,-2\\r\\nfails,-2\\r\\nfailure,-2\\r\\nfailures,-2\\r\\nfainthearted,-2\\r\\nfair,2\\r\\nfaith,1\\r\\nfaithful,3\\r\\nfake,-3\\r\\nfakes,-3\\r\\nfaking,-3\\r\\nfallen,-2\\r\\nfalling,-1\\r\\nfalsified,-3\\r\\nfalsify,-3\\r\\nfame,1\\r\\nfan,3\\r\\nfantastic,4\\r\\nfarce,-1\\r\\nfascinate,3\\r\\nfascinated,3\\r\\nfascinates,3\\r\\nfascinating,3\\r\\nfascist,-2\\r\\nfascists,-2\\r\\nfatalities,-3\\r\\nfatality,-3\\r\\nfatigue,-2\\r\\nfatigued,-2\\r\\nfatigues,-2\\r\\nfatiguing,-2\\r\\nfavor,2\\r\\nfavored,2\\r\\nfavorite,2\\r\\nfavorited,2\\r\\nfavorites,2\\r\\nfavors,2\\r\\nfear,-2\\r\\nfearful,-2\\r\\nfearing,-2\\r\\nfearless,2\\r\\nfearsome,-2\\r\\nfed up,-3\\r\\nfeeble,-2\\r\\nfeeling,1\\r\\nfelonies,-3\\r\\nfelony,-3\\r\\nfervent,2\\r\\nfervid,2\\r\\nfestive,2\\r\\nfiasco,-3\\r\\nfidgety,-2\\r\\nfight,-1\\r\\nfine,2\\r\\nfire,-2\\r\\nfired,-2\\r\\nfiring,-2\\r\\nfit,1\\r\\nfitness,1\\r\\nflagship,2\\r\\nflees,-1\\r\\nflop,-2\\r\\nflops,-2\\r\\nflu,-2\\r\\nflustered,-2\\r\\nfocused,2\\r\\nfond,2\\r\\nfondness,2\\r\\nfool,-2\\r\\nfoolish,-2\\r\\nfools,-2\\r\\nforced,-1\\r\\nforeclosure,-2\\r\\nforeclosures,-2\\r\\nforget,-1\\r\\nforgetful,-2\\r\\nforgive,1\\r\\nforgiving,1\\r\\nforgotten,-1\\r\\nfortunate,2\\r\\nfrantic,-1\\r\\nfraud,-4\\r\\nfrauds,-4\\r\\nfraudster,-4\\r\\nfraudsters,-4\\r\\nfraudulence,-4\\r\\nfraudulent,-4\\r\\nfree,1\\r\\nfreedom,2\\r\\nfrenzy,-3\\r\\nfresh,1\\r\\nfriendly,2\\r\\nfright,-2\\r\\nfrightened,-2\\r\\nfrightening,-3\\r\\nfrikin,-2\\r\\nfrisky,2\\r\\nfrowning,-1\\r\\nfrustrate,-2\\r\\nfrustrated,-2\\r\\nfrustrates,-2\\r\\nfrustrating,-2\\r\\nfrustration,-2\\r\\nftw,3\\r\\nfuck,-4\\r\\nfucked,-4\\r\\nfucker,-4\\r\\nfuckers,-4\\r\\nfuckface,-4\\r\\nfuckhead,-4\\r\\nfucking,-4\\r\\nfucktard,-4\\r\\nfud,-3\\r\\nfuked,-4\\r\\nfuking,-4\\r\\nfulfill,2\\r\\nfulfilled,2\\r\\nfulfills,2\\r\\nfuming,-2\\r\\nfun,4\\r\\nfuneral,-1\\r\\nfunerals,-1\\r\\nfunky,2\\r\\nfunnier,4\\r\\nfunny,4\\r\\nfurious,-3\\r\\nfutile,2\\r\\ngag,-2\\r\\ngagged,-2\\r\\ngain,2\\r\\ngained,2\\r\\ngaining,2\\r\\ngains,2\\r\\ngallant,3\\r\\ngallantly,3\\r\\ngallantry,3\\r\\ngenerous,2\\r\\ngenial,3\\r\\nghost,-1\\r\\ngiddy,-2\\r\\ngift,2\\r\\nglad,3\\r\\nglamorous,3\\r\\nglamourous,3\\r\\nglee,3\\r\\ngleeful,3\\r\\ngloom,-1\\r\\ngloomy,-2\\r\\nglorious,2\\r\\nglory,2\\r\\nglum,-2\\r\\ngod,1\\r\\ngoddamn,-3\\r\\ngodsend,4\\r\\ngood,3\\r\\ngoodness,3\\r\\ngrace,1\\r\\ngracious,3\\r\\ngrand,3\\r\\ngrant,1\\r\\ngranted,1\\r\\ngranting,1\\r\\ngrants,1\\r\\ngrateful,3\\r\\ngratification,2\\r\\ngrave,-2\\r\\ngray,-1\\r\\ngreat,3\\r\\ngreater,3\\r\\ngreatest,3\\r\\ngreed,-3\\r\\ngreedy,-2\\r\\ngreen wash,-3\\r\\ngreen washing,-3\\r\\ngreenwash,-3\\r\\ngreenwasher,-3\\r\\ngreenwashers,-3\\r\\ngreenwashing,-3\\r\\ngreet,1\\r\\ngreeted,1\\r\\ngreeting,1\\r\\ngreetings,2\\r\\ngreets,1\\r\\ngrey,-1\\r\\ngrief,-2\\r\\ngrieved,-2\\r\\ngross,-2\\r\\ngrowing,1\\r\\ngrowth,2\\r\\nguarantee,1\\r\\nguilt,-3\\r\\nguilty,-3\\r\\ngullibility,-2\\r\\ngullible,-2\\r\\ngun,-1\\r\\nha,2\\r\\nhacked,-1\\r\\nhaha,3\\r\\nhahaha,3\\r\\nhahahah,3\\r\\nhail,2\\r\\nhailed,2\\r\\nhapless,-2\\r\\nhaplessness,-2\\r\\nhappiness,3\\r\\nhappy,3\\r\\nhard,-1\\r\\nhardier,2\\r\\nhardship,-2\\r\\nhardy,2\\r\\nharm,-2\\r\\nharmed,-2\\r\\nharmful,-2\\r\\nharming,-2\\r\\nharms,-2\\r\\nharried,-2\\r\\nharsh,-2\\r\\nharsher,-2\\r\\nharshest,-2\\r\\nhate,-3\\r\\nhated,-3\\r\\nhaters,-3\\r\\nhates,-3\\r\\nhating,-3\\r\\nhaunt,-1\\r\\nhaunted,-2\\r\\nhaunting,1\\r\\nhaunts,-1\\r\\nhavoc,-2\\r\\nhealthy,2\\r\\nheartbreaking,-3\\r\\nheartbroken,-3\\r\\nheartfelt,3\\r\\nheaven,2\\r\\nheavenly,4\\r\\nheavyhearted,-2\\r\\nhell,-4\\r\\nhelp,2\\r\\nhelpful,2\\r\\nhelping,2\\r\\nhelpless,-2\\r\\nhelps,2\\r\\nhero,2\\r\\nheroes,2\\r\\nheroic,3\\r\\nhesitant,-2\\r\\nhesitate,-2\\r\\nhid,-1\\r\\nhide,-1\\r\\nhides,-1\\r\\nhiding,-1\\r\\nhighlight,2\\r\\nhilarious,2\\r\\nhindrance,-2\\r\\nhoax,-2\\r\\nhomesick,-2\\r\\nhonest,2\\r\\nhonor,2\\r\\nhonored,2\\r\\nhonoring,2\\r\\nhonour,2\\r\\nhonoured,2\\r\\nhonouring,2\\r\\nhooligan,-2\\r\\nhooliganism,-2\\r\\nhooligans,-2\\r\\nhope,2\\r\\nhopeful,2\\r\\nhopefully,2\\r\\nhopeless,-2\\r\\nhopelessness,-2\\r\\nhopes,2\\r\\nhoping,2\\r\\nhorrendous,-3\\r\\nhorrible,-3\\r\\nhorrific,-3\\r\\nhorrified,-3\\r\\nhostile,-2\\r\\nhuckster,-2\\r\\nhug,2\\r\\nhuge,1\\r\\nhugs,2\\r\\nhumerous,3\\r\\nhumiliated,-3\\r\\nhumiliation,-3\\r\\nhumor,2\\r\\nhumorous,2\\r\\nhumour,2\\r\\nhumourous,2\\r\\nhunger,-2\\r\\nhurrah,5\\r\\nhurt,-2\\r\\nhurting,-2\\r\\nhurts,-2\\r\\nhypocritical,-2\\r\\nhysteria,-3\\r\\nhysterical,-3\\r\\nhysterics,-3\\r\\nidiot,-3\\r\\nidiotic,-3\\r\\nignorance,-2\\r\\nignorant,-2\\r\\nignore,-1\\r\\nignored,-2\\r\\nignores,-1\\r\\nill,-2\\r\\nillegal,-3\\r\\nilliteracy,-2\\r\\nillness,-2\\r\\nillnesses,-2\\r\\nimbecile,-3\\r\\nimmobilized,-1\\r\\nimmortal,2\\r\\nimmune,1\\r\\nimpatient,-2\\r\\nimperfect,-2\\r\\nimportance,2\\r\\nimportant,2\\r\\nimpose,-1\\r\\nimposed,-1\\r\\nimposes,-1\\r\\nimposing,-1\\r\\nimpotent,-2\\r\\nimpress,3\\r\\nimpressed,3\\r\\nimpresses,3\\r\\nimpressive,3\\r\\nimprisoned,-2\\r\\nimprove,2\\r\\nimproved,2\\r\\nimprovement,2\\r\\nimproves,2\\r\\nimproving,2\\r\\ninability,-2\\r\\ninaction,-2\\r\\ninadequate,-2\\r\\nincapable,-2\\r\\nincapacitated,-2\\r\\nincensed,-2\\r\\nincompetence,-2\\r\\nincompetent,-2\\r\\ninconsiderate,-2\\r\\ninconvenience,-2\\r\\ninconvenient,-2\\r\\nincrease,1\\r\\nincreased,1\\r\\nindecisive,-2\\r\\nindestructible,2\\r\\nindifference,-2\\r\\nindifferent,-2\\r\\nindignant,-2\\r\\nindignation,-2\\r\\nindoctrinate,-2\\r\\nindoctrinated,-2\\r\\nindoctrinates,-2\\r\\nindoctrinating,-2\\r\\nineffective,-2\\r\\nineffectively,-2\\r\\ninfatuated,2\\r\\ninfatuation,2\\r\\ninfected,-2\\r\\ninferior,-2\\r\\ninflamed,-2\\r\\ninfluential,2\\r\\ninfringement,-2\\r\\ninfuriate,-2\\r\\ninfuriated,-2\\r\\ninfuriates,-2\\r\\ninfuriating,-2\\r\\ninhibit,-1\\r\\ninjured,-2\\r\\ninjury,-2\\r\\ninjustice,-2\\r\\ninnovate,1\\r\\ninnovates,1\\r\\ninnovation,1\\r\\ninnovative,2\\r\\ninquisition,-2\\r\\ninquisitive,2\\r\\ninsane,-2\\r\\ninsanity,-2\\r\\ninsecure,-2\\r\\ninsensitive,-2\\r\\ninsensitivity,-2\\r\\ninsignificant,-2\\r\\ninsipid,-2\\r\\ninspiration,2\\r\\ninspirational,2\\r\\ninspire,2\\r\\ninspired,2\\r\\ninspires,2\\r\\ninspiring,3\\r\\ninsult,-2\\r\\ninsulted,-2\\r\\ninsulting,-2\\r\\ninsults,-2\\r\\nintact,2\\r\\nintegrity,2\\r\\nintelligent,2\\r\\nintense,1\\r\\ninterest,1\\r\\ninterested,2\\r\\ninteresting,2\\r\\ninterests,1\\r\\ninterrogated,-2\\r\\ninterrupt,-2\\r\\ninterrupted,-2\\r\\ninterrupting,-2\\r\\ninterruption,-2\\r\\ninterrupts,-2\\r\\nintimidate,-2\\r\\nintimidated,-2\\r\\nintimidates,-2\\r\\nintimidating,-2\\r\\nintimidation,-2\\r\\nintricate,2\\r\\nintrigues,1\\r\\ninvincible,2\\r\\ninvite,1\\r\\ninviting,1\\r\\ninvulnerable,2\\r\\nirate,-3\\r\\nironic,-1\\r\\nirony,-1\\r\\nirrational,-1\\r\\nirresistible,2\\r\\nirresolute,-2\\r\\nirresponsible,2\\r\\nirreversible,-1\\r\\nirritate,-3\\r\\nirritated,-3\\r\\nirritating,-3\\r\\nisolated,-1\\r\\nitchy,-2\\r\\njackass,-4\\r\\njackasses,-4\\r\\njailed,-2\\r\\njaunty,2\\r\\njealous,-2\\r\\njeopardy,-2\\r\\njerk,-3\\r\\njesus,1\\r\\njewel,1\\r\\njewels,1\\r\\njocular,2\\r\\njoin,1\\r\\njoke,2\\r\\njokes,2\\r\\njolly,2\\r\\njovial,2\\r\\njoy,3\\r\\njoyful,3\\r\\njoyfully,3\\r\\njoyless,-2\\r\\njoyous,3\\r\\njubilant,3\\r\\njumpy,-1\\r\\njustice,2\\r\\njustifiably,2\\r\\njustified,2\\r\\nkeen,1\\r\\nkill,-3\\r\\nkilled,-3\\r\\nkilling,-3\\r\\nkills,-3\\r\\nkind,2\\r\\nkinder,2\\r\\nkiss,2\\r\\nkudos,3\\r\\nlack,-2\\r\\nlackadaisical,-2\\r\\nlag,-1\\r\\nlagged,-2\\r\\nlagging,-2\\r\\nlags,-2\\r\\nlame,-2\\r\\nlandmark,2\\r\\nlaugh,1\\r\\nlaughed,1\\r\\nlaughing,1\\r\\nlaughs,1\\r\\nlaughting,1\\r\\nlaunched,1\\r\\nlawl,3\\r\\nlawsuit,-2\\r\\nlawsuits,-2\\r\\nlazy,-1\\r\\nleak,-1\\r\\nleaked,-1\\r\\nleave,-1\\r\\nlegal,1\\r\\nlegally,1\\r\\nlenient,1\\r\\nlethargic,-2\\r\\nlethargy,-2\\r\\nliar,-3\\r\\nliars,-3\\r\\nlibelous,-2\\r\\nlied,-2\\r\\nlifesaver,4\\r\\nlighthearted,1\\r\\nlike,2\\r\\nliked,2\\r\\nlikes,2\\r\\nlimitation,-1\\r\\nlimited,-1\\r\\nlimits,-1\\r\\nlitigation,-1\\r\\nlitigious,-2\\r\\nlively,2\\r\\nlivid,-2\\r\\nlmao,4\\r\\nlmfao,4\\r\\nloathe,-3\\r\\nloathed,-3\\r\\nloathes,-3\\r\\nloathing,-3\\r\\nlobby,-2\\r\\nlobbying,-2\\r\\nlol,3\\r\\nlonely,-2\\r\\nlonesome,-2\\r\\nlonging,-1\\r\\nloom,-1\\r\\nloomed,-1\\r\\nlooming,-1\\r\\nlooms,-1\\r\\nloose,-3\\r\\nlooses,-3\\r\\nloser,-3\\r\\nlosing,-3\\r\\nloss,-3\\r\\nlost,-3\\r\\nlovable,3\\r\\nlove,3\\r\\nloved,3\\r\\nlovelies,3\\r\\nlovely,3\\r\\nloving,2\\r\\nlowest,-1\\r\\nloyal,3\\r\\nloyalty,3\\r\\nluck,3\\r\\nluckily,3\\r\\nlucky,3\\r\\nlugubrious,-2\\r\\nlunatic,-3\\r\\nlunatics,-3\\r\\nlurk,-1\\r\\nlurking,-1\\r\\nlurks,-1\\r\\nmad,-3\\r\\nmaddening,-3\\r\\nmade-up,-1\\r\\nmadly,-3\\r\\nmadness,-3\\r\\nmandatory,-1\\r\\nmanipulated,-1\\r\\nmanipulating,-1\\r\\nmanipulation,-1\\r\\nmarvel,3\\r\\nmarvelous,3\\r\\nmarvels,3\\r\\nmasterpiece,4\\r\\nmasterpieces,4\\r\\nmatter,1\\r\\nmatters,1\\r\\nmature,2\\r\\nmeaningful,2\\r\\nmeaningless,-2\\r\\nmedal,3\\r\\nmediocrity,-3\\r\\nmeditative,1\\r\\nmelancholy,-2\\r\\nmenace,-2\\r\\nmenaced,-2\\r\\nmercy,2\\r\\nmerry,3\\r\\nmess,-2\\r\\nmessed,-2\\r\\nmessing up,-2\\r\\nmethodical,2\\r\\nmindless,-2\\r\\nmiracle,4\\r\\nmirth,3\\r\\nmirthful,3\\r\\nmirthfully,3\\r\\nmisbehave,-2\\r\\nmisbehaved,-2\\r\\nmisbehaves,-2\\r\\nmisbehaving,-2\\r\\nmischief,-1\\r\\nmischiefs,-1\\r\\nmiserable,-3\\r\\nmisery,-2\\r\\nmisgiving,-2\\r\\nmisinformation,-2\\r\\nmisinformed,-2\\r\\nmisinterpreted,-2\\r\\nmisleading,-3\\r\\nmisread,-1\\r\\nmisreporting,-2\\r\\nmisrepresentation,-2\\r\\nmiss,-2\\r\\nmissed,-2\\r\\nmissing,-2\\r\\nmistake,-2\\r\\nmistaken,-2\\r\\nmistakes,-2\\r\\nmistaking,-2\\r\\nmisunderstand,-2\\r\\nmisunderstanding,-2\\r\\nmisunderstands,-2\\r\\nmisunderstood,-2\\r\\nmoan,-2\\r\\nmoaned,-2\\r\\nmoaning,-2\\r\\nmoans,-2\\r\\nmock,-2\\r\\nmocked,-2\\r\\nmocking,-2\\r\\nmocks,-2\\r\\nmongering,-2\\r\\nmonopolize,-2\\r\\nmonopolized,-2\\r\\nmonopolizes,-2\\r\\nmonopolizing,-2\\r\\nmoody,-1\\r\\nmope,-1\\r\\nmoping,-1\\r\\nmoron,-3\\r\\nmotherfucker,-5\\r\\nmotherfucking,-5\\r\\nmotivate,1\\r\\nmotivated,2\\r\\nmotivating,2\\r\\nmotivation,1\\r\\nmourn,-2\\r\\nmourned,-2\\r\\nmournful,-2\\r\\nmourning,-2\\r\\nmourns,-2\\r\\nmumpish,-2\\r\\nmurder,-2\\r\\nmurderer,-2\\r\\nmurdering,-3\\r\\nmurderous,-3\\r\\nmurders,-2\\r\\nmyth,-1\\r\\nn00b,-2\\r\\nnaive,-2\\r\\nnasty,-3\\r\\nnatural,1\\r\\nna\\xefve,-2\\r\\nneedy,-2\\r\\nnegative,-2\\r\\nnegativity,-2\\r\\nneglect,-2\\r\\nneglected,-2\\r\\nneglecting,-2\\r\\nneglects,-2\\r\\nnerves,-1\\r\\nnervous,-2\\r\\nnervously,-2\\r\\nnice,3\\r\\nnifty,2\\r\\nniggas,-5\\r\\nnigger,-5\\r\\nno,-1\\r\\nno fun,-3\\r\\nnoble,2\\r\\nnoisy,-1\\r\\nnonsense,-2\\r\\nnoob,-2\\r\\nnosey,-2\\r\\nnot good,-2\\r\\nnot working,-3\\r\\nnotorious,-2\\r\\nnovel,2\\r\\nnumb,-1\\r\\nnuts,-3\\r\\nobliterate,-2\\r\\nobliterated,-2\\r\\nobnoxious,-3\\r\\nobscene,-2\\r\\nobsessed,2\\r\\nobsolete,-2\\r\\nobstacle,-2\\r\\nobstacles,-2\\r\\nobstinate,-2\\r\\nodd,-2\\r\\noffend,-2\\r\\noffended,-2\\r\\noffender,-2\\r\\noffending,-2\\r\\noffends,-2\\r\\noffline,-1\\r\\noks,2\\r\\nominous,3\\r\\nonce-in-a-lifetime,3\\r\\nopportunities,2\\r\\nopportunity,2\\r\\noppressed,-2\\r\\noppressive,-2\\r\\noptimism,2\\r\\noptimistic,2\\r\\noptionless,-2\\r\\noutcry,-2\\r\\noutmaneuvered,-2\\r\\noutrage,-3\\r\\noutraged,-3\\r\\noutreach,2\\r\\noutstanding,5\\r\\noverjoyed,4\\r\\noverload,-1\\r\\noverlooked,-1\\r\\noverreact,-2\\r\\noverreacted,-2\\r\\noverreaction,-2\\r\\noverreacts,-2\\r\\noversell,-2\\r\\noverselling,-2\\r\\noversells,-2\\r\\noversimplification,-2\\r\\noversimplified,-2\\r\\noversimplifies,-2\\r\\noversimplify,-2\\r\\noverstatement,-2\\r\\noverstatements,-2\\r\\noverweight,-1\\r\\noxymoron,-1\\r\\npain,-2\\r\\npained,-2\\r\\npanic,-3\\r\\npanicked,-3\\r\\npanics,-3\\r\\nparadise,3\\r\\nparadox,-1\\r\\npardon,2\\r\\npardoned,2\\r\\npardoning,2\\r\\npardons,2\\r\\nparley,-1\\r\\npassionate,2\\r\\npassive,-1\\r\\npassively,-1\\r\\npathetic,-2\\r\\npay,-1\\r\\npeace,2\\r\\npeaceful,2\\r\\npeacefully,2\\r\\npenalty,-2\\r\\npensive,-1\\r\\nperfect,3\\r\\nperfected,2\\r\\nperfectly,3\\r\\nperfects,2\\r\\nperil,-2\\r\\nperjury,-3\\r\\nperpetrator,-2\\r\\nperpetrators,-2\\r\\nperplexed,-2\\r\\npersecute,-2\\r\\npersecuted,-2\\r\\npersecutes,-2\\r\\npersecuting,-2\\r\\nperturbed,-2\\r\\npesky,-2\\r\\npessimism,-2\\r\\npessimistic,-2\\r\\npetrified,-2\\r\\nphobic,-2\\r\\npicturesque,2\\r\\npileup,-1\\r\\npique,-2\\r\\npiqued,-2\\r\\npiss,-4\\r\\npissed,-4\\r\\npissing,-3\\r\\npiteous,-2\\r\\npitied,-1\\r\\npity,-2\\r\\nplayful,2\\r\\npleasant,3\\r\\nplease,1\\r\\npleased,3\\r\\npleasure,3\\r\\npoised,-2\\r\\npoison,-2\\r\\npoisoned,-2\\r\\npoisons,-2\\r\\npollute,-2\\r\\npolluted,-2\\r\\npolluter,-2\\r\\npolluters,-2\\r\\npollutes,-2\\r\\npoor,-2\\r\\npoorer,-2\\r\\npoorest,-2\\r\\npopular,3\\r\\npositive,2\\r\\npositively,2\\r\\npossessive,-2\\r\\npostpone,-1\\r\\npostponed,-1\\r\\npostpones,-1\\r\\npostponing,-1\\r\\npoverty,-1\\r\\npowerful,2\\r\\npowerless,-2\\r\\npraise,3\\r\\npraised,3\\r\\npraises,3\\r\\npraising,3\\r\\npray,1\\r\\npraying,1\\r\\nprays,1\\r\\nprblm,-2\\r\\nprblms,-2\\r\\nprepared,1\\r\\npressure,-1\\r\\npressured,-2\\r\\npretend,-1\\r\\npretending,-1\\r\\npretends,-1\\r\\npretty,1\\r\\nprevent,-1\\r\\nprevented,-1\\r\\npreventing,-1\\r\\nprevents,-1\\r\\nprick,-5\\r\\nprison,-2\\r\\nprisoner,-2\\r\\nprisoners,-2\\r\\nprivileged,2\\r\\nproactive,2\\r\\nproblem,-2\\r\\nproblems,-2\\r\\nprofiteer,-2\\r\\nprogress,2\\r\\nprominent,2\\r\\npromise,1\\r\\npromised,1\\r\\npromises,1\\r\\npromote,1\\r\\npromoted,1\\r\\npromotes,1\\r\\npromoting,1\\r\\npropaganda,-2\\r\\nprosecute,-1\\r\\nprosecuted,-2\\r\\nprosecutes,-1\\r\\nprosecution,-1\\r\\nprospect,1\\r\\nprospects,1\\r\\nprosperous,3\\r\\nprotect,1\\r\\nprotected,1\\r\\nprotects,1\\r\\nprotest,-2\\r\\nprotesters,-2\\r\\nprotesting,-2\\r\\nprotests,-2\\r\\nproud,2\\r\\nproudly,2\\r\\nprovoke,-1\\r\\nprovoked,-1\\r\\nprovokes,-1\\r\\nprovoking,-1\\r\\npseudoscience,-3\\r\\npunish,-2\\r\\npunished,-2\\r\\npunishes,-2\\r\\npunitive,-2\\r\\npushy,-1\\r\\npuzzled,-2\\r\\nquaking,-2\\r\\nquestionable,-2\\r\\nquestioned,-1\\r\\nquestioning,-1\\r\\nracism,-3\\r\\nracist,-3\\r\\nracists,-3\\r\\nrage,-2\\r\\nrageful,-2\\r\\nrainy,-1\\r\\nrant,-3\\r\\nranter,-3\\r\\nranters,-3\\r\\nrants,-3\\r\\nrape,-4\\r\\nrapist,-4\\r\\nrapture,2\\r\\nraptured,2\\r\\nraptures,2\\r\\nrapturous,4\\r\\nrash,-2\\r\\nratified,2\\r\\nreach,1\\r\\nreached,1\\r\\nreaches,1\\r\\nreaching,1\\r\\nreassure,1\\r\\nreassured,1\\r\\nreassures,1\\r\\nreassuring,2\\r\\nrebellion,-2\\r\\nrecession,-2\\r\\nreckless,-2\\r\\nrecommend,2\\r\\nrecommended,2\\r\\nrecommends,2\\r\\nredeemed,2\\r\\nrefuse,-2\\r\\nrefused,-2\\r\\nrefusing,-2\\r\\nregret,-2\\r\\nregretful,-2\\r\\nregrets,-2\\r\\nregretted,-2\\r\\nregretting,-2\\r\\nreject,-1\\r\\nrejected,-1\\r\\nrejecting,-1\\r\\nrejects,-1\\r\\nrejoice,4\\r\\nrejoiced,4\\r\\nrejoices,4\\r\\nrejoicing,4\\r\\nrelaxed,2\\r\\nrelentless,-1\\r\\nreliant,2\\r\\nrelieve,1\\r\\nrelieved,2\\r\\nrelieves,1\\r\\nrelieving,2\\r\\nrelishing,2\\r\\nremarkable,2\\r\\nremorse,-2\\r\\nrepulse,-1\\r\\nrepulsed,-2\\r\\nrescue,2\\r\\nrescued,2\\r\\nrescues,2\\r\\nresentful,-2\\r\\nresign,-1\\r\\nresigned,-1\\r\\nresigning,-1\\r\\nresigns,-1\\r\\nresolute,2\\r\\nresolve,2\\r\\nresolved,2\\r\\nresolves,2\\r\\nresolving,2\\r\\nrespected,2\\r\\nresponsible,2\\r\\nresponsive,2\\r\\nrestful,2\\r\\nrestless,-2\\r\\nrestore,1\\r\\nrestored,1\\r\\nrestores,1\\r\\nrestoring,1\\r\\nrestrict,-2\\r\\nrestricted,-2\\r\\nrestricting,-2\\r\\nrestriction,-2\\r\\nrestricts,-2\\r\\nretained,-1\\r\\nretard,-2\\r\\nretarded,-2\\r\\nretreat,-1\\r\\nrevenge,-2\\r\\nrevengeful,-2\\r\\nrevered,2\\r\\nrevive,2\\r\\nrevives,2\\r\\nreward,2\\r\\nrewarded,2\\r\\nrewarding,2\\r\\nrewards,2\\r\\nrich,2\\r\\nridiculous,-3\\r\\nrig,-1\\r\\nrigged,-1\\r\\nright direction,3\\r\\nrigorous,3\\r\\nrigorously,3\\r\\nriot,-2\\r\\nriots,-2\\r\\nrisk,-2\\r\\nrisks,-2\\r\\nrob,-2\\r\\nrobber,-2\\r\\nrobed,-2\\r\\nrobing,-2\\r\\nrobs,-2\\r\\nrobust,2\\r\\nrofl,4\\r\\nroflcopter,4\\r\\nroflmao,4\\r\\nromance,2\\r\\nrotfl,4\\r\\nrotflmfao,4\\r\\nrotflol,4\\r\\nruin,-2\\r\\nruined,-2\\r\\nruining,-2\\r\\nruins,-2\\r\\nsabotage,-2\\r\\nsad,-2\\r\\nsadden,-2\\r\\nsaddened,-2\\r\\nsadly,-2\\r\\nsafe,1\\r\\nsafely,1\\r\\nsafety,1\\r\\nsalient,1\\r\\nsappy,-1\\r\\nsarcastic,-2\\r\\nsatisfied,2\\r\\nsave,2\\r\\nsaved,2\\r\\nscam,-2\\r\\nscams,-2\\r\\nscandal,-3\\r\\nscandalous,-3\\r\\nscandals,-3\\r\\nscapegoat,-2\\r\\nscapegoats,-2\\r\\nscare,-2\\r\\nscared,-2\\r\\nscary,-2\\r\\nsceptical,-2\\r\\nscold,-2\\r\\nscoop,3\\r\\nscorn,-2\\r\\nscornful,-2\\r\\nscream,-2\\r\\nscreamed,-2\\r\\nscreaming,-2\\r\\nscreams,-2\\r\\nscrewed,-2\\r\\nscrewed up,-3\\r\\nscumbag,-4\\r\\nsecure,2\\r\\nsecured,2\\r\\nsecures,2\\r\\nsedition,-2\\r\\nseditious,-2\\r\\nseduced,-1\\r\\nself-confident,2\\r\\nself-deluded,-2\\r\\nselfish,-3\\r\\nselfishness,-3\\r\\nsentence,-2\\r\\nsentenced,-2\\r\\nsentences,-2\\r\\nsentencing,-2\\r\\nserene,2\\r\\nsevere,-2\\r\\nsexy,3\\r\\nshaky,-2\\r\\nshame,-2\\r\\nshamed,-2\\r\\nshameful,-2\\r\\nshare,1\\r\\nshared,1\\r\\nshares,1\\r\\nshattered,-2\\r\\nshit,-4\\r\\nshithead,-4\\r\\nshitty,-3\\r\\nshock,-2\\r\\nshocked,-2\\r\\nshocking,-2\\r\\nshocks,-2\\r\\nshoot,-1\\r\\nshort-sighted,-2\\r\\nshort-sightedness,-2\\r\\nshortage,-2\\r\\nshortages,-2\\r\\nshrew,-4\\r\\nshy,-1\\r\\nsick,-2\\r\\nsigh,-2\\r\\nsignificance,1\\r\\nsignificant,1\\r\\nsilencing,-1\\r\\nsilly,-1\\r\\nsincere,2\\r\\nsincerely,2\\r\\nsincerest,2\\r\\nsincerity,2\\r\\nsinful,-3\\r\\nsingleminded,-2\\r\\nskeptic,-2\\r\\nskeptical,-2\\r\\nskepticism,-2\\r\\nskeptics,-2\\r\\nslam,-2\\r\\nslash,-2\\r\\nslashed,-2\\r\\nslashes,-2\\r\\nslashing,-2\\r\\nslavery,-3\\r\\nsleeplessness,-2\\r\\nslick,2\\r\\nslicker,2\\r\\nslickest,2\\r\\nsluggish,-2\\r\\nslut,-5\\r\\nsmart,1\\r\\nsmarter,2\\r\\nsmartest,2\\r\\nsmear,-2\\r\\nsmile,2\\r\\nsmiled,2\\r\\nsmiles,2\\r\\nsmiling,2\\r\\nsmog,-2\\r\\nsneaky,-1\\r\\nsnub,-2\\r\\nsnubbed,-2\\r\\nsnubbing,-2\\r\\nsnubs,-2\\r\\nsobering,1\\r\\nsolemn,-1\\r\\nsolid,2\\r\\nsolidarity,2\\r\\nsolution,1\\r\\nsolutions,1\\r\\nsolve,1\\r\\nsolved,1\\r\\nsolves,1\\r\\nsolving,1\\r\\nsomber,-2\\r\\nsome kind,0\\r\\nson-of-a-bitch,-5\\r\\nsoothe,3\\r\\nsoothed,3\\r\\nsoothing,3\\r\\nsophisticated,2\\r\\nsore,-1\\r\\nsorrow,-2\\r\\nsorrowful,-2\\r\\nsorry,-1\\r\\nspam,-2\\r\\nspammer,-3\\r\\nspammers,-3\\r\\nspamming,-2\\r\\nspark,1\\r\\nsparkle,3\\r\\nsparkles,3\\r\\nsparkling,3\\r\\nspeculative,-2\\r\\nspirit,1\\r\\nspirited,2\\r\\nspiritless,-2\\r\\nspiteful,-2\\r\\nsplendid,3\\r\\nsprightly,2\\r\\nsquelched,-1\\r\\nstab,-2\\r\\nstabbed,-2\\r\\nstable,2\\r\\nstabs,-2\\r\\nstall,-2\\r\\nstalled,-2\\r\\nstalling,-2\\r\\nstamina,2\\r\\nstampede,-2\\r\\nstartled,-2\\r\\nstarve,-2\\r\\nstarved,-2\\r\\nstarves,-2\\r\\nstarving,-2\\r\\nsteadfast,2\\r\\nsteal,-2\\r\\nsteals,-2\\r\\nstereotype,-2\\r\\nstereotyped,-2\\r\\nstifled,-1\\r\\nstimulate,1\\r\\nstimulated,1\\r\\nstimulates,1\\r\\nstimulating,2\\r\\nstingy,-2\\r\\nstolen,-2\\r\\nstop,-1\\r\\nstopped,-1\\r\\nstopping,-1\\r\\nstops,-1\\r\\nstout,2\\r\\nstraight,1\\r\\nstrange,-1\\r\\nstrangely,-1\\r\\nstrangled,-2\\r\\nstrength,2\\r\\nstrengthen,2\\r\\nstrengthened,2\\r\\nstrengthening,2\\r\\nstrengthens,2\\r\\nstressed,-2\\r\\nstressor,-2\\r\\nstressors,-2\\r\\nstricken,-2\\r\\nstrike,-1\\r\\nstrikers,-2\\r\\nstrikes,-1\\r\\nstrong,2\\r\\nstronger,2\\r\\nstrongest,2\\r\\nstruck,-1\\r\\nstruggle,-2\\r\\nstruggled,-2\\r\\nstruggles,-2\\r\\nstruggling,-2\\r\\nstubborn,-2\\r\\nstuck,-2\\r\\nstunned,-2\\r\\nstunning,4\\r\\nstupid,-2\\r\\nstupidly,-2\\r\\nsuave,2\\r\\nsubstantial,1\\r\\nsubstantially,1\\r\\nsubversive,-2\\r\\nsuccess,2\\r\\nsuccessful,3\\r\\nsuck,-3\\r\\nsucks,-3\\r\\nsuffer,-2\\r\\nsuffering,-2\\r\\nsuffers,-2\\r\\nsuicidal,-2\\r\\nsuicide,-2\\r\\nsuing,-2\\r\\nsulking,-2\\r\\nsulky,-2\\r\\nsullen,-2\\r\\nsunshine,2\\r\\nsuper,3\\r\\nsuperb,5\\r\\nsuperior,2\\r\\nsupport,2\\r\\nsupported,2\\r\\nsupporter,1\\r\\nsupporters,1\\r\\nsupporting,1\\r\\nsupportive,2\\r\\nsupports,2\\r\\nsurvived,2\\r\\nsurviving,2\\r\\nsurvivor,2\\r\\nsuspect,-1\\r\\nsuspected,-1\\r\\nsuspecting,-1\\r\\nsuspects,-1\\r\\nsuspend,-1\\r\\nsuspended,-1\\r\\nsuspicious,-2\\r\\nswear,-2\\r\\nswearing,-2\\r\\nswears,-2\\r\\nsweet,2\\r\\nswift,2\\r\\nswiftly,2\\r\\nswindle,-3\\r\\nswindles,-3\\r\\nswindling,-3\\r\\nsympathetic,2\\r\\nsympathy,2\\r\\ntard,-2\\r\\ntears,-2\\r\\ntender,2\\r\\ntense,-2\\r\\ntension,-1\\r\\nterrible,-3\\r\\nterribly,-3\\r\\nterrific,4\\r\\nterrified,-3\\r\\nterror,-3\\r\\nterrorize,-3\\r\\nterrorized,-3\\r\\nterrorizes,-3\\r\\nthank,2\\r\\nthankful,2\\r\\nthanks,2\\r\\nthorny,-2\\r\\nthoughtful,2\\r\\nthoughtless,-2\\r\\nthreat,-2\\r\\nthreaten,-2\\r\\nthreatened,-2\\r\\nthreatening,-2\\r\\nthreatens,-2\\r\\nthreats,-2\\r\\nthrilled,5\\r\\nthwart,-2\\r\\nthwarted,-2\\r\\nthwarting,-2\\r\\nthwarts,-2\\r\\ntimid,-2\\r\\ntimorous,-2\\r\\ntired,-2\\r\\ntits,-2\\r\\ntolerant,2\\r\\ntoothless,-2\\r\\ntop,2\\r\\ntops,2\\r\\ntorn,-2\\r\\ntorture,-4\\r\\ntortured,-4\\r\\ntortures,-4\\r\\ntorturing,-4\\r\\ntotalitarian,-2\\r\\ntotalitarianism,-2\\r\\ntout,-2\\r\\ntouted,-2\\r\\ntouting,-2\\r\\ntouts,-2\\r\\ntragedy,-2\\r\\ntragic,-2\\r\\ntranquil,2\\r\\ntrap,-1\\r\\ntrapped,-2\\r\\ntrauma,-3\\r\\ntraumatic,-3\\r\\ntravesty,-2\\r\\ntreason,-3\\r\\ntreasonous,-3\\r\\ntreasure,2\\r\\ntreasures,2\\r\\ntrembling,-2\\r\\ntremulous,-2\\r\\ntricked,-2\\r\\ntrickery,-2\\r\\ntriumph,4\\r\\ntriumphant,4\\r\\ntrouble,-2\\r\\ntroubled,-2\\r\\ntroubles,-2\\r\\nTRUE,2\\r\\ntrust,1\\r\\ntrusted,2\\r\\ntumor,-2\\r\\ntwat,-5\\r\\nugly,-3\\r\\nunacceptable,-2\\r\\nunappreciated,-2\\r\\nunapproved,-2\\r\\nunaware,-2\\r\\nunbelievable,-1\\r\\nunbelieving,-1\\r\\nunbiased,2\\r\\nuncertain,-1\\r\\nunclear,-1\\r\\nuncomfortable,-2\\r\\nunconcerned,-2\\r\\nunconfirmed,-1\\r\\nunconvinced,-1\\r\\nuncredited,-1\\r\\nundecided,-1\\r\\nunderestimate,-1\\r\\nunderestimated,-1\\r\\nunderestimates,-1\\r\\nunderestimating,-1\\r\\nundermine,-2\\r\\nundermined,-2\\r\\nundermines,-2\\r\\nundermining,-2\\r\\nundeserving,-2\\r\\nundesirable,-2\\r\\nuneasy,-2\\r\\nunemployment,-2\\r\\nunequal,-1\\r\\nunequaled,2\\r\\nunethical,-2\\r\\nunfair,-2\\r\\nunfocused,-2\\r\\nunfulfilled,-2\\r\\nunhappy,-2\\r\\nunhealthy,-2\\r\\nunified,1\\r\\nunimpressed,-2\\r\\nunintelligent,-2\\r\\nunited,1\\r\\nunjust,-2\\r\\nunlovable,-2\\r\\nunloved,-2\\r\\nunmatched,1\\r\\nunmotivated,-2\\r\\nunprofessional,-2\\r\\nunresearched,-2\\r\\nunsatisfied,-2\\r\\nunsecured,-2\\r\\nunsettled,-1\\r\\nunsophisticated,-2\\r\\nunstable,-2\\r\\nunstoppable,2\\r\\nunsupported,-2\\r\\nunsure,-1\\r\\nuntarnished,2\\r\\nunwanted,-2\\r\\nunworthy,-2\\r\\nupset,-2\\r\\nupsets,-2\\r\\nupsetting,-2\\r\\nuptight,-2\\r\\nurgent,-1\\r\\nuseful,2\\r\\nusefulness,2\\r\\nuseless,-2\\r\\nuselessness,-2\\r\\nvague,-2\\r\\nvalidate,1\\r\\nvalidated,1\\r\\nvalidates,1\\r\\nvalidating,1\\r\\nverdict,-1\\r\\nverdicts,-1\\r\\nvested,1\\r\\nvexation,-2\\r\\nvexing,-2\\r\\nvibrant,3\\r\\nvicious,-2\\r\\nvictim,-3\\r\\nvictimize,-3\\r\\nvictimized,-3\\r\\nvictimizes,-3\\r\\nvictimizing,-3\\r\\nvictims,-3\\r\\nvigilant,3\\r\\nvile,-3\\r\\nvindicate,2\\r\\nvindicated,2\\r\\nvindicates,2\\r\\nvindicating,2\\r\\nviolate,-2\\r\\nviolated,-2\\r\\nviolates,-2\\r\\nviolating,-2\\r\\nviolence,-3\\r\\nviolent,-3\\r\\nvirtuous,2\\r\\nvirulent,-2\\r\\nvision,1\\r\\nvisionary,3\\r\\nvisioning,1\\r\\nvisions,1\\r\\nvitality,3\\r\\nvitamin,1\\r\\nvitriolic,-3\\r\\nvivacious,3\\r\\nvociferous,-1\\r\\nvulnerability,-2\\r\\nvulnerable,-2\\r\\nwalkout,-2\\r\\nwalkouts,-2\\r\\nwanker,-3\\r\\nwant,1\\r\\nwar,-2\\r\\nwarfare,-2\\r\\nwarm,1\\r\\nwarmth,2\\r\\nwarn,-2\\r\\nwarned,-2\\r\\nwarning,-3\\r\\nwarnings,-3\\r\\nwarns,-2\\r\\nwaste,-1\\r\\nwasted,-2\\r\\nwasting,-2\\r\\nwavering,-1\\r\\nweak,-2\\r\\nweakness,-2\\r\\nwealth,3\\r\\nwealthy,2\\r\\nweary,-2\\r\\nweep,-2\\r\\nweeping,-2\\r\\nweird,-2\\r\\nwelcome,2\\r\\nwelcomed,2\\r\\nwelcomes,2\\r\\nwhimsical,1\\r\\nwhitewash,-3\\r\\nwhore,-4\\r\\nwicked,-2\\r\\nwidowed,-1\\r\\nwillingness,2\\r\\nwin,4\\r\\nwinner,4\\r\\nwinning,4\\r\\nwins,4\\r\\nwinwin,3\\r\\nwish,1\\r\\nwishes,1\\r\\nwishing,1\\r\\nwithdrawal,-3\\r\\nwoebegone,-2\\r\\nwoeful,-3\\r\\nwon,3\\r\\nwonderful,4\\r\\nwoo,3\\r\\nwoohoo,3\\r\\nwooo,4\\r\\nwoow,4\\r\\nworn,-1\\r\\nworried,-3\\r\\nworry,-3\\r\\nworrying,-3\\r\\nworse,-3\\r\\nworsen,-3\\r\\nworsened,-3\\r\\nworsening,-3\\r\\nworsens,-3\\r\\nworshiped,3\\r\\nworst,-3\\r\\nworth,2\\r\\nworthless,-2\\r\\nworthy,2\\r\\nwow,4\\r\\nwowow,4\\r\\nwowww,4\\r\\nwrathful,-3\\r\\nwreck,-2\\r\\nwrong,-2\\r\\nwronged,-2\\r\\nwtf,-4\\r\\nyeah,1\\r\\nyearning,1\\r\\nyeees,2\\r\\nyes,1\\r\\nyouthful,2\\r\\nyucky,-2\\r\\nyummy,3\\r\\nzealot,-2\\r\\nzealots,-2\\r\\nzealous,2\\r\\n\"}"
            ]
          },
          "metadata": {},
          "execution_count": 94
        }
      ]
    },
    {
      "cell_type": "code",
      "source": [
        "import pandas as pd\n",
        "import numpy as np"
      ],
      "metadata": {
        "id": "1yJghpM3YnTm"
      },
      "execution_count": 95,
      "outputs": []
    },
    {
      "cell_type": "code",
      "source": [
        "afinn = pd.read_csv('Afinn.csv', encoding='Latin-1')"
      ],
      "metadata": {
        "id": "LEEJ-IcUbhzd"
      },
      "execution_count": 97,
      "outputs": []
    },
    {
      "cell_type": "code",
      "source": [
        "afinn.head()"
      ],
      "metadata": {
        "colab": {
          "base_uri": "https://localhost:8080/",
          "height": 206
        },
        "id": "T44ufbe5dO9H",
        "outputId": "7dfb2635-a14c-4102-f407-80638269d18a"
      },
      "execution_count": 99,
      "outputs": [
        {
          "output_type": "execute_result",
          "data": {
            "text/plain": [
              "        word  value\n",
              "0    abandon     -2\n",
              "1  abandoned     -2\n",
              "2   abandons     -2\n",
              "3   abducted     -2\n",
              "4  abduction     -2"
            ],
            "text/html": [
              "\n",
              "  <div id=\"df-6d4dd20e-b6cb-47f5-831c-53a080853e47\">\n",
              "    <div class=\"colab-df-container\">\n",
              "      <div>\n",
              "<style scoped>\n",
              "    .dataframe tbody tr th:only-of-type {\n",
              "        vertical-align: middle;\n",
              "    }\n",
              "\n",
              "    .dataframe tbody tr th {\n",
              "        vertical-align: top;\n",
              "    }\n",
              "\n",
              "    .dataframe thead th {\n",
              "        text-align: right;\n",
              "    }\n",
              "</style>\n",
              "<table border=\"1\" class=\"dataframe\">\n",
              "  <thead>\n",
              "    <tr style=\"text-align: right;\">\n",
              "      <th></th>\n",
              "      <th>word</th>\n",
              "      <th>value</th>\n",
              "    </tr>\n",
              "  </thead>\n",
              "  <tbody>\n",
              "    <tr>\n",
              "      <th>0</th>\n",
              "      <td>abandon</td>\n",
              "      <td>-2</td>\n",
              "    </tr>\n",
              "    <tr>\n",
              "      <th>1</th>\n",
              "      <td>abandoned</td>\n",
              "      <td>-2</td>\n",
              "    </tr>\n",
              "    <tr>\n",
              "      <th>2</th>\n",
              "      <td>abandons</td>\n",
              "      <td>-2</td>\n",
              "    </tr>\n",
              "    <tr>\n",
              "      <th>3</th>\n",
              "      <td>abducted</td>\n",
              "      <td>-2</td>\n",
              "    </tr>\n",
              "    <tr>\n",
              "      <th>4</th>\n",
              "      <td>abduction</td>\n",
              "      <td>-2</td>\n",
              "    </tr>\n",
              "  </tbody>\n",
              "</table>\n",
              "</div>\n",
              "      <button class=\"colab-df-convert\" onclick=\"convertToInteractive('df-6d4dd20e-b6cb-47f5-831c-53a080853e47')\"\n",
              "              title=\"Convert this dataframe to an interactive table.\"\n",
              "              style=\"display:none;\">\n",
              "        \n",
              "  <svg xmlns=\"http://www.w3.org/2000/svg\" height=\"24px\"viewBox=\"0 0 24 24\"\n",
              "       width=\"24px\">\n",
              "    <path d=\"M0 0h24v24H0V0z\" fill=\"none\"/>\n",
              "    <path d=\"M18.56 5.44l.94 2.06.94-2.06 2.06-.94-2.06-.94-.94-2.06-.94 2.06-2.06.94zm-11 1L8.5 8.5l.94-2.06 2.06-.94-2.06-.94L8.5 2.5l-.94 2.06-2.06.94zm10 10l.94 2.06.94-2.06 2.06-.94-2.06-.94-.94-2.06-.94 2.06-2.06.94z\"/><path d=\"M17.41 7.96l-1.37-1.37c-.4-.4-.92-.59-1.43-.59-.52 0-1.04.2-1.43.59L10.3 9.45l-7.72 7.72c-.78.78-.78 2.05 0 2.83L4 21.41c.39.39.9.59 1.41.59.51 0 1.02-.2 1.41-.59l7.78-7.78 2.81-2.81c.8-.78.8-2.07 0-2.86zM5.41 20L4 18.59l7.72-7.72 1.47 1.35L5.41 20z\"/>\n",
              "  </svg>\n",
              "      </button>\n",
              "      \n",
              "  <style>\n",
              "    .colab-df-container {\n",
              "      display:flex;\n",
              "      flex-wrap:wrap;\n",
              "      gap: 12px;\n",
              "    }\n",
              "\n",
              "    .colab-df-convert {\n",
              "      background-color: #E8F0FE;\n",
              "      border: none;\n",
              "      border-radius: 50%;\n",
              "      cursor: pointer;\n",
              "      display: none;\n",
              "      fill: #1967D2;\n",
              "      height: 32px;\n",
              "      padding: 0 0 0 0;\n",
              "      width: 32px;\n",
              "    }\n",
              "\n",
              "    .colab-df-convert:hover {\n",
              "      background-color: #E2EBFA;\n",
              "      box-shadow: 0px 1px 2px rgba(60, 64, 67, 0.3), 0px 1px 3px 1px rgba(60, 64, 67, 0.15);\n",
              "      fill: #174EA6;\n",
              "    }\n",
              "\n",
              "    [theme=dark] .colab-df-convert {\n",
              "      background-color: #3B4455;\n",
              "      fill: #D2E3FC;\n",
              "    }\n",
              "\n",
              "    [theme=dark] .colab-df-convert:hover {\n",
              "      background-color: #434B5C;\n",
              "      box-shadow: 0px 1px 3px 1px rgba(0, 0, 0, 0.15);\n",
              "      filter: drop-shadow(0px 1px 2px rgba(0, 0, 0, 0.3));\n",
              "      fill: #FFFFFF;\n",
              "    }\n",
              "  </style>\n",
              "\n",
              "      <script>\n",
              "        const buttonEl =\n",
              "          document.querySelector('#df-6d4dd20e-b6cb-47f5-831c-53a080853e47 button.colab-df-convert');\n",
              "        buttonEl.style.display =\n",
              "          google.colab.kernel.accessAllowed ? 'block' : 'none';\n",
              "\n",
              "        async function convertToInteractive(key) {\n",
              "          const element = document.querySelector('#df-6d4dd20e-b6cb-47f5-831c-53a080853e47');\n",
              "          const dataTable =\n",
              "            await google.colab.kernel.invokeFunction('convertToInteractive',\n",
              "                                                     [key], {});\n",
              "          if (!dataTable) return;\n",
              "\n",
              "          const docLinkHtml = 'Like what you see? Visit the ' +\n",
              "            '<a target=\"_blank\" href=https://colab.research.google.com/notebooks/data_table.ipynb>data table notebook</a>'\n",
              "            + ' to learn more about interactive tables.';\n",
              "          element.innerHTML = '';\n",
              "          dataTable['output_type'] = 'display_data';\n",
              "          await google.colab.output.renderOutput(dataTable, element);\n",
              "          const docLink = document.createElement('div');\n",
              "          docLink.innerHTML = docLinkHtml;\n",
              "          element.appendChild(docLink);\n",
              "        }\n",
              "      </script>\n",
              "    </div>\n",
              "  </div>\n",
              "  "
            ]
          },
          "metadata": {},
          "execution_count": 99
        }
      ]
    },
    {
      "cell_type": "code",
      "source": [
        "afinn.shape"
      ],
      "metadata": {
        "colab": {
          "base_uri": "https://localhost:8080/"
        },
        "id": "_6yY-9wrdTYN",
        "outputId": "f87701c5-e979-45e5-bf53-b372481d4796"
      },
      "execution_count": 100,
      "outputs": [
        {
          "output_type": "execute_result",
          "data": {
            "text/plain": [
              "(2477, 2)"
            ]
          },
          "metadata": {},
          "execution_count": 100
        }
      ]
    },
    {
      "cell_type": "code",
      "source": [
        "from itertools import islice\n",
        "\n",
        "def take(n,iterable):\n",
        "    return list(islice(iterable, n))"
      ],
      "metadata": {
        "id": "irK4ANVkeMkU"
      },
      "execution_count": 101,
      "outputs": []
    },
    {
      "cell_type": "code",
      "source": [
        "affinity_scores = afinn.set_index('word')['value'].to_dict()"
      ],
      "metadata": {
        "id": "LYi97IHRePKU"
      },
      "execution_count": 102,
      "outputs": []
    },
    {
      "cell_type": "code",
      "source": [
        "take(15,affinity_scores)"
      ],
      "metadata": {
        "colab": {
          "base_uri": "https://localhost:8080/"
        },
        "id": "GYh5czgBeR8U",
        "outputId": "9766448d-bd45-4b69-9b37-5709c10e4720"
      },
      "execution_count": 103,
      "outputs": [
        {
          "output_type": "execute_result",
          "data": {
            "text/plain": [
              "['abandon',\n",
              " 'abandoned',\n",
              " 'abandons',\n",
              " 'abducted',\n",
              " 'abduction',\n",
              " 'abductions',\n",
              " 'abhor',\n",
              " 'abhorred',\n",
              " 'abhorrent',\n",
              " 'abhors',\n",
              " 'abilities',\n",
              " 'ability',\n",
              " 'aboard',\n",
              " 'absentee',\n",
              " 'absentees']"
            ]
          },
          "metadata": {},
          "execution_count": 103
        }
      ]
    },
    {
      "cell_type": "code",
      "source": [
        "from nltk import tokenize"
      ],
      "metadata": {
        "id": "-W5PUiB4eT-M"
      },
      "execution_count": 104,
      "outputs": []
    },
    {
      "cell_type": "code",
      "source": [
        "sentence = tokenize.sent_tokenize(' '.join(movie_reviews))\n",
        "sentence[5:15]"
      ],
      "metadata": {
        "colab": {
          "base_uri": "https://localhost:8080/"
        },
        "id": "o8Ej2l16eZAK",
        "outputId": "ea309104-606f-4c65-dd8b-8a27cc4377ff"
      },
      "execution_count": 105,
      "outputs": [
        {
          "output_type": "execute_result",
          "data": {
            "text/plain": [
              "['But, besides the visuals there is such a heart and imagination and creativity to this movie.',\n",
              " 'Moana is such a likable, smart, and relatable person.',\n",
              " 'the voice work for Moana is so sweet and so good.',\n",
              " 'The chemistry between Moana and Maui is so great and so natural.',\n",
              " 'The songs in this movie are so charming, catchy and fun!',\n",
              " \"But, How Far I'll Go is such an emotional song and it has such heart...I dare say I like it a little more than Let It Go!\",\n",
              " 'The way Moana sings it and you can feel it!!',\n",
              " 'Wow, I just looved this movie and it is great for kids and adults.',\n",
              " 'I will always love it and I wanna see it again!',\n",
              " \"Despite being a lifelong Disney fan, that is not to say that everything they've done is great.\"]"
            ]
          },
          "metadata": {},
          "execution_count": 105
        }
      ]
    },
    {
      "cell_type": "code",
      "source": [
        "sent_df = pd.DataFrame(sentence, columns = ['sentences'])\n",
        "sent_df"
      ],
      "metadata": {
        "colab": {
          "base_uri": "https://localhost:8080/",
          "height": 424
        },
        "id": "foradTIJebBq",
        "outputId": "926ec430-c713-4024-c563-91191635055b"
      },
      "execution_count": 106,
      "outputs": [
        {
          "output_type": "execute_result",
          "data": {
            "text/plain": [
              "                                             sentences\n",
              "0    Instant classic.Easily ranks among the best fr...\n",
              "1                   \"((Designated \"IMDb Top Reviewer.\"\n",
              "2    Please check out my list \"167+ Nearly-Perfect ...\n",
              "3         The visuals in this movie are breathtaking!!\n",
              "4                                They are so gorgeous!\n",
              "..                                                 ...\n",
              "301  I cannot say enough good things about this movie!\n",
              "302  Hi there,I'm not gonna say much other than tha...\n",
              "303  Consequently, what follows is just a short opi...\n",
              "304  Pretty much everything; the animation here is ...\n",
              "305  Moana is not your typical princess fairy tale ...\n",
              "\n",
              "[306 rows x 1 columns]"
            ],
            "text/html": [
              "\n",
              "  <div id=\"df-dfdf0479-0213-42aa-aeaf-052ed106b94c\">\n",
              "    <div class=\"colab-df-container\">\n",
              "      <div>\n",
              "<style scoped>\n",
              "    .dataframe tbody tr th:only-of-type {\n",
              "        vertical-align: middle;\n",
              "    }\n",
              "\n",
              "    .dataframe tbody tr th {\n",
              "        vertical-align: top;\n",
              "    }\n",
              "\n",
              "    .dataframe thead th {\n",
              "        text-align: right;\n",
              "    }\n",
              "</style>\n",
              "<table border=\"1\" class=\"dataframe\">\n",
              "  <thead>\n",
              "    <tr style=\"text-align: right;\">\n",
              "      <th></th>\n",
              "      <th>sentences</th>\n",
              "    </tr>\n",
              "  </thead>\n",
              "  <tbody>\n",
              "    <tr>\n",
              "      <th>0</th>\n",
              "      <td>Instant classic.Easily ranks among the best fr...</td>\n",
              "    </tr>\n",
              "    <tr>\n",
              "      <th>1</th>\n",
              "      <td>\"((Designated \"IMDb Top Reviewer.\"</td>\n",
              "    </tr>\n",
              "    <tr>\n",
              "      <th>2</th>\n",
              "      <td>Please check out my list \"167+ Nearly-Perfect ...</td>\n",
              "    </tr>\n",
              "    <tr>\n",
              "      <th>3</th>\n",
              "      <td>The visuals in this movie are breathtaking!!</td>\n",
              "    </tr>\n",
              "    <tr>\n",
              "      <th>4</th>\n",
              "      <td>They are so gorgeous!</td>\n",
              "    </tr>\n",
              "    <tr>\n",
              "      <th>...</th>\n",
              "      <td>...</td>\n",
              "    </tr>\n",
              "    <tr>\n",
              "      <th>301</th>\n",
              "      <td>I cannot say enough good things about this movie!</td>\n",
              "    </tr>\n",
              "    <tr>\n",
              "      <th>302</th>\n",
              "      <td>Hi there,I'm not gonna say much other than tha...</td>\n",
              "    </tr>\n",
              "    <tr>\n",
              "      <th>303</th>\n",
              "      <td>Consequently, what follows is just a short opi...</td>\n",
              "    </tr>\n",
              "    <tr>\n",
              "      <th>304</th>\n",
              "      <td>Pretty much everything; the animation here is ...</td>\n",
              "    </tr>\n",
              "    <tr>\n",
              "      <th>305</th>\n",
              "      <td>Moana is not your typical princess fairy tale ...</td>\n",
              "    </tr>\n",
              "  </tbody>\n",
              "</table>\n",
              "<p>306 rows × 1 columns</p>\n",
              "</div>\n",
              "      <button class=\"colab-df-convert\" onclick=\"convertToInteractive('df-dfdf0479-0213-42aa-aeaf-052ed106b94c')\"\n",
              "              title=\"Convert this dataframe to an interactive table.\"\n",
              "              style=\"display:none;\">\n",
              "        \n",
              "  <svg xmlns=\"http://www.w3.org/2000/svg\" height=\"24px\"viewBox=\"0 0 24 24\"\n",
              "       width=\"24px\">\n",
              "    <path d=\"M0 0h24v24H0V0z\" fill=\"none\"/>\n",
              "    <path d=\"M18.56 5.44l.94 2.06.94-2.06 2.06-.94-2.06-.94-.94-2.06-.94 2.06-2.06.94zm-11 1L8.5 8.5l.94-2.06 2.06-.94-2.06-.94L8.5 2.5l-.94 2.06-2.06.94zm10 10l.94 2.06.94-2.06 2.06-.94-2.06-.94-.94-2.06-.94 2.06-2.06.94z\"/><path d=\"M17.41 7.96l-1.37-1.37c-.4-.4-.92-.59-1.43-.59-.52 0-1.04.2-1.43.59L10.3 9.45l-7.72 7.72c-.78.78-.78 2.05 0 2.83L4 21.41c.39.39.9.59 1.41.59.51 0 1.02-.2 1.41-.59l7.78-7.78 2.81-2.81c.8-.78.8-2.07 0-2.86zM5.41 20L4 18.59l7.72-7.72 1.47 1.35L5.41 20z\"/>\n",
              "  </svg>\n",
              "      </button>\n",
              "      \n",
              "  <style>\n",
              "    .colab-df-container {\n",
              "      display:flex;\n",
              "      flex-wrap:wrap;\n",
              "      gap: 12px;\n",
              "    }\n",
              "\n",
              "    .colab-df-convert {\n",
              "      background-color: #E8F0FE;\n",
              "      border: none;\n",
              "      border-radius: 50%;\n",
              "      cursor: pointer;\n",
              "      display: none;\n",
              "      fill: #1967D2;\n",
              "      height: 32px;\n",
              "      padding: 0 0 0 0;\n",
              "      width: 32px;\n",
              "    }\n",
              "\n",
              "    .colab-df-convert:hover {\n",
              "      background-color: #E2EBFA;\n",
              "      box-shadow: 0px 1px 2px rgba(60, 64, 67, 0.3), 0px 1px 3px 1px rgba(60, 64, 67, 0.15);\n",
              "      fill: #174EA6;\n",
              "    }\n",
              "\n",
              "    [theme=dark] .colab-df-convert {\n",
              "      background-color: #3B4455;\n",
              "      fill: #D2E3FC;\n",
              "    }\n",
              "\n",
              "    [theme=dark] .colab-df-convert:hover {\n",
              "      background-color: #434B5C;\n",
              "      box-shadow: 0px 1px 3px 1px rgba(0, 0, 0, 0.15);\n",
              "      filter: drop-shadow(0px 1px 2px rgba(0, 0, 0, 0.3));\n",
              "      fill: #FFFFFF;\n",
              "    }\n",
              "  </style>\n",
              "\n",
              "      <script>\n",
              "        const buttonEl =\n",
              "          document.querySelector('#df-dfdf0479-0213-42aa-aeaf-052ed106b94c button.colab-df-convert');\n",
              "        buttonEl.style.display =\n",
              "          google.colab.kernel.accessAllowed ? 'block' : 'none';\n",
              "\n",
              "        async function convertToInteractive(key) {\n",
              "          const element = document.querySelector('#df-dfdf0479-0213-42aa-aeaf-052ed106b94c');\n",
              "          const dataTable =\n",
              "            await google.colab.kernel.invokeFunction('convertToInteractive',\n",
              "                                                     [key], {});\n",
              "          if (!dataTable) return;\n",
              "\n",
              "          const docLinkHtml = 'Like what you see? Visit the ' +\n",
              "            '<a target=\"_blank\" href=https://colab.research.google.com/notebooks/data_table.ipynb>data table notebook</a>'\n",
              "            + ' to learn more about interactive tables.';\n",
              "          element.innerHTML = '';\n",
              "          dataTable['output_type'] = 'display_data';\n",
              "          await google.colab.output.renderOutput(dataTable, element);\n",
              "          const docLink = document.createElement('div');\n",
              "          docLink.innerHTML = docLinkHtml;\n",
              "          element.appendChild(docLink);\n",
              "        }\n",
              "      </script>\n",
              "    </div>\n",
              "  </div>\n",
              "  "
            ]
          },
          "metadata": {},
          "execution_count": 106
        }
      ]
    },
    {
      "cell_type": "code",
      "source": [
        "nlp = spacy.load(\"en_core_web_sm\")\n",
        "sentiment_lexicon = affinity_scores"
      ],
      "metadata": {
        "id": "SVvP9kA0edGC"
      },
      "execution_count": 107,
      "outputs": []
    },
    {
      "cell_type": "code",
      "source": [
        "def calculate_sentiment(text: str = None)->float:\n",
        "    sent_score = 0\n",
        "    if text:\n",
        "        sentence = nlp(text)\n",
        "        for word in sentence:\n",
        "            sent_score += sentiment_lexicon.get(word.lemma_,0)\n",
        "    return sent_score"
      ],
      "metadata": {
        "id": "dJQRHNMbegIC"
      },
      "execution_count": 108,
      "outputs": []
    },
    {
      "cell_type": "code",
      "source": [
        "calculate_sentiment(\"never poor\")"
      ],
      "metadata": {
        "colab": {
          "base_uri": "https://localhost:8080/"
        },
        "id": "ivQ0LO3aeifS",
        "outputId": "8f88a45d-b78a-404e-ae40-25372f4c6114"
      },
      "execution_count": 109,
      "outputs": [
        {
          "output_type": "execute_result",
          "data": {
            "text/plain": [
              "-2"
            ]
          },
          "metadata": {},
          "execution_count": 109
        }
      ]
    },
    {
      "cell_type": "code",
      "source": [
        "# Getting the word count from sentences\n",
        "\n",
        "sent_df['word_count'] = sent_df['sentences'].str.split().apply(len)\n",
        "sent_df['word_count'].head(25)"
      ],
      "metadata": {
        "colab": {
          "base_uri": "https://localhost:8080/"
        },
        "id": "UNOp8smQelfE",
        "outputId": "db281244-1512-4597-e022-ac22902a2190"
      },
      "execution_count": 110,
      "outputs": [
        {
          "output_type": "execute_result",
          "data": {
            "text/plain": [
              "0     102\n",
              "1       4\n",
              "2      31\n",
              "3       7\n",
              "4       4\n",
              "5      16\n",
              "6       9\n",
              "7      11\n",
              "8      12\n",
              "9      11\n",
              "10     27\n",
              "11     10\n",
              "12     14\n",
              "13     11\n",
              "14     17\n",
              "15     20\n",
              "16     40\n",
              "17     63\n",
              "18     25\n",
              "19     34\n",
              "20     46\n",
              "21     71\n",
              "22     17\n",
              "23     27\n",
              "24     16\n",
              "Name: word_count, dtype: int64"
            ]
          },
          "metadata": {},
          "execution_count": 110
        }
      ]
    },
    {
      "cell_type": "code",
      "source": [
        "sent_df['sentiment_scores'] = sent_df['sentences'].apply(calculate_sentiment)\n",
        "sent_df"
      ],
      "metadata": {
        "colab": {
          "base_uri": "https://localhost:8080/",
          "height": 424
        },
        "id": "leyYy8zGen90",
        "outputId": "ef109d95-5285-4b2a-8564-bdddc8b2c905"
      },
      "execution_count": 111,
      "outputs": [
        {
          "output_type": "execute_result",
          "data": {
            "text/plain": [
              "                                             sentences  word_count  \\\n",
              "0    Instant classic.Easily ranks among the best fr...         102   \n",
              "1                   \"((Designated \"IMDb Top Reviewer.\"           4   \n",
              "2    Please check out my list \"167+ Nearly-Perfect ...          31   \n",
              "3         The visuals in this movie are breathtaking!!           7   \n",
              "4                                They are so gorgeous!           4   \n",
              "..                                                 ...         ...   \n",
              "301  I cannot say enough good things about this movie!           9   \n",
              "302  Hi there,I'm not gonna say much other than tha...          26   \n",
              "303  Consequently, what follows is just a short opi...          19   \n",
              "304  Pretty much everything; the animation here is ...          45   \n",
              "305  Moana is not your typical princess fairy tale ...          51   \n",
              "\n",
              "     sentiment_scores  \n",
              "0                  14  \n",
              "1                   0  \n",
              "2                  11  \n",
              "3                   0  \n",
              "4                   0  \n",
              "..                ...  \n",
              "301                 3  \n",
              "302                 2  \n",
              "303                 3  \n",
              "304                 8  \n",
              "305                 7  \n",
              "\n",
              "[306 rows x 3 columns]"
            ],
            "text/html": [
              "\n",
              "  <div id=\"df-4b5777ee-46e2-4190-802f-902157b5d7a6\">\n",
              "    <div class=\"colab-df-container\">\n",
              "      <div>\n",
              "<style scoped>\n",
              "    .dataframe tbody tr th:only-of-type {\n",
              "        vertical-align: middle;\n",
              "    }\n",
              "\n",
              "    .dataframe tbody tr th {\n",
              "        vertical-align: top;\n",
              "    }\n",
              "\n",
              "    .dataframe thead th {\n",
              "        text-align: right;\n",
              "    }\n",
              "</style>\n",
              "<table border=\"1\" class=\"dataframe\">\n",
              "  <thead>\n",
              "    <tr style=\"text-align: right;\">\n",
              "      <th></th>\n",
              "      <th>sentences</th>\n",
              "      <th>word_count</th>\n",
              "      <th>sentiment_scores</th>\n",
              "    </tr>\n",
              "  </thead>\n",
              "  <tbody>\n",
              "    <tr>\n",
              "      <th>0</th>\n",
              "      <td>Instant classic.Easily ranks among the best fr...</td>\n",
              "      <td>102</td>\n",
              "      <td>14</td>\n",
              "    </tr>\n",
              "    <tr>\n",
              "      <th>1</th>\n",
              "      <td>\"((Designated \"IMDb Top Reviewer.\"</td>\n",
              "      <td>4</td>\n",
              "      <td>0</td>\n",
              "    </tr>\n",
              "    <tr>\n",
              "      <th>2</th>\n",
              "      <td>Please check out my list \"167+ Nearly-Perfect ...</td>\n",
              "      <td>31</td>\n",
              "      <td>11</td>\n",
              "    </tr>\n",
              "    <tr>\n",
              "      <th>3</th>\n",
              "      <td>The visuals in this movie are breathtaking!!</td>\n",
              "      <td>7</td>\n",
              "      <td>0</td>\n",
              "    </tr>\n",
              "    <tr>\n",
              "      <th>4</th>\n",
              "      <td>They are so gorgeous!</td>\n",
              "      <td>4</td>\n",
              "      <td>0</td>\n",
              "    </tr>\n",
              "    <tr>\n",
              "      <th>...</th>\n",
              "      <td>...</td>\n",
              "      <td>...</td>\n",
              "      <td>...</td>\n",
              "    </tr>\n",
              "    <tr>\n",
              "      <th>301</th>\n",
              "      <td>I cannot say enough good things about this movie!</td>\n",
              "      <td>9</td>\n",
              "      <td>3</td>\n",
              "    </tr>\n",
              "    <tr>\n",
              "      <th>302</th>\n",
              "      <td>Hi there,I'm not gonna say much other than tha...</td>\n",
              "      <td>26</td>\n",
              "      <td>2</td>\n",
              "    </tr>\n",
              "    <tr>\n",
              "      <th>303</th>\n",
              "      <td>Consequently, what follows is just a short opi...</td>\n",
              "      <td>19</td>\n",
              "      <td>3</td>\n",
              "    </tr>\n",
              "    <tr>\n",
              "      <th>304</th>\n",
              "      <td>Pretty much everything; the animation here is ...</td>\n",
              "      <td>45</td>\n",
              "      <td>8</td>\n",
              "    </tr>\n",
              "    <tr>\n",
              "      <th>305</th>\n",
              "      <td>Moana is not your typical princess fairy tale ...</td>\n",
              "      <td>51</td>\n",
              "      <td>7</td>\n",
              "    </tr>\n",
              "  </tbody>\n",
              "</table>\n",
              "<p>306 rows × 3 columns</p>\n",
              "</div>\n",
              "      <button class=\"colab-df-convert\" onclick=\"convertToInteractive('df-4b5777ee-46e2-4190-802f-902157b5d7a6')\"\n",
              "              title=\"Convert this dataframe to an interactive table.\"\n",
              "              style=\"display:none;\">\n",
              "        \n",
              "  <svg xmlns=\"http://www.w3.org/2000/svg\" height=\"24px\"viewBox=\"0 0 24 24\"\n",
              "       width=\"24px\">\n",
              "    <path d=\"M0 0h24v24H0V0z\" fill=\"none\"/>\n",
              "    <path d=\"M18.56 5.44l.94 2.06.94-2.06 2.06-.94-2.06-.94-.94-2.06-.94 2.06-2.06.94zm-11 1L8.5 8.5l.94-2.06 2.06-.94-2.06-.94L8.5 2.5l-.94 2.06-2.06.94zm10 10l.94 2.06.94-2.06 2.06-.94-2.06-.94-.94-2.06-.94 2.06-2.06.94z\"/><path d=\"M17.41 7.96l-1.37-1.37c-.4-.4-.92-.59-1.43-.59-.52 0-1.04.2-1.43.59L10.3 9.45l-7.72 7.72c-.78.78-.78 2.05 0 2.83L4 21.41c.39.39.9.59 1.41.59.51 0 1.02-.2 1.41-.59l7.78-7.78 2.81-2.81c.8-.78.8-2.07 0-2.86zM5.41 20L4 18.59l7.72-7.72 1.47 1.35L5.41 20z\"/>\n",
              "  </svg>\n",
              "      </button>\n",
              "      \n",
              "  <style>\n",
              "    .colab-df-container {\n",
              "      display:flex;\n",
              "      flex-wrap:wrap;\n",
              "      gap: 12px;\n",
              "    }\n",
              "\n",
              "    .colab-df-convert {\n",
              "      background-color: #E8F0FE;\n",
              "      border: none;\n",
              "      border-radius: 50%;\n",
              "      cursor: pointer;\n",
              "      display: none;\n",
              "      fill: #1967D2;\n",
              "      height: 32px;\n",
              "      padding: 0 0 0 0;\n",
              "      width: 32px;\n",
              "    }\n",
              "\n",
              "    .colab-df-convert:hover {\n",
              "      background-color: #E2EBFA;\n",
              "      box-shadow: 0px 1px 2px rgba(60, 64, 67, 0.3), 0px 1px 3px 1px rgba(60, 64, 67, 0.15);\n",
              "      fill: #174EA6;\n",
              "    }\n",
              "\n",
              "    [theme=dark] .colab-df-convert {\n",
              "      background-color: #3B4455;\n",
              "      fill: #D2E3FC;\n",
              "    }\n",
              "\n",
              "    [theme=dark] .colab-df-convert:hover {\n",
              "      background-color: #434B5C;\n",
              "      box-shadow: 0px 1px 3px 1px rgba(0, 0, 0, 0.15);\n",
              "      filter: drop-shadow(0px 1px 2px rgba(0, 0, 0, 0.3));\n",
              "      fill: #FFFFFF;\n",
              "    }\n",
              "  </style>\n",
              "\n",
              "      <script>\n",
              "        const buttonEl =\n",
              "          document.querySelector('#df-4b5777ee-46e2-4190-802f-902157b5d7a6 button.colab-df-convert');\n",
              "        buttonEl.style.display =\n",
              "          google.colab.kernel.accessAllowed ? 'block' : 'none';\n",
              "\n",
              "        async function convertToInteractive(key) {\n",
              "          const element = document.querySelector('#df-4b5777ee-46e2-4190-802f-902157b5d7a6');\n",
              "          const dataTable =\n",
              "            await google.colab.kernel.invokeFunction('convertToInteractive',\n",
              "                                                     [key], {});\n",
              "          if (!dataTable) return;\n",
              "\n",
              "          const docLinkHtml = 'Like what you see? Visit the ' +\n",
              "            '<a target=\"_blank\" href=https://colab.research.google.com/notebooks/data_table.ipynb>data table notebook</a>'\n",
              "            + ' to learn more about interactive tables.';\n",
              "          element.innerHTML = '';\n",
              "          dataTable['output_type'] = 'display_data';\n",
              "          await google.colab.output.renderOutput(dataTable, element);\n",
              "          const docLink = document.createElement('div');\n",
              "          docLink.innerHTML = docLinkHtml;\n",
              "          element.appendChild(docLink);\n",
              "        }\n",
              "      </script>\n",
              "    </div>\n",
              "  </div>\n",
              "  "
            ]
          },
          "metadata": {},
          "execution_count": 111
        }
      ]
    },
    {
      "cell_type": "code",
      "source": [
        "sent_df.sort_values(by = 'sentiment_scores').tail(20)"
      ],
      "metadata": {
        "colab": {
          "base_uri": "https://localhost:8080/",
          "height": 677
        },
        "id": "KPdY1mqDeqI8",
        "outputId": "4510c533-5be4-4009-d744-5853b64fefa2"
      },
      "execution_count": 112,
      "outputs": [
        {
          "output_type": "execute_result",
          "data": {
            "text/plain": [
              "                                             sentences  word_count  \\\n",
              "127  \"Moana\" also has some good dialogue that keeps...          46   \n",
              "196  It won't be easy; life wasn't meant to be easy...          24   \n",
              "99   In fact, I was astonished by its storyline alo...          67   \n",
              "151  She is voiced by Auli'I Cravaljo and it fits l...          16   \n",
              "93   It won't be easy; life wasn't meant to be easy...          24   \n",
              "159  Moana has a great beginning, good middle, and ...          11   \n",
              "165  Moana is one of the best Disney films of the p...          30   \n",
              "84   Even if they weren't slightly creative, the st...          33   \n",
              "116  Maui is also the perfect comic relief and the ...          33   \n",
              "45   I can easily see any one of the songs in this ...          31   \n",
              "31   The coconut pirates scene may seem like filler...          79   \n",
              "172  Thinking back to the original Toy Story, thing...          85   \n",
              "187  Even if they weren't slightly creative, the st...          33   \n",
              "2    Please check out my list \"167+ Nearly-Perfect ...          31   \n",
              "21   The attention to detail is impossible to fault...          71   \n",
              "139                                 Funny funny funny.           3   \n",
              "0    Instant classic.Easily ranks among the best fr...         102   \n",
              "197  It has a superb single, a nice accompanying so...          24   \n",
              "94   It has a superb single, a nice accompanying so...          24   \n",
              "170  Maui was one of the best modern Disney movies,...          69   \n",
              "\n",
              "     sentiment_scores  \n",
              "127                 9  \n",
              "196                 9  \n",
              "99                  9  \n",
              "151                 9  \n",
              "93                  9  \n",
              "159                 9  \n",
              "165                 9  \n",
              "84                 10  \n",
              "116                10  \n",
              "45                 10  \n",
              "31                 10  \n",
              "172                10  \n",
              "187                10  \n",
              "2                  11  \n",
              "21                 11  \n",
              "139                12  \n",
              "0                  14  \n",
              "197                16  \n",
              "94                 16  \n",
              "170                25  "
            ],
            "text/html": [
              "\n",
              "  <div id=\"df-27198bf0-97d3-4f4c-aa47-03c4b62fe0be\">\n",
              "    <div class=\"colab-df-container\">\n",
              "      <div>\n",
              "<style scoped>\n",
              "    .dataframe tbody tr th:only-of-type {\n",
              "        vertical-align: middle;\n",
              "    }\n",
              "\n",
              "    .dataframe tbody tr th {\n",
              "        vertical-align: top;\n",
              "    }\n",
              "\n",
              "    .dataframe thead th {\n",
              "        text-align: right;\n",
              "    }\n",
              "</style>\n",
              "<table border=\"1\" class=\"dataframe\">\n",
              "  <thead>\n",
              "    <tr style=\"text-align: right;\">\n",
              "      <th></th>\n",
              "      <th>sentences</th>\n",
              "      <th>word_count</th>\n",
              "      <th>sentiment_scores</th>\n",
              "    </tr>\n",
              "  </thead>\n",
              "  <tbody>\n",
              "    <tr>\n",
              "      <th>127</th>\n",
              "      <td>\"Moana\" also has some good dialogue that keeps...</td>\n",
              "      <td>46</td>\n",
              "      <td>9</td>\n",
              "    </tr>\n",
              "    <tr>\n",
              "      <th>196</th>\n",
              "      <td>It won't be easy; life wasn't meant to be easy...</td>\n",
              "      <td>24</td>\n",
              "      <td>9</td>\n",
              "    </tr>\n",
              "    <tr>\n",
              "      <th>99</th>\n",
              "      <td>In fact, I was astonished by its storyline alo...</td>\n",
              "      <td>67</td>\n",
              "      <td>9</td>\n",
              "    </tr>\n",
              "    <tr>\n",
              "      <th>151</th>\n",
              "      <td>She is voiced by Auli'I Cravaljo and it fits l...</td>\n",
              "      <td>16</td>\n",
              "      <td>9</td>\n",
              "    </tr>\n",
              "    <tr>\n",
              "      <th>93</th>\n",
              "      <td>It won't be easy; life wasn't meant to be easy...</td>\n",
              "      <td>24</td>\n",
              "      <td>9</td>\n",
              "    </tr>\n",
              "    <tr>\n",
              "      <th>159</th>\n",
              "      <td>Moana has a great beginning, good middle, and ...</td>\n",
              "      <td>11</td>\n",
              "      <td>9</td>\n",
              "    </tr>\n",
              "    <tr>\n",
              "      <th>165</th>\n",
              "      <td>Moana is one of the best Disney films of the p...</td>\n",
              "      <td>30</td>\n",
              "      <td>9</td>\n",
              "    </tr>\n",
              "    <tr>\n",
              "      <th>84</th>\n",
              "      <td>Even if they weren't slightly creative, the st...</td>\n",
              "      <td>33</td>\n",
              "      <td>10</td>\n",
              "    </tr>\n",
              "    <tr>\n",
              "      <th>116</th>\n",
              "      <td>Maui is also the perfect comic relief and the ...</td>\n",
              "      <td>33</td>\n",
              "      <td>10</td>\n",
              "    </tr>\n",
              "    <tr>\n",
              "      <th>45</th>\n",
              "      <td>I can easily see any one of the songs in this ...</td>\n",
              "      <td>31</td>\n",
              "      <td>10</td>\n",
              "    </tr>\n",
              "    <tr>\n",
              "      <th>31</th>\n",
              "      <td>The coconut pirates scene may seem like filler...</td>\n",
              "      <td>79</td>\n",
              "      <td>10</td>\n",
              "    </tr>\n",
              "    <tr>\n",
              "      <th>172</th>\n",
              "      <td>Thinking back to the original Toy Story, thing...</td>\n",
              "      <td>85</td>\n",
              "      <td>10</td>\n",
              "    </tr>\n",
              "    <tr>\n",
              "      <th>187</th>\n",
              "      <td>Even if they weren't slightly creative, the st...</td>\n",
              "      <td>33</td>\n",
              "      <td>10</td>\n",
              "    </tr>\n",
              "    <tr>\n",
              "      <th>2</th>\n",
              "      <td>Please check out my list \"167+ Nearly-Perfect ...</td>\n",
              "      <td>31</td>\n",
              "      <td>11</td>\n",
              "    </tr>\n",
              "    <tr>\n",
              "      <th>21</th>\n",
              "      <td>The attention to detail is impossible to fault...</td>\n",
              "      <td>71</td>\n",
              "      <td>11</td>\n",
              "    </tr>\n",
              "    <tr>\n",
              "      <th>139</th>\n",
              "      <td>Funny funny funny.</td>\n",
              "      <td>3</td>\n",
              "      <td>12</td>\n",
              "    </tr>\n",
              "    <tr>\n",
              "      <th>0</th>\n",
              "      <td>Instant classic.Easily ranks among the best fr...</td>\n",
              "      <td>102</td>\n",
              "      <td>14</td>\n",
              "    </tr>\n",
              "    <tr>\n",
              "      <th>197</th>\n",
              "      <td>It has a superb single, a nice accompanying so...</td>\n",
              "      <td>24</td>\n",
              "      <td>16</td>\n",
              "    </tr>\n",
              "    <tr>\n",
              "      <th>94</th>\n",
              "      <td>It has a superb single, a nice accompanying so...</td>\n",
              "      <td>24</td>\n",
              "      <td>16</td>\n",
              "    </tr>\n",
              "    <tr>\n",
              "      <th>170</th>\n",
              "      <td>Maui was one of the best modern Disney movies,...</td>\n",
              "      <td>69</td>\n",
              "      <td>25</td>\n",
              "    </tr>\n",
              "  </tbody>\n",
              "</table>\n",
              "</div>\n",
              "      <button class=\"colab-df-convert\" onclick=\"convertToInteractive('df-27198bf0-97d3-4f4c-aa47-03c4b62fe0be')\"\n",
              "              title=\"Convert this dataframe to an interactive table.\"\n",
              "              style=\"display:none;\">\n",
              "        \n",
              "  <svg xmlns=\"http://www.w3.org/2000/svg\" height=\"24px\"viewBox=\"0 0 24 24\"\n",
              "       width=\"24px\">\n",
              "    <path d=\"M0 0h24v24H0V0z\" fill=\"none\"/>\n",
              "    <path d=\"M18.56 5.44l.94 2.06.94-2.06 2.06-.94-2.06-.94-.94-2.06-.94 2.06-2.06.94zm-11 1L8.5 8.5l.94-2.06 2.06-.94-2.06-.94L8.5 2.5l-.94 2.06-2.06.94zm10 10l.94 2.06.94-2.06 2.06-.94-2.06-.94-.94-2.06-.94 2.06-2.06.94z\"/><path d=\"M17.41 7.96l-1.37-1.37c-.4-.4-.92-.59-1.43-.59-.52 0-1.04.2-1.43.59L10.3 9.45l-7.72 7.72c-.78.78-.78 2.05 0 2.83L4 21.41c.39.39.9.59 1.41.59.51 0 1.02-.2 1.41-.59l7.78-7.78 2.81-2.81c.8-.78.8-2.07 0-2.86zM5.41 20L4 18.59l7.72-7.72 1.47 1.35L5.41 20z\"/>\n",
              "  </svg>\n",
              "      </button>\n",
              "      \n",
              "  <style>\n",
              "    .colab-df-container {\n",
              "      display:flex;\n",
              "      flex-wrap:wrap;\n",
              "      gap: 12px;\n",
              "    }\n",
              "\n",
              "    .colab-df-convert {\n",
              "      background-color: #E8F0FE;\n",
              "      border: none;\n",
              "      border-radius: 50%;\n",
              "      cursor: pointer;\n",
              "      display: none;\n",
              "      fill: #1967D2;\n",
              "      height: 32px;\n",
              "      padding: 0 0 0 0;\n",
              "      width: 32px;\n",
              "    }\n",
              "\n",
              "    .colab-df-convert:hover {\n",
              "      background-color: #E2EBFA;\n",
              "      box-shadow: 0px 1px 2px rgba(60, 64, 67, 0.3), 0px 1px 3px 1px rgba(60, 64, 67, 0.15);\n",
              "      fill: #174EA6;\n",
              "    }\n",
              "\n",
              "    [theme=dark] .colab-df-convert {\n",
              "      background-color: #3B4455;\n",
              "      fill: #D2E3FC;\n",
              "    }\n",
              "\n",
              "    [theme=dark] .colab-df-convert:hover {\n",
              "      background-color: #434B5C;\n",
              "      box-shadow: 0px 1px 3px 1px rgba(0, 0, 0, 0.15);\n",
              "      filter: drop-shadow(0px 1px 2px rgba(0, 0, 0, 0.3));\n",
              "      fill: #FFFFFF;\n",
              "    }\n",
              "  </style>\n",
              "\n",
              "      <script>\n",
              "        const buttonEl =\n",
              "          document.querySelector('#df-27198bf0-97d3-4f4c-aa47-03c4b62fe0be button.colab-df-convert');\n",
              "        buttonEl.style.display =\n",
              "          google.colab.kernel.accessAllowed ? 'block' : 'none';\n",
              "\n",
              "        async function convertToInteractive(key) {\n",
              "          const element = document.querySelector('#df-27198bf0-97d3-4f4c-aa47-03c4b62fe0be');\n",
              "          const dataTable =\n",
              "            await google.colab.kernel.invokeFunction('convertToInteractive',\n",
              "                                                     [key], {});\n",
              "          if (!dataTable) return;\n",
              "\n",
              "          const docLinkHtml = 'Like what you see? Visit the ' +\n",
              "            '<a target=\"_blank\" href=https://colab.research.google.com/notebooks/data_table.ipynb>data table notebook</a>'\n",
              "            + ' to learn more about interactive tables.';\n",
              "          element.innerHTML = '';\n",
              "          dataTable['output_type'] = 'display_data';\n",
              "          await google.colab.output.renderOutput(dataTable, element);\n",
              "          const docLink = document.createElement('div');\n",
              "          docLink.innerHTML = docLinkHtml;\n",
              "          element.appendChild(docLink);\n",
              "        }\n",
              "      </script>\n",
              "    </div>\n",
              "  </div>\n",
              "  "
            ]
          },
          "metadata": {},
          "execution_count": 112
        }
      ]
    },
    {
      "cell_type": "code",
      "source": [
        "sent_df['sentiment_scores'].describe()"
      ],
      "metadata": {
        "colab": {
          "base_uri": "https://localhost:8080/"
        },
        "id": "TW8-_nSHesUU",
        "outputId": "1b286dba-3e95-49a3-fc31-901850673e94"
      },
      "execution_count": 113,
      "outputs": [
        {
          "output_type": "execute_result",
          "data": {
            "text/plain": [
              "count    306.000000\n",
              "mean       2.303922\n",
              "std        3.689922\n",
              "min       -9.000000\n",
              "25%        0.000000\n",
              "50%        1.500000\n",
              "75%        4.000000\n",
              "max       25.000000\n",
              "Name: sentiment_scores, dtype: float64"
            ]
          },
          "metadata": {},
          "execution_count": 113
        }
      ]
    },
    {
      "cell_type": "code",
      "source": [
        "sent_df[sent_df['sentiment_scores']>=15]"
      ],
      "metadata": {
        "colab": {
          "base_uri": "https://localhost:8080/",
          "height": 143
        },
        "id": "r3sBzEZtexmc",
        "outputId": "be17420b-b876-4955-8918-ec3c708bbfe8"
      },
      "execution_count": 114,
      "outputs": [
        {
          "output_type": "execute_result",
          "data": {
            "text/plain": [
              "                                             sentences  word_count  \\\n",
              "94   It has a superb single, a nice accompanying so...          24   \n",
              "170  Maui was one of the best modern Disney movies,...          69   \n",
              "197  It has a superb single, a nice accompanying so...          24   \n",
              "\n",
              "     sentiment_scores  \n",
              "94                 16  \n",
              "170                25  \n",
              "197                16  "
            ],
            "text/html": [
              "\n",
              "  <div id=\"df-8c2e2713-ee2d-42cb-9992-b29af8333120\">\n",
              "    <div class=\"colab-df-container\">\n",
              "      <div>\n",
              "<style scoped>\n",
              "    .dataframe tbody tr th:only-of-type {\n",
              "        vertical-align: middle;\n",
              "    }\n",
              "\n",
              "    .dataframe tbody tr th {\n",
              "        vertical-align: top;\n",
              "    }\n",
              "\n",
              "    .dataframe thead th {\n",
              "        text-align: right;\n",
              "    }\n",
              "</style>\n",
              "<table border=\"1\" class=\"dataframe\">\n",
              "  <thead>\n",
              "    <tr style=\"text-align: right;\">\n",
              "      <th></th>\n",
              "      <th>sentences</th>\n",
              "      <th>word_count</th>\n",
              "      <th>sentiment_scores</th>\n",
              "    </tr>\n",
              "  </thead>\n",
              "  <tbody>\n",
              "    <tr>\n",
              "      <th>94</th>\n",
              "      <td>It has a superb single, a nice accompanying so...</td>\n",
              "      <td>24</td>\n",
              "      <td>16</td>\n",
              "    </tr>\n",
              "    <tr>\n",
              "      <th>170</th>\n",
              "      <td>Maui was one of the best modern Disney movies,...</td>\n",
              "      <td>69</td>\n",
              "      <td>25</td>\n",
              "    </tr>\n",
              "    <tr>\n",
              "      <th>197</th>\n",
              "      <td>It has a superb single, a nice accompanying so...</td>\n",
              "      <td>24</td>\n",
              "      <td>16</td>\n",
              "    </tr>\n",
              "  </tbody>\n",
              "</table>\n",
              "</div>\n",
              "      <button class=\"colab-df-convert\" onclick=\"convertToInteractive('df-8c2e2713-ee2d-42cb-9992-b29af8333120')\"\n",
              "              title=\"Convert this dataframe to an interactive table.\"\n",
              "              style=\"display:none;\">\n",
              "        \n",
              "  <svg xmlns=\"http://www.w3.org/2000/svg\" height=\"24px\"viewBox=\"0 0 24 24\"\n",
              "       width=\"24px\">\n",
              "    <path d=\"M0 0h24v24H0V0z\" fill=\"none\"/>\n",
              "    <path d=\"M18.56 5.44l.94 2.06.94-2.06 2.06-.94-2.06-.94-.94-2.06-.94 2.06-2.06.94zm-11 1L8.5 8.5l.94-2.06 2.06-.94-2.06-.94L8.5 2.5l-.94 2.06-2.06.94zm10 10l.94 2.06.94-2.06 2.06-.94-2.06-.94-.94-2.06-.94 2.06-2.06.94z\"/><path d=\"M17.41 7.96l-1.37-1.37c-.4-.4-.92-.59-1.43-.59-.52 0-1.04.2-1.43.59L10.3 9.45l-7.72 7.72c-.78.78-.78 2.05 0 2.83L4 21.41c.39.39.9.59 1.41.59.51 0 1.02-.2 1.41-.59l7.78-7.78 2.81-2.81c.8-.78.8-2.07 0-2.86zM5.41 20L4 18.59l7.72-7.72 1.47 1.35L5.41 20z\"/>\n",
              "  </svg>\n",
              "      </button>\n",
              "      \n",
              "  <style>\n",
              "    .colab-df-container {\n",
              "      display:flex;\n",
              "      flex-wrap:wrap;\n",
              "      gap: 12px;\n",
              "    }\n",
              "\n",
              "    .colab-df-convert {\n",
              "      background-color: #E8F0FE;\n",
              "      border: none;\n",
              "      border-radius: 50%;\n",
              "      cursor: pointer;\n",
              "      display: none;\n",
              "      fill: #1967D2;\n",
              "      height: 32px;\n",
              "      padding: 0 0 0 0;\n",
              "      width: 32px;\n",
              "    }\n",
              "\n",
              "    .colab-df-convert:hover {\n",
              "      background-color: #E2EBFA;\n",
              "      box-shadow: 0px 1px 2px rgba(60, 64, 67, 0.3), 0px 1px 3px 1px rgba(60, 64, 67, 0.15);\n",
              "      fill: #174EA6;\n",
              "    }\n",
              "\n",
              "    [theme=dark] .colab-df-convert {\n",
              "      background-color: #3B4455;\n",
              "      fill: #D2E3FC;\n",
              "    }\n",
              "\n",
              "    [theme=dark] .colab-df-convert:hover {\n",
              "      background-color: #434B5C;\n",
              "      box-shadow: 0px 1px 3px 1px rgba(0, 0, 0, 0.15);\n",
              "      filter: drop-shadow(0px 1px 2px rgba(0, 0, 0, 0.3));\n",
              "      fill: #FFFFFF;\n",
              "    }\n",
              "  </style>\n",
              "\n",
              "      <script>\n",
              "        const buttonEl =\n",
              "          document.querySelector('#df-8c2e2713-ee2d-42cb-9992-b29af8333120 button.colab-df-convert');\n",
              "        buttonEl.style.display =\n",
              "          google.colab.kernel.accessAllowed ? 'block' : 'none';\n",
              "\n",
              "        async function convertToInteractive(key) {\n",
              "          const element = document.querySelector('#df-8c2e2713-ee2d-42cb-9992-b29af8333120');\n",
              "          const dataTable =\n",
              "            await google.colab.kernel.invokeFunction('convertToInteractive',\n",
              "                                                     [key], {});\n",
              "          if (!dataTable) return;\n",
              "\n",
              "          const docLinkHtml = 'Like what you see? Visit the ' +\n",
              "            '<a target=\"_blank\" href=https://colab.research.google.com/notebooks/data_table.ipynb>data table notebook</a>'\n",
              "            + ' to learn more about interactive tables.';\n",
              "          element.innerHTML = '';\n",
              "          dataTable['output_type'] = 'display_data';\n",
              "          await google.colab.output.renderOutput(dataTable, element);\n",
              "          const docLink = document.createElement('div');\n",
              "          docLink.innerHTML = docLinkHtml;\n",
              "          element.appendChild(docLink);\n",
              "        }\n",
              "      </script>\n",
              "    </div>\n",
              "  </div>\n",
              "  "
            ]
          },
          "metadata": {},
          "execution_count": 114
        }
      ]
    },
    {
      "cell_type": "code",
      "source": [
        "sent_df[sent_df['sentiment_scores']<0]"
      ],
      "metadata": {
        "colab": {
          "base_uri": "https://localhost:8080/",
          "height": 896
        },
        "id": "lCrJFeFfe0LU",
        "outputId": "acb2d066-e106-4759-d7b3-a6824dbe21bd"
      },
      "execution_count": 115,
      "outputs": [
        {
          "output_type": "execute_result",
          "data": {
            "text/plain": [
              "                                             sentences  word_count  \\\n",
              "18   It was however difficult to fault 'Moana', bec...          25   \n",
              "19   There have been criticisms regarding a formula...          34   \n",
              "28   There is something for everybody, never too co...          26   \n",
              "33   If anybody does find him dumb or annoying, thi...          33   \n",
              "38   It's no fluke that out of the four movies I ju...          38   \n",
              "40   Now, the world is slowly dying and someone mus...          19   \n",
              "87      Just don't follow hard tradition all the time.           8   \n",
              "95   I admit, I was expecting too much from Moana a...          21   \n",
              "106  \"All and all, I can't think of anything wrong ...          12   \n",
              "113  Most films make a forced effort to show girls ...          19   \n",
              "120  But it is also the story of friendship, forgiv...          28   \n",
              "163  It would appear that Disney's new approach to ...          40   \n",
              "164  As aforementioned in the introduction Moana is...          19   \n",
              "190     Just don't follow hard tradition all the time.           8   \n",
              "198  I admit, I was expecting too much from Moana a...          21   \n",
              "230  2016's 'Moana', explore the expedition of a yo...          47   \n",
              "233  Because of that, certain critics has accuse Di...          25   \n",
              "236     They had to avoid setting off cultural taboos.           8   \n",
              "238    Somebody was bound to get offended, regardless.           7   \n",
              "242  Still, some of the characters of the film were...          12   \n",
              "245  Still, much of that blame, come from the Walt ...          39   \n",
              "256  There is no better example of that, then the '...          19   \n",
              "262  Nor does it explain why, the ocean tries to ki...          28   \n",
              "265  He really doesn't do much; besides put Moana i...          10   \n",
              "266  Let's not overlook that Maui also tried to kil...          29   \n",
              "272  All the exposition dump come across, tiresome ...          10   \n",
              "276  Don't get me wrong, it's doesn't make 'Moana' ...          17   \n",
              "\n",
              "     sentiment_scores  \n",
              "18                 -1  \n",
              "19                 -9  \n",
              "28                 -3  \n",
              "33                 -7  \n",
              "38                 -3  \n",
              "40                 -3  \n",
              "87                 -1  \n",
              "95                 -1  \n",
              "106                -2  \n",
              "113                -1  \n",
              "120                -3  \n",
              "163                -3  \n",
              "164                -2  \n",
              "190                -1  \n",
              "198                -1  \n",
              "230                -2  \n",
              "233                -3  \n",
              "236                -1  \n",
              "238                -2  \n",
              "242                -2  \n",
              "245                -4  \n",
              "256                -1  \n",
              "262                -5  \n",
              "265                -2  \n",
              "266                -8  \n",
              "272                -1  \n",
              "276                -5  "
            ],
            "text/html": [
              "\n",
              "  <div id=\"df-7e252854-ed09-42f1-80a9-5764f3ae3ccd\">\n",
              "    <div class=\"colab-df-container\">\n",
              "      <div>\n",
              "<style scoped>\n",
              "    .dataframe tbody tr th:only-of-type {\n",
              "        vertical-align: middle;\n",
              "    }\n",
              "\n",
              "    .dataframe tbody tr th {\n",
              "        vertical-align: top;\n",
              "    }\n",
              "\n",
              "    .dataframe thead th {\n",
              "        text-align: right;\n",
              "    }\n",
              "</style>\n",
              "<table border=\"1\" class=\"dataframe\">\n",
              "  <thead>\n",
              "    <tr style=\"text-align: right;\">\n",
              "      <th></th>\n",
              "      <th>sentences</th>\n",
              "      <th>word_count</th>\n",
              "      <th>sentiment_scores</th>\n",
              "    </tr>\n",
              "  </thead>\n",
              "  <tbody>\n",
              "    <tr>\n",
              "      <th>18</th>\n",
              "      <td>It was however difficult to fault 'Moana', bec...</td>\n",
              "      <td>25</td>\n",
              "      <td>-1</td>\n",
              "    </tr>\n",
              "    <tr>\n",
              "      <th>19</th>\n",
              "      <td>There have been criticisms regarding a formula...</td>\n",
              "      <td>34</td>\n",
              "      <td>-9</td>\n",
              "    </tr>\n",
              "    <tr>\n",
              "      <th>28</th>\n",
              "      <td>There is something for everybody, never too co...</td>\n",
              "      <td>26</td>\n",
              "      <td>-3</td>\n",
              "    </tr>\n",
              "    <tr>\n",
              "      <th>33</th>\n",
              "      <td>If anybody does find him dumb or annoying, thi...</td>\n",
              "      <td>33</td>\n",
              "      <td>-7</td>\n",
              "    </tr>\n",
              "    <tr>\n",
              "      <th>38</th>\n",
              "      <td>It's no fluke that out of the four movies I ju...</td>\n",
              "      <td>38</td>\n",
              "      <td>-3</td>\n",
              "    </tr>\n",
              "    <tr>\n",
              "      <th>40</th>\n",
              "      <td>Now, the world is slowly dying and someone mus...</td>\n",
              "      <td>19</td>\n",
              "      <td>-3</td>\n",
              "    </tr>\n",
              "    <tr>\n",
              "      <th>87</th>\n",
              "      <td>Just don't follow hard tradition all the time.</td>\n",
              "      <td>8</td>\n",
              "      <td>-1</td>\n",
              "    </tr>\n",
              "    <tr>\n",
              "      <th>95</th>\n",
              "      <td>I admit, I was expecting too much from Moana a...</td>\n",
              "      <td>21</td>\n",
              "      <td>-1</td>\n",
              "    </tr>\n",
              "    <tr>\n",
              "      <th>106</th>\n",
              "      <td>\"All and all, I can't think of anything wrong ...</td>\n",
              "      <td>12</td>\n",
              "      <td>-2</td>\n",
              "    </tr>\n",
              "    <tr>\n",
              "      <th>113</th>\n",
              "      <td>Most films make a forced effort to show girls ...</td>\n",
              "      <td>19</td>\n",
              "      <td>-1</td>\n",
              "    </tr>\n",
              "    <tr>\n",
              "      <th>120</th>\n",
              "      <td>But it is also the story of friendship, forgiv...</td>\n",
              "      <td>28</td>\n",
              "      <td>-3</td>\n",
              "    </tr>\n",
              "    <tr>\n",
              "      <th>163</th>\n",
              "      <td>It would appear that Disney's new approach to ...</td>\n",
              "      <td>40</td>\n",
              "      <td>-3</td>\n",
              "    </tr>\n",
              "    <tr>\n",
              "      <th>164</th>\n",
              "      <td>As aforementioned in the introduction Moana is...</td>\n",
              "      <td>19</td>\n",
              "      <td>-2</td>\n",
              "    </tr>\n",
              "    <tr>\n",
              "      <th>190</th>\n",
              "      <td>Just don't follow hard tradition all the time.</td>\n",
              "      <td>8</td>\n",
              "      <td>-1</td>\n",
              "    </tr>\n",
              "    <tr>\n",
              "      <th>198</th>\n",
              "      <td>I admit, I was expecting too much from Moana a...</td>\n",
              "      <td>21</td>\n",
              "      <td>-1</td>\n",
              "    </tr>\n",
              "    <tr>\n",
              "      <th>230</th>\n",
              "      <td>2016's 'Moana', explore the expedition of a yo...</td>\n",
              "      <td>47</td>\n",
              "      <td>-2</td>\n",
              "    </tr>\n",
              "    <tr>\n",
              "      <th>233</th>\n",
              "      <td>Because of that, certain critics has accuse Di...</td>\n",
              "      <td>25</td>\n",
              "      <td>-3</td>\n",
              "    </tr>\n",
              "    <tr>\n",
              "      <th>236</th>\n",
              "      <td>They had to avoid setting off cultural taboos.</td>\n",
              "      <td>8</td>\n",
              "      <td>-1</td>\n",
              "    </tr>\n",
              "    <tr>\n",
              "      <th>238</th>\n",
              "      <td>Somebody was bound to get offended, regardless.</td>\n",
              "      <td>7</td>\n",
              "      <td>-2</td>\n",
              "    </tr>\n",
              "    <tr>\n",
              "      <th>242</th>\n",
              "      <td>Still, some of the characters of the film were...</td>\n",
              "      <td>12</td>\n",
              "      <td>-2</td>\n",
              "    </tr>\n",
              "    <tr>\n",
              "      <th>245</th>\n",
              "      <td>Still, much of that blame, come from the Walt ...</td>\n",
              "      <td>39</td>\n",
              "      <td>-4</td>\n",
              "    </tr>\n",
              "    <tr>\n",
              "      <th>256</th>\n",
              "      <td>There is no better example of that, then the '...</td>\n",
              "      <td>19</td>\n",
              "      <td>-1</td>\n",
              "    </tr>\n",
              "    <tr>\n",
              "      <th>262</th>\n",
              "      <td>Nor does it explain why, the ocean tries to ki...</td>\n",
              "      <td>28</td>\n",
              "      <td>-5</td>\n",
              "    </tr>\n",
              "    <tr>\n",
              "      <th>265</th>\n",
              "      <td>He really doesn't do much; besides put Moana i...</td>\n",
              "      <td>10</td>\n",
              "      <td>-2</td>\n",
              "    </tr>\n",
              "    <tr>\n",
              "      <th>266</th>\n",
              "      <td>Let's not overlook that Maui also tried to kil...</td>\n",
              "      <td>29</td>\n",
              "      <td>-8</td>\n",
              "    </tr>\n",
              "    <tr>\n",
              "      <th>272</th>\n",
              "      <td>All the exposition dump come across, tiresome ...</td>\n",
              "      <td>10</td>\n",
              "      <td>-1</td>\n",
              "    </tr>\n",
              "    <tr>\n",
              "      <th>276</th>\n",
              "      <td>Don't get me wrong, it's doesn't make 'Moana' ...</td>\n",
              "      <td>17</td>\n",
              "      <td>-5</td>\n",
              "    </tr>\n",
              "  </tbody>\n",
              "</table>\n",
              "</div>\n",
              "      <button class=\"colab-df-convert\" onclick=\"convertToInteractive('df-7e252854-ed09-42f1-80a9-5764f3ae3ccd')\"\n",
              "              title=\"Convert this dataframe to an interactive table.\"\n",
              "              style=\"display:none;\">\n",
              "        \n",
              "  <svg xmlns=\"http://www.w3.org/2000/svg\" height=\"24px\"viewBox=\"0 0 24 24\"\n",
              "       width=\"24px\">\n",
              "    <path d=\"M0 0h24v24H0V0z\" fill=\"none\"/>\n",
              "    <path d=\"M18.56 5.44l.94 2.06.94-2.06 2.06-.94-2.06-.94-.94-2.06-.94 2.06-2.06.94zm-11 1L8.5 8.5l.94-2.06 2.06-.94-2.06-.94L8.5 2.5l-.94 2.06-2.06.94zm10 10l.94 2.06.94-2.06 2.06-.94-2.06-.94-.94-2.06-.94 2.06-2.06.94z\"/><path d=\"M17.41 7.96l-1.37-1.37c-.4-.4-.92-.59-1.43-.59-.52 0-1.04.2-1.43.59L10.3 9.45l-7.72 7.72c-.78.78-.78 2.05 0 2.83L4 21.41c.39.39.9.59 1.41.59.51 0 1.02-.2 1.41-.59l7.78-7.78 2.81-2.81c.8-.78.8-2.07 0-2.86zM5.41 20L4 18.59l7.72-7.72 1.47 1.35L5.41 20z\"/>\n",
              "  </svg>\n",
              "      </button>\n",
              "      \n",
              "  <style>\n",
              "    .colab-df-container {\n",
              "      display:flex;\n",
              "      flex-wrap:wrap;\n",
              "      gap: 12px;\n",
              "    }\n",
              "\n",
              "    .colab-df-convert {\n",
              "      background-color: #E8F0FE;\n",
              "      border: none;\n",
              "      border-radius: 50%;\n",
              "      cursor: pointer;\n",
              "      display: none;\n",
              "      fill: #1967D2;\n",
              "      height: 32px;\n",
              "      padding: 0 0 0 0;\n",
              "      width: 32px;\n",
              "    }\n",
              "\n",
              "    .colab-df-convert:hover {\n",
              "      background-color: #E2EBFA;\n",
              "      box-shadow: 0px 1px 2px rgba(60, 64, 67, 0.3), 0px 1px 3px 1px rgba(60, 64, 67, 0.15);\n",
              "      fill: #174EA6;\n",
              "    }\n",
              "\n",
              "    [theme=dark] .colab-df-convert {\n",
              "      background-color: #3B4455;\n",
              "      fill: #D2E3FC;\n",
              "    }\n",
              "\n",
              "    [theme=dark] .colab-df-convert:hover {\n",
              "      background-color: #434B5C;\n",
              "      box-shadow: 0px 1px 3px 1px rgba(0, 0, 0, 0.15);\n",
              "      filter: drop-shadow(0px 1px 2px rgba(0, 0, 0, 0.3));\n",
              "      fill: #FFFFFF;\n",
              "    }\n",
              "  </style>\n",
              "\n",
              "      <script>\n",
              "        const buttonEl =\n",
              "          document.querySelector('#df-7e252854-ed09-42f1-80a9-5764f3ae3ccd button.colab-df-convert');\n",
              "        buttonEl.style.display =\n",
              "          google.colab.kernel.accessAllowed ? 'block' : 'none';\n",
              "\n",
              "        async function convertToInteractive(key) {\n",
              "          const element = document.querySelector('#df-7e252854-ed09-42f1-80a9-5764f3ae3ccd');\n",
              "          const dataTable =\n",
              "            await google.colab.kernel.invokeFunction('convertToInteractive',\n",
              "                                                     [key], {});\n",
              "          if (!dataTable) return;\n",
              "\n",
              "          const docLinkHtml = 'Like what you see? Visit the ' +\n",
              "            '<a target=\"_blank\" href=https://colab.research.google.com/notebooks/data_table.ipynb>data table notebook</a>'\n",
              "            + ' to learn more about interactive tables.';\n",
              "          element.innerHTML = '';\n",
              "          dataTable['output_type'] = 'display_data';\n",
              "          await google.colab.output.renderOutput(dataTable, element);\n",
              "          const docLink = document.createElement('div');\n",
              "          docLink.innerHTML = docLinkHtml;\n",
              "          element.appendChild(docLink);\n",
              "        }\n",
              "      </script>\n",
              "    </div>\n",
              "  </div>\n",
              "  "
            ]
          },
          "metadata": {},
          "execution_count": 115
        }
      ]
    },
    {
      "cell_type": "code",
      "source": [
        "# Visualizing the sentiment scores"
      ],
      "metadata": {
        "id": "En8-Gxnre3Gs"
      },
      "execution_count": 116,
      "outputs": []
    },
    {
      "cell_type": "code",
      "source": [
        "import seaborn as sns\n",
        "import warnings\n",
        "warnings.filterwarnings('ignore')"
      ],
      "metadata": {
        "id": "yDYNSJdge5ac"
      },
      "execution_count": 117,
      "outputs": []
    },
    {
      "cell_type": "code",
      "source": [
        "plt.figure(figsize = (10,8))\n",
        "sns.distplot(sent_df['sentiment_scores'])"
      ],
      "metadata": {
        "colab": {
          "base_uri": "https://localhost:8080/",
          "height": 515
        },
        "id": "0A79F8wpe7UD",
        "outputId": "33510d72-500b-4ee5-e1b1-a8710cdb15bb"
      },
      "execution_count": 118,
      "outputs": [
        {
          "output_type": "execute_result",
          "data": {
            "text/plain": [
              "<matplotlib.axes._subplots.AxesSubplot at 0x7f3287c56fd0>"
            ]
          },
          "metadata": {},
          "execution_count": 118
        },
        {
          "output_type": "display_data",
          "data": {
            "text/plain": [
              "<Figure size 720x576 with 1 Axes>"
            ],
            "image/png": "[encoded data removed]"
          },
          "metadata": {
            "needs_background": "light"
          }
        }
      ]
    },
    {
      "cell_type": "code",
      "source": [
        "plt.figure(figsize=(15,10))\n",
        "sns.lineplot(x = sent_df.index, y = sent_df['sentiment_scores'], data = sent_df)"
      ],
      "metadata": {
        "colab": {
          "base_uri": "https://localhost:8080/",
          "height": 609
        },
        "id": "Ec9Th6tue9ic",
        "outputId": "a9d6cfa4-e2f9-4a0d-bca7-c7c2eadfe9ec"
      },
      "execution_count": 119,
      "outputs": [
        {
          "output_type": "execute_result",
          "data": {
            "text/plain": [
              "<matplotlib.axes._subplots.AxesSubplot at 0x7f3287c2f7c0>"
            ]
          },
          "metadata": {},
          "execution_count": 119
        },
        {
          "output_type": "display_data",
          "data": {
            "text/plain": [
              "<Figure size 1080x720 with 1 Axes>"
            ],
            "image/png": "[encoded data removed]"
          },
          "metadata": {
            "needs_background": "light"
          }
        }
      ]
    },
    {
      "cell_type": "code",
      "source": [
        "string = \" \".join(sent_df[\"sentences\"])"
      ],
      "metadata": {
        "id": "aLt1WEaZfAMU"
      },
      "execution_count": 120,
      "outputs": []
    },
    {
      "cell_type": "code",
      "source": [
        "from wordcloud import WordCloud\n",
        "plt.figure(figsize = (15,8))\n",
        "wordcloud_stw = WordCloud(\n",
        "                background_color= 'black',\n",
        "                width = 1800,\n",
        "                height = 1500\n",
        "                ).generate(string)\n",
        "plt.imshow(wordcloud_stw)"
      ],
      "metadata": {
        "colab": {
          "base_uri": "https://localhost:8080/",
          "height": 504
        },
        "id": "4mP3q4ZvfDXE",
        "outputId": "eea19156-1622-4d08-af58-0e0a04497ecf"
      },
      "execution_count": 121,
      "outputs": [
        {
          "output_type": "execute_result",
          "data": {
            "text/plain": [
              "<matplotlib.image.AxesImage at 0x7f328464be80>"
            ]
          },
          "metadata": {},
          "execution_count": 121
        },
        {
          "output_type": "display_data",
          "data": {
            "text/plain": [
              "<Figure size 1080x576 with 1 Axes>"
            ],
            "image/png": "[encoded data removed]"
          },
          "metadata": {
            "needs_background": "light"
          }
        }
      ]
    },
    {
      "cell_type": "code",
      "source": [],
      "metadata": {
        "id": "v8m1WcLGfF7s"
      },
      "execution_count": null,
      "outputs": []
    }
  ],
  "metadata": {
    "colab": {
      "provenance": []
    },
    "kernelspec": {
      "display_name": "Python 3",
      "name": "python3"
    },
    "language_info": {
      "name": "python"
    }
  },
  "nbformat": 4,
  "nbformat_minor": 0
}